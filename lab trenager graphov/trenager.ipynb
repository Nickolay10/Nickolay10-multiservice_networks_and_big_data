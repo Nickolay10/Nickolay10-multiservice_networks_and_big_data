{
 "cells": [
  {
   "cell_type": "markdown",
   "id": "de8791ca",
   "metadata": {},
   "source": [
    "# Модуль Networkx. Тренажёр по работе с графами"
   ]
  },
  {
   "cell_type": "code",
   "execution_count": null,
   "id": "9308f6ce",
   "metadata": {},
   "outputs": [],
   "source": [
    "# импортируем необходимые для работы библиотеки - networkX и matplotlib\n",
    "import networkx as nx\n",
    "import matplotlib.pyplot as plt"
   ]
  },
  {
   "cell_type": "markdown",
   "id": "562f619e",
   "metadata": {},
   "source": [
    "## Создание пустого графа"
   ]
  },
  {
   "cell_type": "code",
   "execution_count": 2,
   "id": "c3b59f94",
   "metadata": {},
   "outputs": [
    {
     "name": "stdout",
     "output_type": "stream",
     "text": [
      "Создаём ориентированный граф? (y/n): n\n",
      "G = Graph with 0 nodes and 0 edges\n"
     ]
    }
   ],
   "source": [
    "is_oriented = input('Создаём ориентированный граф? (y/n): ')\n",
    "if is_oriented == 'y':\n",
    "    G = nx.DiGraph()\n",
    "else:\n",
    "    G = nx.Graph()\n",
    "print('G =', G)"
   ]
  },
  {
   "cell_type": "markdown",
   "id": "09b29444",
   "metadata": {},
   "source": [
    "## Добавление узлов"
   ]
  },
  {
   "cell_type": "code",
   "execution_count": 3,
   "id": "0b03b2d7",
   "metadata": {},
   "outputs": [
    {
     "name": "stdout",
     "output_type": "stream",
     "text": [
      "Добавить один узел? (y/n): n\n",
      "Введите названия узлов через пробел: 1 2 3 4 5 6\n"
     ]
    }
   ],
   "source": [
    "only_one = input('Добавить один узел? (y/n): ')\n",
    "if only_one == 'y':\n",
    "    node = input('Введите название узла: ')\n",
    "    G.add_node(node)\n",
    "else:\n",
    "    nodes = input('Введите названия узлов через пробел: ')\n",
    "    nodes = nodes.split()\n",
    "    G.add_nodes_from(nodes)"
   ]
  },
  {
   "cell_type": "markdown",
   "id": "3ca36e24",
   "metadata": {},
   "source": [
    "## Добавление рёбер"
   ]
  },
  {
   "cell_type": "code",
   "execution_count": 10,
   "id": "e728f046",
   "metadata": {},
   "outputs": [
    {
     "name": "stdout",
     "output_type": "stream",
     "text": [
      "Добавить одно ребро? (y/n): n\n",
      "Введите через пробел вершины для образования рёбер, для очередной пары будет образовано ребро: 7 8 5 7 5 8\n"
     ]
    }
   ],
   "source": [
    "only_one = input('Добавить одно ребро? (y/n): ')\n",
    "if only_one == 'y':\n",
    "    while True:\n",
    "        edge = input('Введите через пробел пару вершин для образорвания ребра: ')\n",
    "        edge = edge.split()\n",
    "        if len(edge) != 2:\n",
    "            print('Неправильно задано ребро!')\n",
    "        else:\n",
    "            G.add_edge(*edge)\n",
    "            break\n",
    "else:\n",
    "    while True:\n",
    "        edges = input('Введите через пробел вершины для образования рёбер, для очередной пары будет образовано ребро: ')\n",
    "        edges = edges.split()\n",
    "        if len(edges) % 2 != 0:\n",
    "            print('Рёбра должны быть образованы чётным числом вершин!')\n",
    "        else:\n",
    "            edges_list = [edges[i:i+2] for i in range(0, len(edges) - 1, 2)]\n",
    "            G.add_edges_from(edges_list)\n",
    "            break"
   ]
  },
  {
   "cell_type": "markdown",
   "id": "b14a769c",
   "metadata": {},
   "source": [
    "## Удаление узлов"
   ]
  },
  {
   "cell_type": "code",
   "execution_count": 8,
   "id": "67a9890c",
   "metadata": {},
   "outputs": [
    {
     "name": "stdout",
     "output_type": "stream",
     "text": [
      "Удалить один узел? (y/n): n\n",
      "Введите названия узлов через пробел: 1234\n",
      "Узла 1234 нет в графе! В графе имеются узлы ['1', '2', '3']\n"
     ]
    }
   ],
   "source": [
    "only_one = input('Удалить один узел? (y/n): ')\n",
    "if only_one == 'y':\n",
    "    node = input('Введите название узла: ')\n",
    "    if node not in G.nodes():\n",
    "        print(f'Узла {node} нет в графе! В графе имеются узлы {G.nodes()}')\n",
    "    else:\n",
    "        G.remove_node(node)\n",
    "else:\n",
    "    nodes = input('Введите названия узлов через пробел: ')\n",
    "    nodes = nodes.split()\n",
    "    for node in nodes:\n",
    "        if node not in G.nodes():\n",
    "            print(f'Узла {node} нет в графе! В графе имеются узлы {G.nodes()}')\n",
    "            break\n",
    "    else:\n",
    "        G.remove_nodes_from(nodes)"
   ]
  },
  {
   "cell_type": "markdown",
   "id": "ac63fb1f",
   "metadata": {},
   "source": [
    "## Удаление рёбер"
   ]
  },
  {
   "cell_type": "code",
   "execution_count": 19,
   "id": "93cc3501",
   "metadata": {},
   "outputs": [
    {
     "name": "stdout",
     "output_type": "stream",
     "text": [
      "Удалить одно ребро? (y/n): n\n",
      "Введите через пробел вершины для удаления рёбер, для очередной пары будет удалено ребро: 1 3 7 5\n"
     ]
    }
   ],
   "source": [
    "only_one = input('Удалить одно ребро? (y/n): ')\n",
    "if only_one == 'y':\n",
    "    while True:\n",
    "        edge = input('Введите через пробел пару верши для удаления ребра: ')\n",
    "        edge = tuple(edge.split())\n",
    "        if len(edge) != 2:\n",
    "            print('Неправильно задано ребро! Ребро задаётся двумя вершинами!')\n",
    "        elif edge not in G.edges():\n",
    "            print(f'Между вершинами {edge[0]} и {edge[1]} нет ребра')\n",
    "        else:\n",
    "            G.remove_edge(*edge)\n",
    "            break\n",
    "else:\n",
    "    while True:\n",
    "        edges = input('Введите через пробел вершины для удаления рёбер, для очередной пары будет удалено ребро: ')\n",
    "        edges = edges.split()\n",
    "        if len(edges) % 2 != 0:\n",
    "            print('Рёбра должны быть образованы чётным числом вершин!')\n",
    "            continue\n",
    "        edges_list = tuple(edges[i:i+2] for i in range(0, len(edges) - 1, 2))\n",
    "        for edge in edges_list:\n",
    "            if edge not in G.edges:\n",
    "                print(f'Ребра {edge} нет в графе G! Есть рёбра: {G.edges()}')\n",
    "                break\n",
    "        else:\n",
    "            edges_list = [edges[i:i+2] for i in range(0, len(edges) - 1, 2)]\n",
    "            G.remove_edges_from(edges_list)\n",
    "            break"
   ]
  },
  {
   "cell_type": "markdown",
   "id": "e53e7415",
   "metadata": {},
   "source": [
    "## Вывод информации о числе узлов и ребер графа"
   ]
  },
  {
   "cell_type": "code",
   "execution_count": 20,
   "id": "a50f93f6",
   "metadata": {},
   "outputs": [
    {
     "name": "stdout",
     "output_type": "stream",
     "text": [
      "Узлы графа: ['1', '2', '3', '7', '8', '5']\n",
      "Рёбра графа: [('1', '2'), ('7', '8'), ('8', '5')]\n",
      "Узел и его смежности:\n",
      "Для узла 1 смежными являются ['2']\n",
      "Для узла 2 смежными являются ['1']\n",
      "Для узла 3 смежными являются []\n",
      "Для узла 7 смежными являются ['8']\n",
      "Для узла 8 смежными являются ['7', '5']\n",
      "Для узла 5 смежными являются ['8']\n"
     ]
    }
   ],
   "source": [
    "print('Узлы графа:', G.nodes())\n",
    "print('Рёбра графа:', G.edges())\n",
    "print('Узел и его смежности:')\n",
    "for node, neighbour in G.adj.items():\n",
    "    neighbours = []\n",
    "    for nbr, nbr_props in neighbour.items():\n",
    "        neighbours.append(nbr)\n",
    "    print(f'Для узла {node} смежными являются {neighbours}')"
   ]
  },
  {
   "cell_type": "markdown",
   "id": "b070aa65",
   "metadata": {},
   "source": [
    "## Вывод топологии графа в графическом виде"
   ]
  },
  {
   "cell_type": "code",
   "execution_count": 22,
   "id": "9daa3f8e",
   "metadata": {},
   "outputs": [
    {
     "data": {
      "image/png": "[encoded data removed]",
      "text/plain": [
       "<Figure size 432x288 with 1 Axes>"
      ]
     },
     "metadata": {},
     "output_type": "display_data"
    }
   ],
   "source": [
    "plt.title(\"Визуализируем граф G:\")\n",
    "nx.draw_circular(G,\n",
    "         node_color='green',\n",
    "         node_size=700,\n",
    "         with_labels=True)\n",
    "plt.show()"
   ]
  },
  {
   "cell_type": "markdown",
   "id": "337580e6",
   "metadata": {},
   "source": [
    "## Сохранение топологии графа в графическом виде"
   ]
  },
  {
   "cell_type": "code",
   "execution_count": 24,
   "id": "5da0edb4",
   "metadata": {},
   "outputs": [
    {
     "data": {
      "image/png": "[encoded data removed]",
      "text/plain": [
       "<Figure size 432x288 with 1 Axes>"
      ]
     },
     "metadata": {},
     "output_type": "display_data"
    }
   ],
   "source": [
    "plt.title(\"Граф G:\")\n",
    "nx.draw_circular(G,\n",
    "         node_color='green',\n",
    "         node_size=700,\n",
    "         with_labels=True)\n",
    "plt.savefig(\"graph.png\")"
   ]
  },
  {
   "cell_type": "markdown",
   "id": "cd3d4431",
   "metadata": {},
   "source": [
    "## Сохранение топологии в формате gml"
   ]
  },
  {
   "cell_type": "code",
   "execution_count": 25,
   "id": "95a4defd",
   "metadata": {},
   "outputs": [],
   "source": [
    "nx.write_gml(G, 'graph.gml')"
   ]
  },
  {
   "cell_type": "markdown",
   "id": "017856a5",
   "metadata": {},
   "source": [
    "## Чтение графа из файла gml"
   ]
  },
  {
   "cell_type": "code",
   "execution_count": 27,
   "id": "b6ddf685",
   "metadata": {},
   "outputs": [
    {
     "data": {
      "image/png": "[encoded data removed]",
      "text/plain": [
       "<Figure size 432x288 with 1 Axes>"
      ]
     },
     "metadata": {},
     "output_type": "display_data"
    }
   ],
   "source": [
    "readed_G = nx.read_gml('graph.gml')\n",
    "plt.title(\"Граф G считанный из gml:\")\n",
    "nx.draw_circular(G,\n",
    "         node_color='green',\n",
    "         node_size=700,\n",
    "         with_labels=True)"
   ]
  }
 ],
 "metadata": {
  "kernelspec": {
   "display_name": "Python 3",
   "language": "python",
   "name": "python3"
  },
  "language_info": {
   "codemirror_mode": {
    "name": "ipython",
    "version": 3
   },
   "file_extension": ".py",
   "mimetype": "text/x-python",
   "name": "python",
   "nbconvert_exporter": "python",
   "pygments_lexer": "ipython3",
   "version": "3.8.8"
  }
 },
 "nbformat": 4,
 "nbformat_minor": 5
}
