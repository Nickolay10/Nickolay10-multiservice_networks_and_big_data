{
 "cells": [
  {
   "cell_type": "markdown",
   "id": "26833310",
   "metadata": {},
   "source": [
    "# Лабораторная работа  №2\n",
    "## Быстрый старт в использование модуля   NetworkX\n",
    "### Цель работы. Знакомство с возможностями модуля   NetworkX и получение навыков работы с ним"
   ]
  },
  {
   "cell_type": "markdown",
   "id": "86df9392",
   "metadata": {},
   "source": [
    "## Tutorial\n",
    "\n",
    "This guide can help you start working with NetworkX.  \n",
    "Это руководство поможет вам начать работу с NetworkX.\n",
    "\n",
    "### Creating a graph\n",
    "\n",
    "Create an empty graph with no nodes and no edges.  \n",
    "Создайте пустой граф без узлов и ребер."
   ]
  },
  {
   "cell_type": "code",
   "execution_count": 1,
   "id": "4312e874",
   "metadata": {
    "execution": {
     "iopub.execute_input": "2022-08-05T17:45:57.075906Z",
     "iopub.status.busy": "2022-08-05T17:45:57.075545Z",
     "iopub.status.idle": "2022-08-05T17:45:57.140639Z",
     "shell.execute_reply": "2022-08-05T17:45:57.140042Z"
    }
   },
   "outputs": [
    {
     "name": "stdout",
     "output_type": "stream",
     "text": [
      "G= Graph with 0 nodes and 0 edges\n"
     ]
    }
   ],
   "source": [
    "import networkx as nx\n",
    "G = nx.Graph()\n",
    "print(f'G= Graph with {G.number_of_nodes()} nodes and {G.number_of_edges()} edges')"
   ]
  },
  {
   "cell_type": "markdown",
   "id": "c7215af5",
   "metadata": {},
   "source": [
    "By definition, a `Graph` is a collection of nodes (vertices) along with\n",
    "identified pairs of nodes (called edges, links, etc).  In NetworkX, nodes can\n",
    "be any [hashable](https://docs.python.org/3/glossary.html#term-hashable) object e.g., a text string, an image, an XML object,\n",
    "another Graph, a customized node object, etc.\n",
    "\n",
    "По определению, «Граф» — это набор узлов (вершин) вместе с\n",
    "идентифицированные пары узлов (называемые ребрами, связями и т. д.). В NetworkX узлы могут\n",
    "быть любым [хешируемым] (https://docs.python.org/3/glossary.html#term-hashable) объектом, например, текстовой строкой, изображением, объектом XML,\n",
    "другой график, настраиваемый объект узла и т. д.\n",
    "\n",
    "# Nodes Узлы\n",
    "\n",
    "The graph `G` can be grown in several ways.    \n",
    "Граф `G` можно создать несколькими способами.  \n",
    "NetworkX includes many graph generator functions and facilities to read and write graphs in many formats.    \n",
    "NetworkX включает в себя множество функции генератора графов и средства для чтения и записи графиков во многих форматах.    \n",
    "To get started though we’ll look at simple manipulations.  You can add one node\n",
    "at a time,  \n",
    "Для начала рассмотрим простые манипуляции. Вы можете добавить один узел\n",
    "за один раз,"
   ]
  },
  {
   "cell_type": "code",
   "execution_count": 2,
   "id": "72b30f7c",
   "metadata": {
    "execution": {
     "iopub.execute_input": "2022-08-05T17:45:57.143834Z",
     "iopub.status.busy": "2022-08-05T17:45:57.143614Z",
     "iopub.status.idle": "2022-08-05T17:45:57.146646Z",
     "shell.execute_reply": "2022-08-05T17:45:57.146057Z"
    }
   },
   "outputs": [
    {
     "name": "stdout",
     "output_type": "stream",
     "text": [
      "G= Graph with 1 nodes and 0 edges\n"
     ]
    }
   ],
   "source": [
    "G.add_node(10)\n",
    "print(f'G= Graph with {G.number_of_nodes()} nodes and {G.number_of_edges()} edges')"
   ]
  },
  {
   "cell_type": "markdown",
   "id": "09df7947",
   "metadata": {},
   "source": [
    "or add nodes from any [iterable](https://docs.python.org/3/glossary.html#term-iterable) container, such as a list  \n",
    "или добавьте узлы из любого контейнера [iterable](https://docs.python.org/3/glossary.html#term-iterable), например списка"
   ]
  },
  {
   "cell_type": "code",
   "execution_count": 3,
   "id": "fd70e329",
   "metadata": {
    "execution": {
     "iopub.execute_input": "2022-08-05T17:45:57.149570Z",
     "iopub.status.busy": "2022-08-05T17:45:57.149369Z",
     "iopub.status.idle": "2022-08-05T17:45:57.152207Z",
     "shell.execute_reply": "2022-08-05T17:45:57.151624Z"
    }
   },
   "outputs": [
    {
     "name": "stdout",
     "output_type": "stream",
     "text": [
      "G= Graph with 3 nodes and 0 edges\n"
     ]
    }
   ],
   "source": [
    "G.add_nodes_from([90, 100])\n",
    "print(f'G= Graph with {G.number_of_nodes()} nodes and {G.number_of_edges()} edges')"
   ]
  },
  {
   "cell_type": "markdown",
   "id": "7606de88",
   "metadata": {},
   "source": [
    "You can also add nodes along with node\n",
    "attributes if your container yields 2-tuples of the form\n",
    "\n",
    "Вы также можете добавить узлы вместе с узлом\n",
    "атрибуты, если ваш контейнер дает 2 кортежа формы  \n",
    "`(node, node_attribute_dict)`:\n",
    "\n",
    "```\n",
    ">>> G.add_nodes_from([\n",
    "...     (4, {\"color\": \"red\"}),\n",
    "...     (5, {\"color\": \"green\"}),\n",
    "... ])\n",
    "```\n",
    "\n",
    "Node attributes are discussed further below.  \n",
    "Атрибуты узлов обсуждаются ниже.  \n",
    "Nodes from one graph can be incorporated into another:  \n",
    "Узлы из одного графа могут быть включены в другой:"
   ]
  },
  {
   "cell_type": "code",
   "execution_count": 4,
   "id": "976146b1",
   "metadata": {
    "execution": {
     "iopub.execute_input": "2022-08-05T17:45:57.155163Z",
     "iopub.status.busy": "2022-08-05T17:45:57.154959Z",
     "iopub.status.idle": "2022-08-05T17:45:57.158325Z",
     "shell.execute_reply": "2022-08-05T17:45:57.157725Z"
    }
   },
   "outputs": [
    {
     "name": "stdout",
     "output_type": "stream",
     "text": [
      "H= Graph with 5 nodes and 4 edges\n",
      "G= Graph with 8 nodes and 0 edges\n"
     ]
    }
   ],
   "source": [
    "H = nx.path_graph(5)\n",
    "print(f'H= Graph with {H.number_of_nodes()} nodes and {H.number_of_edges()} edges')\n",
    "G.add_nodes_from(H)\n",
    "print(f'G= Graph with {G.number_of_nodes()} nodes and {G.number_of_edges()} edges')"
   ]
  },
  {
   "cell_type": "markdown",
   "id": "d3e73fc5",
   "metadata": {},
   "source": [
    "`G` now contains the nodes of `H` as nodes of `G`.\n",
    "In contrast, you could use the graph `H` as a node in `G`.\n",
    "`G` теперь содержит узлы `H` как узлы `G`.\n",
    "Напротив, вы можете использовать граф «H» в качестве узла в «G»."
   ]
  },
  {
   "cell_type": "code",
   "execution_count": 5,
   "id": "23bfa775",
   "metadata": {
    "execution": {
     "iopub.execute_input": "2022-08-05T17:45:57.161045Z",
     "iopub.status.busy": "2022-08-05T17:45:57.160839Z",
     "iopub.status.idle": "2022-08-05T17:45:57.163614Z",
     "shell.execute_reply": "2022-08-05T17:45:57.163020Z"
    }
   },
   "outputs": [
    {
     "name": "stdout",
     "output_type": "stream",
     "text": [
      "G= Graph with 9 nodes and 0 edges\n"
     ]
    }
   ],
   "source": [
    "G.add_node(H)\n",
    "print(f'G= Graph with {G.number_of_nodes()} nodes and {G.number_of_edges()} edges')"
   ]
  },
  {
   "cell_type": "markdown",
   "id": "e4f5a444",
   "metadata": {},
   "source": [
    "The graph `G` now contains `H` as a node.  \n",
    "Граф `G` теперь содержит `H` в качестве узла.   \n",
    "This flexibility is very powerful as it allows graphs of graphs, graphs of files, graphs of functions and much more.  \n",
    " Эта гибкость очень эффективна, поскольку\n",
    "он позволяет создавать графики графиков, графики файлов, графики функций и многое другое.\n",
    "\n",
    "It is worth thinking about how to structure your application so that the nodes\n",
    "are useful entities. Стоит подумать о том, как структурировать ваше приложение, чтобы узлы\n",
    "являются полезными существами. \n",
    "\n",
    "Of course you can always use a unique identifier in `G` and have a separate dictionary keyed by identifier to the node information if you prefer.\n",
    "\n",
    "Конечно, вы всегда можете использовать уникальный идентификатор в `G` и иметь отдельный словарь с ключом по идентификатору для информации об узле, если Вы предпочитаете.\n",
    "\n",
    "\n",
    "# Edges\n",
    "\n",
    "`G` can also be grown by adding one edge at a time,  \n",
    "`G` также можно увеличивать, добавляя по одному ребру за раз,"
   ]
  },
  {
   "cell_type": "code",
   "execution_count": 6,
   "id": "68de92ef",
   "metadata": {
    "execution": {
     "iopub.execute_input": "2022-08-05T17:45:57.166534Z",
     "iopub.status.busy": "2022-08-05T17:45:57.166337Z",
     "iopub.status.idle": "2022-08-05T17:45:57.169344Z",
     "shell.execute_reply": "2022-08-05T17:45:57.168764Z"
    }
   },
   "outputs": [
    {
     "name": "stdout",
     "output_type": "stream",
     "text": [
      "Узлы сети= [10, 90, 100, 0, 1, 2, 3, 4, <networkx.classes.graph.Graph object at 0x00000267239F0FD0>] ; Количество узлов сети= 9\n",
      "Ребра сети= [(10, 90), (1, 4)] ; Количество ребер сети= 2\n"
     ]
    }
   ],
   "source": [
    "G.add_edge(10, 90)\n",
    "e = (1, 4)\n",
    "G.add_edge(*e)  # unpack edge tuple*\n",
    "print('Узлы сети=',G.nodes(),';' ' Количество узлов сети=', G.number_of_nodes())\n",
    "print('Ребра сети=',G.edges(),';' ' Количество ребер сети=', G.number_of_edges())"
   ]
  },
  {
   "cell_type": "markdown",
   "id": "a46aa1c1",
   "metadata": {},
   "source": [
    "by adding a list of edges,  \n",
    "добавив список ребер,"
   ]
  },
  {
   "cell_type": "code",
   "execution_count": 7,
   "id": "ff0c7e50",
   "metadata": {
    "execution": {
     "iopub.execute_input": "2022-08-05T17:45:57.172227Z",
     "iopub.status.busy": "2022-08-05T17:45:57.172019Z",
     "iopub.status.idle": "2022-08-05T17:45:57.174914Z",
     "shell.execute_reply": "2022-08-05T17:45:57.174334Z"
    }
   },
   "outputs": [
    {
     "name": "stdout",
     "output_type": "stream",
     "text": [
      "Узлы сети= [10, 90, 100, 0, 1, 2, 3, 4, <networkx.classes.graph.Graph object at 0x00000267239F0FD0>] ; Количество узлов сети= 9\n",
      "Ребра сети= [(10, 90), (10, 2), (90, 3), (1, 4)] ; Количество ребер сети= 4\n"
     ]
    }
   ],
   "source": [
    "G.add_edges_from([(90, 3), (10, 2)])\n",
    "print('Узлы сети=',G.nodes(),';' ' Количество узлов сети=', G.number_of_nodes())\n",
    "print('Ребра сети=',G.edges(),';' ' Количество ребер сети=', G.number_of_edges())"
   ]
  },
  {
   "cell_type": "markdown",
   "id": "1d9a9c78",
   "metadata": {},
   "source": [
    "or by adding any ebunch of edges.  \n",
    "или путем добавления любого множества ребер.\n",
    "\n",
    "An *ebunch* is any iterable container of edge-tuples.  \n",
    " *ebunch* — это любой итерируемый контейнер ребер-кортежей.  \n",
    " \n",
    "An edge-tuple can be a 2-tuple of nodes or a 3-tuple with 2 nodes followed by an edge attribute dictionary, e.g., `(2, 3, {'weight': 3.1415})`.   \n",
    "\n",
    "Реберный кортеж может быть 2-х элементным кортежом узлов или 3-х элементным кортежем.\n",
    "с 2 узлами, за которыми следует словарь атрибутов края, например,\n",
    "`(2, 3, {'weight': 3,1415})`.\n",
    "\n",
    "Edge attributes are discussed further below.  \n",
    "Атрибуты края обсуждаются далее ниже."
   ]
  },
  {
   "cell_type": "code",
   "execution_count": 8,
   "id": "9c3522d3",
   "metadata": {
    "execution": {
     "iopub.execute_input": "2022-08-05T17:45:57.177756Z",
     "iopub.status.busy": "2022-08-05T17:45:57.177548Z",
     "iopub.status.idle": "2022-08-05T17:45:57.180361Z",
     "shell.execute_reply": "2022-08-05T17:45:57.179784Z"
    }
   },
   "outputs": [
    {
     "name": "stdout",
     "output_type": "stream",
     "text": [
      "Узлы сети= [10, 90, 100, 0, 1, 2, 3, 4, <networkx.classes.graph.Graph object at 0x00000267239F0FD0>] ; Количество узлов сети= 9\n",
      "Ребра сети= [(10, 90), (10, 2), (90, 3), (0, 1), (1, 4), (1, 2), (2, 3), (3, 4)] ; Количество ребер сети= 8\n"
     ]
    }
   ],
   "source": [
    "G.add_edges_from(H.edges)\n",
    "print('Узлы сети=',G.nodes(),';' ' Количество узлов сети=', G.number_of_nodes())\n",
    "print('Ребра сети=',G.edges(),';' ' Количество ребер сети=', G.number_of_edges())"
   ]
  },
  {
   "cell_type": "markdown",
   "id": "35e5ff15",
   "metadata": {},
   "source": [
    "There are no complaints when adding existing nodes or edges. For example,\n",
    "after removing all nodes and edges,  \n",
    "Нет никаких жалоб при добавлении существующих узлов или ребер. Например, после удаления всех узлов и ребер,"
   ]
  },
  {
   "cell_type": "code",
   "execution_count": 9,
   "id": "8fd19bf0",
   "metadata": {
    "execution": {
     "iopub.execute_input": "2022-08-05T17:45:57.183057Z",
     "iopub.status.busy": "2022-08-05T17:45:57.182859Z",
     "iopub.status.idle": "2022-08-05T17:45:57.185548Z",
     "shell.execute_reply": "2022-08-05T17:45:57.184975Z"
    }
   },
   "outputs": [
    {
     "name": "stdout",
     "output_type": "stream",
     "text": [
      "Узлы сети= [] ; Количество узлов сети= 0\n",
      "Ребра сети= [] ; Количество ребер сети= 0\n"
     ]
    }
   ],
   "source": [
    "G.clear()\n",
    "print('Узлы сети=',G.nodes(),';' ' Количество узлов сети=', G.number_of_nodes())\n",
    "print('Ребра сети=',G.edges(),';' ' Количество ребер сети=', G.number_of_edges())"
   ]
  },
  {
   "cell_type": "markdown",
   "id": "4537e0b1",
   "metadata": {},
   "source": [
    "we add new nodes/edges and NetworkX quietly ignores any that are\n",
    "already present.   \n",
    "Мы добавляем новые узлы/ветви, и NetworkX спокойно игнорирует любые, которые\n",
    "уже присутствует."
   ]
  },
  {
   "cell_type": "code",
   "execution_count": 10,
   "id": "db8a18a8",
   "metadata": {
    "execution": {
     "iopub.execute_input": "2022-08-05T17:45:57.188400Z",
     "iopub.status.busy": "2022-08-05T17:45:57.188203Z",
     "iopub.status.idle": "2022-08-05T17:45:57.191738Z",
     "shell.execute_reply": "2022-08-05T17:45:57.191151Z"
    },
    "scrolled": true
   },
   "outputs": [
    {
     "name": "stdout",
     "output_type": "stream",
     "text": [
      "Узлы сети= [10, 90, 100] ; Количество узлов сети= 3\n",
      "Ребра сети= [(10, 90), (90, 100)] ; Количество ребер сети= 2\n"
     ]
    }
   ],
   "source": [
    "G.add_edges_from([(10, 90), (90, 100)])\n",
    "print('Узлы сети=',G.nodes(),';' ' Количество узлов сети=', G.number_of_nodes())\n",
    "print('Ребра сети=',G.edges(),';' ' Количество ребер сети=', G.number_of_edges())"
   ]
  },
  {
   "cell_type": "code",
   "execution_count": 11,
   "id": "c7d330aa",
   "metadata": {},
   "outputs": [
    {
     "name": "stdout",
     "output_type": "stream",
     "text": [
      "Узлы сети= [10, 90, 100] ; Количество узлов сети= 3\n",
      "Ребра сети= [(10, 90), (90, 100)] ; Количество ребер сети= 2\n"
     ]
    }
   ],
   "source": [
    "G.add_node(10)\n",
    "print('Узлы сети=',G.nodes(),';' ' Количество узлов сети=', G.number_of_nodes())\n",
    "print('Ребра сети=',G.edges(),';' ' Количество ребер сети=', G.number_of_edges())"
   ]
  },
  {
   "cell_type": "code",
   "execution_count": 12,
   "id": "bd468e1d",
   "metadata": {},
   "outputs": [
    {
     "name": "stdout",
     "output_type": "stream",
     "text": [
      "Узлы сети= [10, 90, 100] ; Количество узлов сети= 3\n",
      "Ребра сети= [(10, 90), (90, 100)] ; Количество ребер сети= 2\n"
     ]
    }
   ],
   "source": [
    "G.add_edge(10, 90)\n",
    "print('Узлы сети=',G.nodes(),';' ' Количество узлов сети=', G.number_of_nodes())\n",
    "print('Ребра сети=',G.edges(),';' ' Количество ребер сети=', G.number_of_edges())"
   ]
  },
  {
   "cell_type": "code",
   "execution_count": 13,
   "id": "16c45abc",
   "metadata": {},
   "outputs": [
    {
     "name": "stdout",
     "output_type": "stream",
     "text": [
      "Узлы сети= [10, 90, 100, 'rvnc'] ; Количество узлов сети= 4\n",
      "Ребра сети= [(10, 90), (90, 100)] ; Количество ребер сети= 2\n"
     ]
    }
   ],
   "source": [
    "G.add_node(\"rvnc\")        # adds node \"rvnc\"\n",
    "print('Узлы сети=',G.nodes(),';' ' Количество узлов сети=', G.number_of_nodes())\n",
    "print('Ребра сети=',G.edges(),';' ' Количество ребер сети=', G.number_of_edges())"
   ]
  },
  {
   "cell_type": "code",
   "execution_count": 14,
   "id": "9a4f23ff",
   "metadata": {},
   "outputs": [
    {
     "name": "stdout",
     "output_type": "stream",
     "text": [
      "Узлы сети= [10, 90, 100, 'rvnc', 'r', 'v', 'n', 'c'] ; Количество узлов сети= 8\n",
      "Ребра сети= [(10, 90), (90, 100)] ; Количество ребер сети= 2\n"
     ]
    }
   ],
   "source": [
    "G.add_nodes_from(\"rvnc\")  # adds 4 nodes: 'r', 'v', 'n', 'c'\n",
    "print('Узлы сети=',G.nodes(),';' ' Количество узлов сети=', G.number_of_nodes())\n",
    "print('Ребра сети=',G.edges(),';' ' Количество ребер сети=', G.number_of_edges())"
   ]
  },
  {
   "cell_type": "code",
   "execution_count": 15,
   "id": "d1dd3dbd",
   "metadata": {},
   "outputs": [
    {
     "name": "stdout",
     "output_type": "stream",
     "text": [
      "Узлы сети= [10, 90, 100, 'rvnc', 'r', 'v', 'n', 'c'] ; Количество узлов сети= 8\n",
      "Ребра сети= [(10, 90), (90, 100), (100, 'n')] ; Количество ребер сети= 3\n"
     ]
    }
   ],
   "source": [
    "G.add_edge(100, 'n')\n",
    "print('Узлы сети=',G.nodes(),';' ' Количество узлов сети=', G.number_of_nodes())\n",
    "print('Ребра сети=',G.edges(),';' ' Количество ребер сети=', G.number_of_edges())"
   ]
  },
  {
   "cell_type": "markdown",
   "id": "bb310c01",
   "metadata": {},
   "source": [
    "At this stage the graph `G` consists of 8 nodes and 3 edges, as can be seen by:\n",
    "На данном этапе граф `G` состоит из 8 узлов и 3 ребер, как видно из:"
   ]
  },
  {
   "cell_type": "code",
   "execution_count": 16,
   "id": "09145571",
   "metadata": {
    "execution": {
     "iopub.execute_input": "2022-08-05T17:45:57.194418Z",
     "iopub.status.busy": "2022-08-05T17:45:57.194211Z",
     "iopub.status.idle": "2022-08-05T17:45:57.202602Z",
     "shell.execute_reply": "2022-08-05T17:45:57.202017Z"
    }
   },
   "outputs": [
    {
     "name": "stdout",
     "output_type": "stream",
     "text": [
      "8\n",
      "3\n"
     ]
    }
   ],
   "source": [
    "print(G.number_of_nodes())\n",
    "print(G.number_of_edges())"
   ]
  },
  {
   "cell_type": "code",
   "execution_count": 17,
   "id": "53c39fca",
   "metadata": {
    "execution": {
     "iopub.execute_input": "2022-08-05T17:45:57.206426Z",
     "iopub.status.busy": "2022-08-05T17:45:57.206217Z",
     "iopub.status.idle": "2022-08-05T17:45:57.210308Z",
     "shell.execute_reply": "2022-08-05T17:45:57.209701Z"
    }
   },
   "outputs": [
    {
     "name": "stdout",
     "output_type": "stream",
     "text": [
      "A: Узлы сети= [] ; Количество узлов сети= 0\n",
      "A: Ребра сети= [] ; Количество ребер сети= 0\n",
      "B: Узлы сети= [90, 10] ; Количество узлов сети= 2\n",
      "B: Ребра сети= [(90, 10)] ; Количество ребер сети= 1\n",
      "C: Узлы сети= [90, 10, 100] ; Количество узлов сети= 3\n",
      "C: Ребра сети= [(90, 10), (10, 100)] ; Количество ребер сети= 2\n",
      "D: Узлы сети= [90, 10, 100, 1] ; Количество узлов сети= 4\n",
      "D: Ребра сети= [(90, 10), (90, 1), (10, 100)] ; Количество ребер сети= 3\n",
      "E: Узлы сети= [90, 10, 100, 1] ; Количество узлов сети= 4\n",
      "E: Ребра сети= [(90, 10), (90, 1), (10, 100), (10, 90)] ; Количество ребер сети= 4\n",
      "F: Узлы сети= [90, 10, 100, 1] ; Количество узлов сети= 4\n",
      "F: Ребра сети= [(90, 10), (90, 1), (10, 100), (10, 90)] ; Количество ребер сети= 4\n",
      "G: Узлы сети= [90, 10, 100, 1] ; Количество узлов сети= 4\n",
      "G: Ребра сети= [(90, 10), (90, 1), (10, 100), (10, 90)] ; Количество ребер сети= 4\n"
     ]
    }
   ],
   "source": [
    "DG = nx.DiGraph()\n",
    "print('A: Узлы сети=',DG.nodes(),';' ' Количество узлов сети=', DG.number_of_nodes())\n",
    "print('A: Ребра сети=',DG.edges(),';' ' Количество ребер сети=', DG.number_of_edges())\n",
    "DG.add_edge(90, 10)   # adds the nodes in order 90, 10\n",
    "print('B: Узлы сети=',DG.nodes(),';' ' Количество узлов сети=', DG.number_of_nodes())\n",
    "print('B: Ребра сети=',DG.edges(),';' ' Количество ребер сети=', DG.number_of_edges())\n",
    "DG.add_edge(10, 100)\n",
    "print('C: Узлы сети=',DG.nodes(),';' ' Количество узлов сети=', DG.number_of_nodes())\n",
    "print('C: Ребра сети=',DG.edges(),';' ' Количество ребер сети=', DG.number_of_edges())\n",
    "DG.add_edge(90, 1)\n",
    "print('D: Узлы сети=',DG.nodes(),';' ' Количество узлов сети=', DG.number_of_nodes())\n",
    "print('D: Ребра сети=',DG.edges(),';' ' Количество ребер сети=', DG.number_of_edges())\n",
    "DG.add_edge(10, 90)\n",
    "print('E: Узлы сети=',DG.nodes(),';' ' Количество узлов сети=', DG.number_of_nodes())\n",
    "print('E: Ребра сети=',DG.edges(),';' ' Количество ребер сети=', DG.number_of_edges())\n",
    "assert list(DG.successors(90)) == [10, 1]\n",
    "print('F: Узлы сети=',DG.nodes(),';' ' Количество узлов сети=', DG.number_of_nodes())\n",
    "print('F: Ребра сети=',DG.edges(),';' ' Количество ребер сети=', DG.number_of_edges())\n",
    "assert list(DG.edges) == [(90, 10), (90, 1), (10, 100), (10, 90)]\n",
    "print('G: Узлы сети=',DG.nodes(),';' ' Количество узлов сети=', DG.number_of_nodes())\n",
    "print('G: Ребра сети=',DG.edges(),';' ' Количество ребер сети=', DG.number_of_edges())"
   ]
  },
  {
   "cell_type": "markdown",
   "id": "0f33496d",
   "metadata": {},
   "source": [
    "# Examining elements of a graph  \n",
    "Изучение элементов графа\n",
    "\n",
    "We can examine the nodes and edges.  \n",
    "Мы можем исследовать узлы и ребра.  \n",
    "\n",
    "Four basic graph properties facilitate reporting: `G.nodes`, `G.edges`, `G.adj` and `G.degree`.  \n",
    "Четыре основных свойства графа упрощают составление отчетов: G.nodes, G.edges, G.adj и G.grade.\n",
    "\n",
    "These are set-like views of the nodes, edges, neighbors (adjacencies), and degrees\n",
    "of nodes in a graph.\n",
    "Это наборные представления узлов, ребер, соседей (смежностей) и степеней узлов в графе\n",
    "\n",
    "They offer a continually updated read-only view into the graph structure.\n",
    "Они предлагают постоянно обновляемое представление структуры графа только для чтения.\n",
    "\n",
    "They are also dict-like in that you can look up node and edge data attributes via the views and iterate with data attributes using methods `.items()`, `.data()`.   \n",
    "Они также похожи на dict в том смысле, что вы можете искать атрибуты данных узлов и ребер через представления и выполнять итерацию с атрибутами данных, используя методы .items(), .data().\n",
    "\n",
    "If you want a specific container type instead of a view, you can specify one.\n",
    "Если вам нужен конкретный тип контейнера вместо представления, вы можете указать его.\n",
    "\n",
    "Here we use lists, though sets, dicts, tuples and other containers may be better in other contexts.  \n",
    "Здесь мы используем списки, хотя наборы, словари, кортежи и другие контейнеры могут быть лучше в других контекстах."
   ]
  },
  {
   "cell_type": "code",
   "execution_count": 18,
   "id": "113d3fc6",
   "metadata": {
    "execution": {
     "iopub.execute_input": "2022-08-05T17:45:57.213109Z",
     "iopub.status.busy": "2022-08-05T17:45:57.212910Z",
     "iopub.status.idle": "2022-08-05T17:45:57.217233Z",
     "shell.execute_reply": "2022-08-05T17:45:57.216643Z"
    }
   },
   "outputs": [
    {
     "name": "stdout",
     "output_type": "stream",
     "text": [
      "list(G.nodes)= [10, 90, 100, 'rvnc', 'r', 'v', 'n', 'c'] len(list(G.nodes))= 8\n",
      "list(G.edges)= [(10, 90), (90, 100), (100, 'n')] len(list(G.edges))= 3\n",
      "list(G.adj[10])= [90]\n",
      "G.degree[10]= 1\n"
     ]
    }
   ],
   "source": [
    "print('list(G.nodes)=',list(G.nodes),'len(list(G.nodes))=',len(list(G.nodes)))\n",
    "print('list(G.edges)=',list(G.edges), 'len(list(G.edges))=',len(list(G.edges)))\n",
    "list(G.adj[10])  # or list(G.neighbors(10))\n",
    "print('list(G.adj[10])=',list(G.adj[10]))\n",
    "G.degree[10]  # the number of edges incident to 10\n",
    "print(\"G.degree[10]=\",G.degree[10])"
   ]
  },
  {
   "cell_type": "code",
   "execution_count": 19,
   "id": "888495b4",
   "metadata": {},
   "outputs": [
    {
     "data": {
      "image/png": "[encoded data removed]",
      "text/plain": [
       "<Figure size 432x288 with 1 Axes>"
      ]
     },
     "metadata": {},
     "output_type": "display_data"
    }
   ],
   "source": [
    "import matplotlib.pyplot as plt\n",
    "# Визуализируем граф:\n",
    "# Метод nx.draw_circular() располагает узлы по кругу \n",
    "plt.title(\"Визуализируем граф:\")\n",
    "nx.draw_circular(G,\n",
    "         node_color='green',\n",
    "         node_size=800,\n",
    "         with_labels=True)\n",
    "plt.show()"
   ]
  },
  {
   "cell_type": "markdown",
   "id": "a6cbee63",
   "metadata": {},
   "source": [
    "One can specify to report the edges and degree from a subset of all nodes using an nbunch.   \n",
    "\n",
    "Можно указать сообщать о ребрах и степени из подмножества всех узлов, используя nbunch.\n",
    "\n",
    "An *nbunch* is any of: `None` (meaning all nodes), a node, or an iterable container of nodes that is not itself a node in the graph.  \n",
    "\n",
    "*nbunch* может быть любым из: `None` (имеется в виду все узлы), узел или итерируемый контейнер узлов, который сам не является узлом в граф."
   ]
  },
  {
   "cell_type": "code",
   "execution_count": 20,
   "id": "6ddf29c7",
   "metadata": {
    "execution": {
     "iopub.execute_input": "2022-08-05T17:45:57.221192Z",
     "iopub.status.busy": "2022-08-05T17:45:57.220984Z",
     "iopub.status.idle": "2022-08-05T17:45:57.225020Z",
     "shell.execute_reply": "2022-08-05T17:45:57.224432Z"
    }
   },
   "outputs": [
    {
     "name": "stdout",
     "output_type": "stream",
     "text": [
      "[('n', 100), (10, 90)]\n",
      "[(90, 2), (100, 2)]\n"
     ]
    }
   ],
   "source": [
    "print(G.edges(['n', 10]))\n",
    "print(G.degree([90, 100]))"
   ]
  },
  {
   "cell_type": "markdown",
   "id": "c3325d86",
   "metadata": {},
   "source": [
    "# Removing elements from a graph\n",
    "Удаление элементов из графика\n",
    "\n",
    "One can remove nodes and edges from the graph in a similar fashion to adding.\n",
    "Use methods\n",
    "\n",
    "Можно удалять узлы и ребра из графа аналогично добавлению.\n",
    "Используйте методы  \n",
    "\n",
    "`Graph.remove_node()`, \n",
    "\n",
    "`Graph.remove_nodes_from()`,\n",
    "\n",
    "`Graph.remove_edge()  \n",
    "`\n",
    "and \n",
    "\n",
    "`Graph.remove_edges_from()`, e.g."
   ]
  },
  {
   "cell_type": "code",
   "execution_count": 21,
   "id": "551177cd",
   "metadata": {},
   "outputs": [
    {
     "name": "stdout",
     "output_type": "stream",
     "text": [
      "list(G.nodes)= [10, 20, 30, 40, 50, 'rvnc'] len(list(G.nodes))= 6\n",
      "list(G.edges)= [(10, 20), (10, 30), (10, 40), (20, 'rvnc'), (30, 'rvnc'), (30, 50)] len(list(G.edges))= 6\n"
     ]
    }
   ],
   "source": [
    "# Создадим экземпляр класса nx.Graph\n",
    "G = nx.Graph()\n",
    "G.add_nodes_from([10,20,30,40,50,\"rvnc\"]) \n",
    "G.add_edges_from([(10, 20), (10, 30),('rvnc',20),('rvnc',30),(10,40),(30,50)])\n",
    "\n",
    "print('list(G.nodes)=',list(G.nodes),'len(list(G.nodes))=',len(list(G.nodes)))\n",
    "print('list(G.edges)=',list(G.edges), 'len(list(G.edges))=',len(list(G.edges)))"
   ]
  },
  {
   "cell_type": "code",
   "execution_count": 22,
   "id": "98909e74",
   "metadata": {},
   "outputs": [
    {
     "data": {
      "image/png": "[encoded data removed]",
      "text/plain": [
       "<Figure size 432x288 with 1 Axes>"
      ]
     },
     "metadata": {},
     "output_type": "display_data"
    }
   ],
   "source": [
    "import matplotlib.pyplot as plt\n",
    "# Визуализируем граф:\n",
    "# Метод nx.draw_circular() располагает узлы по кругу \n",
    "plt.title(\"Визуализируем граф:\")\n",
    "nx.draw_circular(G,\n",
    "         node_color='green',\n",
    "         node_size=700,\n",
    "         with_labels=True)\n",
    "plt.show()"
   ]
  },
  {
   "cell_type": "code",
   "execution_count": 23,
   "id": "9e5726cf",
   "metadata": {
    "execution": {
     "iopub.execute_input": "2022-08-05T17:45:57.228293Z",
     "iopub.status.busy": "2022-08-05T17:45:57.228093Z",
     "iopub.status.idle": "2022-08-05T17:45:57.231209Z",
     "shell.execute_reply": "2022-08-05T17:45:57.230621Z"
    }
   },
   "outputs": [
    {
     "name": "stdout",
     "output_type": "stream",
     "text": [
      "A: list(G.nodes)= [10, 30, 40, 50, 'rvnc'] len(list(G.nodes))= 5\n",
      "A: list(G.edges)= [(10, 30), (10, 40), (30, 'rvnc'), (30, 50)] len(list(G.edges))= 4\n",
      "B: list(G.nodes)= [10, 30, 40, 50] len(list(G.nodes))= 4\n",
      "B: list(G.edges)= [(10, 30), (10, 40), (30, 50)] len(list(G.edges))= 3\n",
      "C: list(G.nodes)= [10, 30, 40, 50] len(list(G.nodes))= 4\n",
      "C: list(G.edges)= [(10, 40), (30, 50)] len(list(G.edges))= 2\n"
     ]
    }
   ],
   "source": [
    "G.remove_node(20)\n",
    "print('A: list(G.nodes)=',list(G.nodes),'len(list(G.nodes))=',len(list(G.nodes)))\n",
    "print('A: list(G.edges)=',list(G.edges), 'len(list(G.edges))=',len(list(G.edges)))\n",
    "G.remove_nodes_from([\"rvnc\"])\n",
    "print('B: list(G.nodes)=',list(G.nodes),'len(list(G.nodes))=',len(list(G.nodes)))\n",
    "print('B: list(G.edges)=',list(G.edges), 'len(list(G.edges))=',len(list(G.edges)))\n",
    "G.remove_edge(10, 30)\n",
    "print('C: list(G.nodes)=',list(G.nodes),'len(list(G.nodes))=',len(list(G.nodes)))\n",
    "print('C: list(G.edges)=',list(G.edges), 'len(list(G.edges))=',len(list(G.edges)))"
   ]
  },
  {
   "cell_type": "code",
   "execution_count": 24,
   "id": "149d1782",
   "metadata": {},
   "outputs": [
    {
     "data": {
      "image/png": "[encoded data removed]",
      "text/plain": [
       "<Figure size 432x288 with 1 Axes>"
      ]
     },
     "metadata": {},
     "output_type": "display_data"
    }
   ],
   "source": [
    "import matplotlib.pyplot as plt\n",
    "# Визуализируем граф:\n",
    "# Метод nx.draw_circular() располагает узлы по кругу \n",
    "plt.title(\"Визуализируем граф:\")\n",
    "nx.draw_circular(G,\n",
    "         node_color='green',\n",
    "         node_size=800,\n",
    "         with_labels=True)\n",
    "plt.show()"
   ]
  },
  {
   "cell_type": "markdown",
   "id": "a6a004d2",
   "metadata": {},
   "source": [
    "# Using the graph constructors\n",
    "Использование конструкторов графов\n",
    "\n",
    "Graph objects do not have to be built up incrementally - data specifying graph structure can be passed directly to the constructors of the various graph classes.\n",
    "\n",
    "Объекты графа не должны строиться постепенно — указание данных структура графа может быть передана непосредственно в конструкторы различных графические классы.\n",
    "\n",
    "When creating a graph structure by instantiating one of the graph classes you can specify data in several formats.\n",
    "\n",
    "При создании структуры графа путем создания экземпляра одного из графов\n",
    "В классах можно указывать данные в нескольких форматах."
   ]
  },
  {
   "cell_type": "code",
   "execution_count": 25,
   "id": "a76f7164",
   "metadata": {
    "execution": {
     "iopub.execute_input": "2022-08-05T17:45:57.234018Z",
     "iopub.status.busy": "2022-08-05T17:45:57.233798Z",
     "iopub.status.idle": "2022-08-05T17:45:57.460881Z",
     "shell.execute_reply": "2022-08-05T17:45:57.460298Z"
    }
   },
   "outputs": [
    {
     "name": "stdout",
     "output_type": "stream",
     "text": [
      "list(G.nodes)= [12, 13, 14, 15, 16, 'rvnc'] len(list(G.nodes))= 6\n",
      "list(G.edges)= [(12, 14), (12, 15), (13, 'rvnc'), (14, 'rvnc'), (14, 16)] len(list(G.edges))= 5\n",
      "list(H.edges())= [(12, 14), (12, 15), (12, 13), (13, 'rvnc'), (13, 12), (14, 12), (14, 'rvnc'), (14, 16), (15, 12), (16, 14), ('rvnc', 13), ('rvnc', 14)]\n"
     ]
    }
   ],
   "source": [
    "# Создадим экземпляр класса nx.Graph\n",
    "G = nx.Graph()\n",
    "G.add_nodes_from([12,13,14,15,16,\"rvnc\"]) \n",
    "G.add_edges_from([(12, 14),('rvnc',13),('rvnc',14),(12,15),(14,16)])\n",
    "print('list(G.nodes)=',list(G.nodes),'len(list(G.nodes))=',len(list(G.nodes)))\n",
    "print('list(G.edges)=',list(G.edges), 'len(list(G.edges))=',len(list(G.edges)))\n",
    "\n",
    "G.add_edge(12, 13)\n",
    "H = nx.DiGraph(G)  # create a DiGraph using the connections from G\n",
    "print('list(H.edges())=',list(H.edges()))"
   ]
  },
  {
   "cell_type": "code",
   "execution_count": 26,
   "id": "8f718690",
   "metadata": {},
   "outputs": [
    {
     "data": {
      "image/png": "[encoded data removed]",
      "text/plain": [
       "<Figure size 432x288 with 1 Axes>"
      ]
     },
     "metadata": {},
     "output_type": "display_data"
    }
   ],
   "source": [
    "import matplotlib.pyplot as plt\n",
    "# Визуализируем граф:\n",
    "# Метод nx.draw_circular() располагает узлы по кругу \n",
    "plt.title(\"Визуализируем граф H = nx.DiGraph(G):\")\n",
    "nx.draw_circular(H,\n",
    "         node_color='green',\n",
    "         node_size=1000,\n",
    "         with_labels=True)\n",
    "plt.show()"
   ]
  },
  {
   "cell_type": "code",
   "execution_count": 27,
   "id": "be3daf0e",
   "metadata": {},
   "outputs": [
    {
     "name": "stdout",
     "output_type": "stream",
     "text": [
      "list(H.nodes)= [5, 15, 20, 26] len(list(H.nodes))= 4\n",
      "list(H.edges)= [(5, 15), (15, 20), (20, 26)] len(list(H.edges))= 3\n"
     ]
    }
   ],
   "source": [
    "edgelist = [(5, 15), (15, 20), (20, 26)]\n",
    "H = nx.Graph(edgelist)  # create a graph from an edge list\n",
    "# list(H.edges())\n",
    "print('list(H.nodes)=',list(H.nodes),'len(list(H.nodes))=',len(list(H.nodes)))\n",
    "print('list(H.edges)=',list(H.edges), 'len(list(H.edges))=',len(list(H.edges)))"
   ]
  },
  {
   "cell_type": "code",
   "execution_count": 28,
   "id": "7cfd5db4",
   "metadata": {},
   "outputs": [
    {
     "data": {
      "image/png": "[encoded data removed]",
      "text/plain": [
       "<Figure size 432x288 with 1 Axes>"
      ]
     },
     "metadata": {},
     "output_type": "display_data"
    }
   ],
   "source": [
    "import matplotlib.pyplot as plt\n",
    "# Визуализируем граф:\n",
    "# Метод nx.draw_circular() располагает узлы по кругу \n",
    "plt.title(\"edgelist = [(5, 15), (15, 20), (20, 26)]\\n H = nx.Graph(edgelist)\")\n",
    "nx.draw_circular(H,\n",
    "         node_color='green',\n",
    "         node_size=800,\n",
    "         with_labels=True)\n",
    "plt.show()"
   ]
  },
  {
   "cell_type": "code",
   "execution_count": 29,
   "id": "547e6d97",
   "metadata": {},
   "outputs": [
    {
     "name": "stdout",
     "output_type": "stream",
     "text": [
      "list(H.nodes)= [10, 21, 56] len(list(H.nodes))= 3\n",
      "list(H.edges)= [(10, 21), (10, 56), (21, 56)] len(list(H.edges))= 3\n"
     ]
    }
   ],
   "source": [
    "# cоздаём граф через указание вершин-связей\n",
    "adjacency_dict = {10: (21, 56), 21: (10, 56), 56: (10, 21)}\n",
    "H = nx.Graph(adjacency_dict)\n",
    "print('list(H.nodes)=',list(H.nodes),'len(list(H.nodes))=',len(list(H.nodes)))\n",
    "print('list(H.edges)=',list(H.edges), 'len(list(H.edges))=',len(list(H.edges)))"
   ]
  },
  {
   "cell_type": "code",
   "execution_count": 30,
   "id": "35a520cd",
   "metadata": {},
   "outputs": [
    {
     "data": {
      "image/png": "[encoded data removed]",
      "text/plain": [
       "<Figure size 432x288 with 1 Axes>"
      ]
     },
     "metadata": {},
     "output_type": "display_data"
    }
   ],
   "source": [
    "import matplotlib.pyplot as plt\n",
    "# Визуализируем граф:\n",
    "# Метод nx.draw_circular() располагает узлы по кругу \n",
    "plt.title(\"adjacency_dict = {10: (21, 56), 21: (10, 56), 56: (10, 21)}\\n H = nx.Graph(adjacency_dict)\")\n",
    "nx.draw_circular(H,\n",
    "         node_color='green',\n",
    "         node_size=700,\n",
    "         with_labels=True)\n",
    "plt.show()"
   ]
  },
  {
   "cell_type": "markdown",
   "id": "4a918e67",
   "metadata": {},
   "source": [
    "# What to use as nodes and edges  \n",
    "Что использовать в качестве узлов и ребер\n",
    "\n",
    "You might notice that nodes and edges are not specified as NetworkX objects.  \n",
    "Вы могли заметить, что узлы и ребра не указаны как NetworkX объекты.   \n",
    "\n",
    "This leaves you free to use meaningful items as nodes and edges.  \n",
    "Это дает вам свободу использовать значимые элементы в качестве узлов и ребра. \n",
    "\n",
    "The most common choices are numbers or strings, but a node can be any hashable object (except `None`), and an edge can be associated with any object `x` using `G.add_edge(n1, n2, object=x)`.\n",
    "\n",
    "Наиболее распространенными вариантами являются числа или строки, но узел может быть любым хешируемым объектом (кроме None), и ребро может быть связано с любым объектом `x`, используя `G.add_edge(n1, n2, object=x)`.\n",
    "\n",
    "As an example, `n1` and `n2` could be protein objects from the RCSB Protein\n",
    "Data Bank, and `x` could refer to an XML record of publications detailing\n",
    "experimental observations of their interaction.  \n",
    "Например, «n1» и «n2» могут быть белковыми объектами из RCSB Protein.\n",
    "Data Bank, а `x` может относиться к записи XML с подробным описанием публикаций.\n",
    "экспериментальные наблюдения за их взаимодействием.\n",
    "\n",
    "We have found this power quite useful, but its abuse\n",
    "can lead to surprising behavior unless one is familiar with Python.  \n",
    "Мы нашли эту силу весьма полезной, но злоупотребление ею\n",
    "может привести к неожиданному поведению, если только вы не знакомы с Python.\n",
    "\n",
    "If in doubt, consider using `convert_node_labels_to_integers()` to obtain\n",
    "a more traditional graph with integer labels.  \n",
    "Если вы сомневаетесь, рассмотрите возможность использования `convert_node_labels_to_integers()` для получения более традиционный граф с целочисленными метками.\n",
    "\n",
    "\n",
    "# Accessing edges and neighbors\n",
    "Доступ к ребрам и соседям  \n",
    "\n",
    "In addition to the views `Graph.edges`, and `Graph.adj`,\n",
    "access to edges and neighbors is possible using subscript notation.  \n",
    "В дополнение к представлениям `Graph.edges` и `Graph.adj`,\n",
    "доступ к ребрам и соседям возможен с использованием индексной записи."
   ]
  },
  {
   "cell_type": "code",
   "execution_count": 31,
   "id": "7d82ee1c",
   "metadata": {
    "execution": {
     "iopub.execute_input": "2022-08-05T17:45:57.464035Z",
     "iopub.status.busy": "2022-08-05T17:45:57.463727Z",
     "iopub.status.idle": "2022-08-05T17:45:57.469582Z",
     "shell.execute_reply": "2022-08-05T17:45:57.468998Z"
    }
   },
   "outputs": [
    {
     "name": "stdout",
     "output_type": "stream",
     "text": [
      "G= Graph with 2 nodes and 1 edges\n",
      "G[14]= {42: {'color': 'red'}}\n",
      "G[14][42]= {'color': 'red'}\n",
      "G.edges[14, 42]= {'color': 'red'}\n"
     ]
    }
   ],
   "source": [
    "G = nx.Graph([(14, 42, {\"color\": \"red\"})])\n",
    "print(f'G= Graph with {G.number_of_nodes()} nodes and {G.number_of_edges()} edges')\n",
    "print('G[14]=',G[14])  # same as G.adj[1]\n",
    "print('G[14][42]=',G[14][42])\n",
    "print('G.edges[14, 42]=',G.edges[14, 42])"
   ]
  },
  {
   "cell_type": "markdown",
   "id": "85d257c1",
   "metadata": {},
   "source": [
    "You can get/set the attributes of an edge using subscript notation\n",
    "if the edge already exists.  \n",
    "\n",
    "Вы можете получить/установить атрибуты ребра, используя индексную запись\n",
    "если ребро уже существует."
   ]
  },
  {
   "cell_type": "code",
   "execution_count": 32,
   "id": "9c60da4f",
   "metadata": {
    "execution": {
     "iopub.execute_input": "2022-08-05T17:45:57.472431Z",
     "iopub.status.busy": "2022-08-05T17:45:57.472219Z",
     "iopub.status.idle": "2022-08-05T17:45:57.476725Z",
     "shell.execute_reply": "2022-08-05T17:45:57.476146Z"
    }
   },
   "outputs": [
    {
     "data": {
      "text/plain": [
       "{'color': 'pink'}"
      ]
     },
     "execution_count": 32,
     "metadata": {},
     "output_type": "execute_result"
    }
   ],
   "source": [
    "G.add_edge(10, 30)\n",
    "G[10][30]['color'] = \"orange\"\n",
    "G.edges[14, 42]['color'] = \"pink\"\n",
    "G.edges[14, 42]"
   ]
  },
  {
   "cell_type": "markdown",
   "id": "09ab331d",
   "metadata": {},
   "source": [
    "Fast examination of all (node, adjacency) pairs is achieved using\n",
    "`G.adjacency()`, or `G.adj.items()`.\n",
    "Note that for undirected graphs, adjacency iteration sees each edge twice.  \n",
    "\n",
    "Быстрое рассмотрение всех пар (узел, смежность) достигается с помощью\n",
    "`G.adjacency()` или `G.adj.items()`.\n",
    "Обратите внимание, что для неориентированных графов при итерации смежности каждое ребро просматривается дважды."
   ]
  },
  {
   "cell_type": "code",
   "execution_count": 33,
   "id": "610b76a5",
   "metadata": {
    "execution": {
     "iopub.execute_input": "2022-08-05T17:45:57.480030Z",
     "iopub.status.busy": "2022-08-05T17:45:57.479821Z",
     "iopub.status.idle": "2022-08-05T17:45:57.484772Z",
     "shell.execute_reply": "2022-08-05T17:45:57.483865Z"
    }
   },
   "outputs": [
    {
     "name": "stdout",
     "output_type": "stream",
     "text": [
      "(56, 34, 0.134)\n",
      "(34, 56, 0.134)\n",
      "(100, 214, 0.46)\n",
      "(214, 100, 0.46)\n"
     ]
    }
   ],
   "source": [
    "FG = nx.Graph()\n",
    "FG.add_weighted_edges_from([(56, 34, 0.134), (56, 100, 0.76), (34, 214, 1.7), (100, 214, 0.46)])\n",
    "for n, nbrs in FG.adj.items():\n",
    "   for nbr, nattr in nbrs.items():\n",
    "       wt = nattr['weight']\n",
    "       if wt < 0.5: print(f\"({n}, {nbr}, {wt:.3})\")"
   ]
  },
  {
   "cell_type": "markdown",
   "id": "19692af6",
   "metadata": {},
   "source": [
    "Convenient access to all edges is achieved with the edges property.  \n",
    "Удобный доступ ко всем ребрам достигается с помощью свойства Edges."
   ]
  },
  {
   "cell_type": "code",
   "execution_count": 34,
   "id": "e42c931e",
   "metadata": {
    "execution": {
     "iopub.execute_input": "2022-08-05T17:45:57.488465Z",
     "iopub.status.busy": "2022-08-05T17:45:57.488262Z",
     "iopub.status.idle": "2022-08-05T17:45:57.491857Z",
     "shell.execute_reply": "2022-08-05T17:45:57.491244Z"
    }
   },
   "outputs": [
    {
     "name": "stdout",
     "output_type": "stream",
     "text": [
      "(56, 34, 0.134)\n",
      "(100, 214, 0.46)\n"
     ]
    }
   ],
   "source": [
    "for (u, v, wt) in FG.edges.data('weight'):\n",
    "    if wt < 0.5:\n",
    "        print(f\"({u}, {v}, {wt:.3})\")"
   ]
  },
  {
   "cell_type": "markdown",
   "id": "bbb02eeb",
   "metadata": {},
   "source": [
    "# Adding attributes to graphs, nodes, and edges\n",
    "Добавление атрибутов к графам, узлам и ребрам¶\n",
    "\n",
    "Attributes such as weights, labels, colors, or whatever Python object you like,\n",
    "can be attached to graphs, nodes, or edges. \n",
    "\n",
    "Атрибуты, такие как веса, метки, цвета или любые другие объекты Python, которые вам нравятся, могут быть присоединены к графам, узлам или ребрам. \n",
    "\n",
    "Each graph, node, and edge can hold key/value attribute pairs in an associated\n",
    "attribute dictionary (the keys must be hashable).    \n",
    "Каждый граф, узел и ребро могут содержать пары атрибутов ключ/значение в связанном\n",
    "словарь атрибутов (ключи должны быть хешируемыми).\n",
    "\n",
    "By default these are empty,\n",
    "but attributes can be added or changed using `add_edge`, `add_node` or direct\n",
    "manipulation of the attribute dictionaries named `G.graph`, `G.nodes`, and\n",
    "`G.edges` for a graph `G`.\n",
    "\n",
    " По умолчанию они пусты,\n",
    "но атрибуты могут быть добавлены или изменены с помощью `add_edge`, `add_node` или напрямую\n",
    "манипулирование словарями атрибутов с именами `G.graph`, `G.nodes` и\n",
    "`G.edges` для графа `G`.\n",
    "\n",
    "## Graph attributes\n",
    "Атрибуты графа¶\n",
    "\n",
    "Assign graph attributes when creating a new graph  \n",
    "Назначение атрибутов графа при создании нового графа"
   ]
  },
  {
   "cell_type": "code",
   "execution_count": 35,
   "id": "6126842b",
   "metadata": {
    "execution": {
     "iopub.execute_input": "2022-08-05T17:45:57.495391Z",
     "iopub.status.busy": "2022-08-05T17:45:57.495181Z",
     "iopub.status.idle": "2022-08-05T17:45:57.499159Z",
     "shell.execute_reply": "2022-08-05T17:45:57.498566Z"
    }
   },
   "outputs": [
    {
     "data": {
      "text/plain": [
       "{'day': 'Saturday'}"
      ]
     },
     "execution_count": 35,
     "metadata": {},
     "output_type": "execute_result"
    }
   ],
   "source": [
    "G = nx.Graph(day=\"Saturday\")\n",
    "G.graph"
   ]
  },
  {
   "cell_type": "markdown",
   "id": "1626034a",
   "metadata": {},
   "source": [
    "Or you can modify attributes later  \n",
    "Или вы можете изменить атрибуты позже"
   ]
  },
  {
   "cell_type": "code",
   "execution_count": 36,
   "id": "ffeded2d",
   "metadata": {
    "execution": {
     "iopub.execute_input": "2022-08-05T17:45:57.502690Z",
     "iopub.status.busy": "2022-08-05T17:45:57.502493Z",
     "iopub.status.idle": "2022-08-05T17:45:57.506357Z",
     "shell.execute_reply": "2022-08-05T17:45:57.505755Z"
    }
   },
   "outputs": [
    {
     "data": {
      "text/plain": [
       "{'day': 'Tuesday'}"
      ]
     },
     "execution_count": 36,
     "metadata": {},
     "output_type": "execute_result"
    }
   ],
   "source": [
    "G.graph['day'] = \"Tuesday\"\n",
    "G.graph"
   ]
  },
  {
   "cell_type": "markdown",
   "id": "40c64f41",
   "metadata": {},
   "source": [
    "# Node attributes\n",
    "Атрибуты узла¶\n",
    "Add node attributes using `add_node()`, `add_nodes_from()`, or `G.nodes`  \n",
    "Добавьте атрибуты узла, используя add_node(), add_nodes_from() или G.nodes."
   ]
  },
  {
   "cell_type": "code",
   "execution_count": 37,
   "id": "6446e720",
   "metadata": {
    "execution": {
     "iopub.execute_input": "2022-08-05T17:45:57.510220Z",
     "iopub.status.busy": "2022-08-05T17:45:57.510012Z",
     "iopub.status.idle": "2022-08-05T17:45:57.514705Z",
     "shell.execute_reply": "2022-08-05T17:45:57.514121Z"
    }
   },
   "outputs": [
    {
     "data": {
      "text/plain": [
       "NodeDataView({10: {'time': '10pm', 'room': 714}, 30: {'time': '3pm'}})"
      ]
     },
     "execution_count": 37,
     "metadata": {},
     "output_type": "execute_result"
    }
   ],
   "source": [
    "G.add_node(10, time='10pm')\n",
    "G.add_nodes_from([30], time='3pm')\n",
    "G.nodes[10]['room'] = 714\n",
    "G.nodes.data()"
   ]
  },
  {
   "cell_type": "markdown",
   "id": "be5fab88",
   "metadata": {},
   "source": [
    "Note that adding a node to `G.nodes` does not add it to the graph, use\n",
    "`G.add_node()` to add new nodes. Similarly for edges.  \n",
    "Обратите внимание, что добавление узла в `G.nodes` не добавляет его в граф, используйте\n",
    "`G.add_node()` для добавления новых узлов. Аналогично для ребер.\n",
    "\n",
    "\n",
    "# Edge Attributes  \n",
    "# Атрибуты ребер\n",
    "\n",
    "Add/change edge attributes using `add_edge()`, `add_edges_from()`,\n",
    "or subscript notation.  \n",
    "Добавить/изменить атрибуты ребра, используя `add_edge()`, `add_edges_from()`,\n",
    "или индексное обозначение.\n"
   ]
  },
  {
   "cell_type": "code",
   "execution_count": 38,
   "id": "0c24471c",
   "metadata": {
    "execution": {
     "iopub.execute_input": "2022-08-05T17:45:57.518034Z",
     "iopub.status.busy": "2022-08-05T17:45:57.517820Z",
     "iopub.status.idle": "2022-08-05T17:45:57.521817Z",
     "shell.execute_reply": "2022-08-05T17:45:57.521226Z"
    }
   },
   "outputs": [],
   "source": [
    "G.add_edge(0, 1, weight=3.2)\n",
    "G.add_edges_from([(2, 3), (3, 4)], color='red')\n",
    "G.add_edges_from([(0, 1, {'color': 'yellow'}), (1, 2, {'weight': 8})])\n",
    "G[0][1]['weight'] = 4.7\n",
    "G.edges[2, 3]['weight'] = 4.2"
   ]
  },
  {
   "cell_type": "markdown",
   "id": "c2f0bfe6",
   "metadata": {},
   "source": [
    "The special attribute `weight` should be numeric as it is used by\n",
    "algorithms requiring weighted edges.  \n",
    "Специальный атрибут «вес» должен быть числовым, поскольку он используется\n",
    "алгоритмы, требующие взвешенных ребер.  \n",
    " \n",
    " Directed graphs   \n",
    "Ориентированные графы\n",
    "\n",
    "The `DiGraph` class provides additional methods and properties specific\n",
    "to directed edges, e.g.,\n",
    "`DiGraph.out_edges`, `DiGraph.in_degree`,\n",
    "`DiGraph.predecessors`, `DiGraph.successors` etc. \n",
    "\n",
    "Класс DiGraph предоставляет дополнительные методы и свойства, специфичные для направленных ребер, например, DiGraph.out_edges, DiGraph.in_degree, DiGraph.predecessors, DiGraph.successors и т. д.\n",
    "\n",
    "To allow algorithms to work with both classes easily, the directed versions of\n",
    "`neighbors` is equivalent to\n",
    "`successors` while `degree` reports the sum\n",
    "of `in_degree` and `out_degree` even though that may feel inconsistent at times.   \n",
    "\n",
    "\n",
    "\n",
    " Чтобы алгоритмы могли легко работать с обоими классами, направленные версии соседей эквивалентны преемников, в то время как степень сообщает сумму in_degree и out_degree, хотя иногда это может показаться непоследовательным."
   ]
  },
  {
   "cell_type": "code",
   "execution_count": 39,
   "id": "965eb884",
   "metadata": {
    "execution": {
     "iopub.execute_input": "2022-08-05T17:45:57.524649Z",
     "iopub.status.busy": "2022-08-05T17:45:57.524450Z",
     "iopub.status.idle": "2022-08-05T17:45:57.529569Z",
     "shell.execute_reply": "2022-08-05T17:45:57.528969Z"
    }
   },
   "outputs": [
    {
     "name": "stdout",
     "output_type": "stream",
     "text": [
      "[20]\n",
      "[20]\n"
     ]
    }
   ],
   "source": [
    "DG = nx.DiGraph()\n",
    "DG.add_weighted_edges_from([(10, 20, 0.25), (30, 10, 0.6)])\n",
    "DG.out_degree(10, weight='weight')\n",
    "DG.degree(10, weight='weight')\n",
    "print(list(DG.successors(10)))\n",
    "print(list(DG.neighbors(10)))"
   ]
  },
  {
   "cell_type": "code",
   "execution_count": 40,
   "id": "1ef9cf7f",
   "metadata": {},
   "outputs": [
    {
     "data": {
      "image/png": "[encoded data removed]",
      "text/plain": [
       "<Figure size 432x288 with 1 Axes>"
      ]
     },
     "metadata": {},
     "output_type": "display_data"
    }
   ],
   "source": [
    "import matplotlib.pyplot as plt\n",
    "# Визуализируем граф:\n",
    "# Метод nx.draw_circular() располагает узлы по кругу \n",
    "plt.title(\"DG.add_weighted_edges_from([(10, 20, 0.25), (30, 10, 0.6)])\")\n",
    "# список всех весов ребер\n",
    "weights = nx.get_edge_attributes(DG, 'weight')\n",
    "# позиции вершин для визуализации графа\n",
    "pos = nx.circular_layout(DG)\n",
    "# рисуем граф\n",
    "nx.draw_networkx(DG, pos=pos)\n",
    "# рисуем веса ребер\n",
    "nx.draw_networkx_edge_labels(DG, pos, edge_labels=weights)\n",
    "nx.draw_circular(DG,\n",
    "         node_color='green',\n",
    "         node_size=1000,\n",
    "         with_labels=True)\n",
    "plt.show()"
   ]
  },
  {
   "cell_type": "markdown",
   "id": "70f6a84c",
   "metadata": {},
   "source": [
    "Some algorithms work only for directed graphs and others are not well\n",
    "defined for directed graphs.  \n",
    "\n",
    "Некоторые алгоритмы работают только для ориентированных графов, а другие плохо определены для ориентированных графов.  \n",
    "\n",
    "Indeed the tendency to lump directed\n",
    "and undirected graphs together is dangerous.  \n",
    "Действительно, тенденция смешивать ориентированные и неориентированные графы вместе опасна.\n",
    "\n",
    "If you want to treat\n",
    "a directed graph as undirected for some measurement you should probably\n",
    "convert it using `Graph.to_undirected()` or with\n",
    "\n",
    " Если вы хотите рассматривать ориентированный граф как неориентированный для некоторого измерения, вам, вероятно, следует преобразовать его с помощью Graph.to_undirected() или с помощью"
   ]
  },
  {
   "cell_type": "code",
   "execution_count": 41,
   "id": "f1ec799a",
   "metadata": {
    "execution": {
     "iopub.execute_input": "2022-08-05T17:45:57.532953Z",
     "iopub.status.busy": "2022-08-05T17:45:57.532752Z",
     "iopub.status.idle": "2022-08-05T17:45:57.535676Z",
     "shell.execute_reply": "2022-08-05T17:45:57.535070Z"
    }
   },
   "outputs": [],
   "source": [
    "H = nx.Graph(G)  # create an undirected graph H from a directed graph G"
   ]
  },
  {
   "cell_type": "markdown",
   "id": "c360a245",
   "metadata": {},
   "source": [
    "# Multigraphs\n",
    "Мультиграфы\n",
    "\n",
    "NetworkX provides classes for graphs which allow multiple edges\n",
    "between any pair of nodes.    \n",
    "NetworkX предоставляет классы для графов, которые допускают несколько ребер между любой парой узлов.\n",
    "\n",
    "The `MultiGraph` and\n",
    "`MultiDiGraph`\n",
    "classes allow you to add the same edge twice, possibly with different\n",
    "edge data.   \n",
    "Классы MultiGraph и MultiDiGraph позволяют дважды добавить одно и то же ребро, возможно, с разными данными ребра.  \n",
    "This can be powerful for some applications, but many\n",
    "algorithms are not well defined on such graphs.   \n",
    "\n",
    "Это может быть полезно для некоторых приложений, но многие алгоритмы плохо определены на таких графах.  \n",
    "\n",
    "Where results are well defined,\n",
    "e.g., `MultiGraph.degree()` we provide the function.   \n",
    "Там, где результаты четко определены, например, MultiGraph.degree(), мы предоставляем функцию.\n",
    "\n",
    "Otherwise you\n",
    "should convert to a standard graph in a way that makes the measurement\n",
    "well defined.  \n",
    "\n",
    "В противном случае вам следует преобразовать в стандартный граф таким образом, чтобы измерение было четко определенным."
   ]
  },
  {
   "cell_type": "code",
   "execution_count": 42,
   "id": "a18f9da5",
   "metadata": {
    "execution": {
     "iopub.execute_input": "2022-08-05T17:45:57.538544Z",
     "iopub.status.busy": "2022-08-05T17:45:57.538345Z",
     "iopub.status.idle": "2022-08-05T17:45:57.544668Z",
     "shell.execute_reply": "2022-08-05T17:45:57.544064Z"
    }
   },
   "outputs": [
    {
     "name": "stdout",
     "output_type": "stream",
     "text": [
      "{23: 0.52, 24: 1.42, 56: 0.9}\n"
     ]
    },
    {
     "data": {
      "text/plain": [
       "[23, 24, 56]"
      ]
     },
     "execution_count": 42,
     "metadata": {},
     "output_type": "execute_result"
    }
   ],
   "source": [
    "MG = nx.MultiGraph()\n",
    "MG.add_weighted_edges_from([(23, 24, 0.4), (23, 24, 0.12), (24, 56, 0.9)])\n",
    "print(dict(MG.degree(weight='weight')))\n",
    "GG = nx.Graph()\n",
    "for n, nbrs in MG.adjacency():\n",
    "   for nbr, edict in nbrs.items():\n",
    "       minvalue = min([d['weight'] for d in edict.values()])\n",
    "       GG.add_edge(n, nbr, weight = minvalue)\n",
    "\n",
    "nx.shortest_path(GG, 23, 56)"
   ]
  },
  {
   "cell_type": "code",
   "execution_count": 43,
   "id": "0fbbfa70",
   "metadata": {},
   "outputs": [
    {
     "name": "stdout",
     "output_type": "stream",
     "text": [
      "{(23, 24, 0): 0.4, (23, 24, 1): 0.12, (24, 56, 0): 0.9}\n"
     ]
    },
    {
     "data": {
      "image/png": "[encoded data removed]",
      "text/plain": [
       "<Figure size 432x288 with 1 Axes>"
      ]
     },
     "metadata": {},
     "output_type": "display_data"
    }
   ],
   "source": [
    "import matplotlib.pyplot as plt\n",
    "# Визуализируем граф:\n",
    "# Метод nx.draw_circular() располагает узлы по кругу \n",
    "plt.title(\"MG.add_weighted_edges_from([(23, 24, 0.4), (23, 24, 0.12), (24, 56, 0.9)])\")\n",
    "# список всех весов ребер\n",
    "weights = nx.get_edge_attributes(MG, 'weight')\n",
    "# позиции вершин для визуализации графа\n",
    "pos = nx.circular_layout(MG)\n",
    "print(weights)\n",
    "# рисуем граф\n",
    "nx.draw_networkx(MG, pos=pos)\n",
    "# рисуем веса ребер\n",
    "nx.draw_networkx_edge_labels(MG, pos=pos)\n",
    "nx.draw_circular(MG,\n",
    "         node_color='green',\n",
    "         node_size=800,\n",
    "         with_labels=True)\n",
    "plt.show()"
   ]
  },
  {
   "cell_type": "markdown",
   "id": "cdcdfea1",
   "metadata": {},
   "source": [
    "# Graph generators and graph operations\n",
    "Генераторы графов и графовые операции¶\n",
    "\n",
    "In addition to constructing graphs node-by-node or edge-by-edge, they\n",
    "can also be generated by   \n",
    "Помимо построения графов по узлам или по ребрам, их также можно генерировать с помощью\n",
    "\n",
    "## 1. Applying classic graph operations, such as:\n",
    "\n",
    "## 2. Using a call to one of the classic small graphs, e.g.,\n",
    "\n",
    "## 3. Using a (constructive) generator for a classic graph, e.g.,\n",
    "\n",
    "\n",
    "1. Применение классических графовых операций, таких как:\n",
    "2. Использование вызова одного из классических небольших графов, например,\n",
    "3. Использование (конструктивного) генератора для классического графа, например,\n",
    "like so:   \n",
    "вот так:"
   ]
  },
  {
   "cell_type": "code",
   "execution_count": 44,
   "id": "028873df",
   "metadata": {
    "execution": {
     "iopub.execute_input": "2022-08-05T17:45:57.547913Z",
     "iopub.status.busy": "2022-08-05T17:45:57.547714Z",
     "iopub.status.idle": "2022-08-05T17:45:57.551809Z",
     "shell.execute_reply": "2022-08-05T17:45:57.551181Z"
    }
   },
   "outputs": [],
   "source": [
    "K_4 = nx.complete_graph(4)\n",
    "K_2_4 = nx.complete_bipartite_graph(2, 4)\n",
    "barbell = nx.barbell_graph(15, 15)\n",
    "lollipop = nx.lollipop_graph(10, 20)"
   ]
  },
  {
   "cell_type": "markdown",
   "id": "61d84c30",
   "metadata": {},
   "source": [
    "# 4. Using a stochastic graph generator, e.g,\n",
    "Использование генератора стохастических графов, например,\n",
    "\n",
    "like so:"
   ]
  },
  {
   "cell_type": "code",
   "execution_count": 45,
   "id": "eff7f74b",
   "metadata": {
    "execution": {
     "iopub.execute_input": "2022-08-05T17:45:57.554463Z",
     "iopub.status.busy": "2022-08-05T17:45:57.554260Z",
     "iopub.status.idle": "2022-08-05T17:45:57.568790Z",
     "shell.execute_reply": "2022-08-05T17:45:57.568203Z"
    }
   },
   "outputs": [
    {
     "name": "stdout",
     "output_type": "stream",
     "text": [
      "er= Graph with 10 nodes and 29 edges\n"
     ]
    }
   ],
   "source": [
    "er = nx.erdos_renyi_graph(10, 0.6)\n",
    "print('er=',er)\n",
    "ws = nx.watts_strogatz_graph(10, 4, 0.2)\n",
    "ba = nx.barabasi_albert_graph(100, 7)\n",
    "red = nx.random_lobster(100, 0.9, 0.9)"
   ]
  },
  {
   "cell_type": "markdown",
   "id": "2363426d",
   "metadata": {},
   "source": [
    "# 5. Reading a graph stored in a file using common graph formats\n",
    "Чтение графика, хранящегося в файле, с использованием распространенных форматов графиков¶  \n",
    "\n",
    "NetworkX supports many popular formats, such as edge lists, adjacency lists,\n",
    "GML, GraphML, LEDA and others.\n",
    "\n",
    "NetworkX поддерживает многие популярные форматы, такие как списки ребер, списки смежности, GML, GraphML, LEDA и другие."
   ]
  },
  {
   "cell_type": "code",
   "execution_count": 46,
   "id": "5c2c7305",
   "metadata": {
    "execution": {
     "iopub.execute_input": "2022-08-05T17:45:57.571542Z",
     "iopub.status.busy": "2022-08-05T17:45:57.571339Z",
     "iopub.status.idle": "2022-08-05T17:45:57.988726Z",
     "shell.execute_reply": "2022-08-05T17:45:57.988096Z"
    }
   },
   "outputs": [],
   "source": [
    "nx.write_gml(red, \"random_lobster.gml\")\n",
    "mygraph = nx.read_gml(\"random_lobster.gml\")"
   ]
  },
  {
   "cell_type": "markdown",
   "id": "999412db",
   "metadata": {},
   "source": [
    "For details on graph formats see Reading and writing graphs and for graph generator functions see Graph generators\n",
    "\n",
    "Подробнее о форматах графиков см. Чтение и запись графиков и для функций генератора графов смотрите \n",
    "\n",
    "Analyzing graphs Генераторы графов\n",
    "\n",
    "The structure of `G` can be analyzed using various graph-theoretic\n",
    "functions such as:  \n",
    "Структура `G` может быть проанализирована с использованием различных теоретико-графовых\n",
    "такие функции, как:"
   ]
  },
  {
   "cell_type": "code",
   "execution_count": 47,
   "id": "54204061",
   "metadata": {
    "execution": {
     "iopub.execute_input": "2022-08-05T17:45:57.992245Z",
     "iopub.status.busy": "2022-08-05T17:45:57.992011Z",
     "iopub.status.idle": "2022-08-05T17:45:57.997782Z",
     "shell.execute_reply": "2022-08-05T17:45:57.997202Z"
    }
   },
   "outputs": [
    {
     "name": "stdout",
     "output_type": "stream",
     "text": [
      "G= Graph with 3 nodes and 2 edges\n",
      "list(nx.connected_components(G))= [{10, 20, 30}, {'rvnc'}]\n",
      "[0, 1, 1, 2]\n",
      "{10: 0, 20: 0, 30: 0, 'rvnc': 0}\n"
     ]
    }
   ],
   "source": [
    "G = nx.Graph()\n",
    "G.add_edges_from([(10, 20), (10, 30)])\n",
    "print('G=',G)\n",
    "G.add_node(\"rvnc\")       # adds node \"spam\"\n",
    "print('list(nx.connected_components(G))=',list(nx.connected_components(G)))\n",
    "print(sorted(d for n, d in G.degree()))\n",
    "print(nx.clustering(G))"
   ]
  },
  {
   "cell_type": "markdown",
   "id": "31877c43",
   "metadata": {},
   "source": [
    "Some functions with large output iterate over (node, value) 2-tuples.\n",
    "These are easily stored in a [dict](https://docs.python.org/3/library/stdtypes.html#dict) structure if you desire.\n",
    "\n",
    "Некоторые функции с большой продукцией повторяют по (узел, ценность) 2 кортежа. Они - легко хранился в dict структуре, если Вы желаете"
   ]
  },
  {
   "cell_type": "code",
   "execution_count": 48,
   "id": "f8fe6666",
   "metadata": {
    "execution": {
     "iopub.execute_input": "2022-08-05T17:45:58.015152Z",
     "iopub.status.busy": "2022-08-05T17:45:58.014944Z",
     "iopub.status.idle": "2022-08-05T17:45:58.020050Z",
     "shell.execute_reply": "2022-08-05T17:45:58.019456Z"
    }
   },
   "outputs": [
    {
     "data": {
      "text/plain": [
       "{30: [30], 10: [30, 10], 20: [30, 10, 20]}"
      ]
     },
     "execution_count": 48,
     "metadata": {},
     "output_type": "execute_result"
    }
   ],
   "source": [
    "sp = dict(nx.all_pairs_shortest_path(G))\n",
    "sp[30]"
   ]
  },
  {
   "cell_type": "markdown",
   "id": "b5b009cc",
   "metadata": {},
   "source": [
    "See Algorithms for details on graph algorithms  \n",
    "Подробную информацию о поддерживаемых алгоритмах графов см. в разделе Алгоритмы.\n",
    "supported.\n",
    "\n",
    "# Drawing graphs\n",
    "Рисование графов\n",
    "NetworkX is not primarily a graph drawing package but basic drawing with\n",
    "Matplotlib as well as an interface to use the open source Graphviz software\n",
    "package are included.    \n",
    "NetworkX — это в первую очередь не пакет для рисования графиков, а базовый пакет для рисования с\n",
    "Matplotlib, а также интерфейс для использования программного обеспечения Graphviz с открытым исходным кодом. пакет включен.\n",
    "\n",
    "These are part of the networkx.drawing\n",
    "module and will be imported if possible.   \n",
    "Это часть networkx.drawing\n",
    "модуль и будет импортирован, если это возможно.\n",
    "\n",
    "First import Matplotlib’s plot interface (pylab works too)   \n",
    "Сначала импортируйте интерфейс графика Matplotlib (pylab тоже работает)"
   ]
  },
  {
   "cell_type": "code",
   "execution_count": 49,
   "id": "120c2675",
   "metadata": {
    "execution": {
     "iopub.execute_input": "2022-08-05T17:45:58.023134Z",
     "iopub.status.busy": "2022-08-05T17:45:58.022578Z",
     "iopub.status.idle": "2022-08-05T17:45:58.590978Z",
     "shell.execute_reply": "2022-08-05T17:45:58.590334Z"
    }
   },
   "outputs": [],
   "source": [
    "import matplotlib.pyplot as plt"
   ]
  },
  {
   "cell_type": "markdown",
   "id": "335ea1ab",
   "metadata": {},
   "source": [
    "To test if the import of `nx_pylab` was successful draw `G`\n",
    "using one of  \n",
    "Чтобы проверить, был ли импорт nx_pylab успешным, нарисуйте G, используя один из"
   ]
  },
  {
   "cell_type": "code",
   "execution_count": 50,
   "id": "3f701178",
   "metadata": {
    "execution": {
     "iopub.execute_input": "2022-08-05T17:45:58.594514Z",
     "iopub.status.busy": "2022-08-05T17:45:58.594031Z",
     "iopub.status.idle": "2022-08-05T17:45:58.771410Z",
     "shell.execute_reply": "2022-08-05T17:45:58.770786Z"
    }
   },
   "outputs": [
    {
     "data": {
      "image/png": "[encoded data removed]",
      "text/plain": [
       "<Figure size 432x288 with 2 Axes>"
      ]
     },
     "metadata": {},
     "output_type": "display_data"
    }
   ],
   "source": [
    "G = nx.petersen_graph()\n",
    "subax1 = plt.subplot(121)\n",
    "nx.draw(G, with_labels=True, font_weight='bold', node_size=700, node_color='green')\n",
    "subax2 = plt.subplot(122)\n",
    "nx.draw_shell(G, nlist=[range(5, 10), range(5)], with_labels=True, font_weight='bold', node_size=700, node_color='green')"
   ]
  },
  {
   "cell_type": "markdown",
   "id": "dc9d9e80",
   "metadata": {},
   "source": [
    "when drawing to an interactive display.  Note that you may need to issue a\n",
    "Matplotlib\n",
    "\n",
    "при рисунке к диалоговому показу. Следует отметить, что Вы, возможно, должны выпустить a\n",
    "Matplotlib"
   ]
  },
  {
   "cell_type": "code",
   "execution_count": 51,
   "id": "c1440272",
   "metadata": {
    "execution": {
     "iopub.execute_input": "2022-08-05T17:45:58.774894Z",
     "iopub.status.busy": "2022-08-05T17:45:58.774651Z",
     "iopub.status.idle": "2022-08-05T17:45:58.778808Z",
     "shell.execute_reply": "2022-08-05T17:45:58.778240Z"
    }
   },
   "outputs": [],
   "source": [
    "plt.show()"
   ]
  },
  {
   "cell_type": "markdown",
   "id": "5f709278",
   "metadata": {},
   "source": [
    "command if you are not using matplotlib in interactive mode.\n",
    "командуйте, не используете ли Вы matplotlib в диалоговом способе."
   ]
  },
  {
   "cell_type": "code",
   "execution_count": 52,
   "id": "8746a6d8",
   "metadata": {
    "execution": {
     "iopub.execute_input": "2022-08-05T17:45:58.782004Z",
     "iopub.status.busy": "2022-08-05T17:45:58.781764Z",
     "iopub.status.idle": "2022-08-05T17:45:58.934365Z",
     "shell.execute_reply": "2022-08-05T17:45:58.933748Z"
    }
   },
   "outputs": [
    {
     "data": {
      "image/png": "[encoded data removed]",
      "text/plain": [
       "<Figure size 432x288 with 4 Axes>"
      ]
     },
     "metadata": {},
     "output_type": "display_data"
    }
   ],
   "source": [
    "options = {\n",
    "    'node_color': 'red',\n",
    "    'node_size': 50,\n",
    "    'width': 1,\n",
    "}\n",
    "subax1 = plt.subplot(221)\n",
    "nx.draw_random(G, **options)\n",
    "subax2 = plt.subplot(222)\n",
    "nx.draw_circular(G, **options)\n",
    "subax3 = plt.subplot(223)\n",
    "nx.draw_spectral(G, **options)\n",
    "subax4 = plt.subplot(224)\n",
    "nx.draw_shell(G, nlist=[range(5,10), range(5)], **options)"
   ]
  },
  {
   "cell_type": "markdown",
   "id": "32115105",
   "metadata": {},
   "source": [
    "You can find additional options via `draw_networkx()` and\n",
    "layouts via the `layout module`.\n",
    "You can use multiple shells with `draw_shell()`.\n",
    "\n",
    "Вы можете найти дополнительные опции через draw_networkx() и макеты через модуль макета. Можно использовать несколько оболочек с draw_shell()."
   ]
  },
  {
   "cell_type": "code",
   "execution_count": 53,
   "id": "43caf5d5",
   "metadata": {
    "execution": {
     "iopub.execute_input": "2022-08-05T17:45:58.937834Z",
     "iopub.status.busy": "2022-08-05T17:45:58.937599Z",
     "iopub.status.idle": "2022-08-05T17:45:58.996411Z",
     "shell.execute_reply": "2022-08-05T17:45:58.995826Z"
    }
   },
   "outputs": [
    {
     "data": {
      "image/png": "[encoded data removed]",
      "text/plain": [
       "<Figure size 432x288 with 1 Axes>"
      ]
     },
     "metadata": {},
     "output_type": "display_data"
    }
   ],
   "source": [
    "G = nx.dodecahedral_graph()\n",
    "shells = [[2, 3, 4, 5, 6], [8, 1, 0, 19, 18, 17, 16, 15, 14, 7], [9, 10, 11, 12, 13]]\n",
    "nx.draw_shell(G, nlist=shells, **options)"
   ]
  },
  {
   "cell_type": "markdown",
   "id": "2a503328",
   "metadata": {},
   "source": [
    "To save drawings to a file, use, for example  \n",
    "Чтобы сохранить чертежи в файл, используйте, например,"
   ]
  },
  {
   "cell_type": "code",
   "execution_count": 54,
   "id": "6da878be",
   "metadata": {
    "execution": {
     "iopub.execute_input": "2022-08-05T17:45:58.999946Z",
     "iopub.status.busy": "2022-08-05T17:45:58.999716Z",
     "iopub.status.idle": "2022-08-05T17:45:59.079647Z",
     "shell.execute_reply": "2022-08-05T17:45:59.079070Z"
    }
   },
   "outputs": [
    {
     "data": {
      "image/png": "[encoded data removed]",
      "text/plain": [
       "<Figure size 432x288 with 1 Axes>"
      ]
     },
     "metadata": {},
     "output_type": "display_data"
    }
   ],
   "source": [
    "nx.draw(G)\n",
    "plt.savefig(\"graph.png\")"
   ]
  },
  {
   "cell_type": "markdown",
   "id": "ac278278",
   "metadata": {},
   "source": [
    "This function writes to the file `path.png` in the local directory. If Graphviz and\n",
    "PyGraphviz or pydot, are available on your system, you can also use\n",
    "`networkx.drawing.nx_agraph.graphviz_layout` or\n",
    "`networkx.drawing.nx_pydot.graphviz_layout` to get the node positions, or write\n",
    "the graph in dot format for further processing.  \n",
    "\n",
    "Эта функция записывает в путь к файлу.png в локальном каталоге. Если в вашей системе доступны Graphviz и PyGraphviz или pydot, вы также можете использовать networkx.drawing.nx_agraph.graphviz_layout или networkx.drawing.nx_pydot.graphviz_layout для получения позиций узлов или написать график в точечном формате для дальнейшей обработки."
   ]
  },
  {
   "cell_type": "code",
   "execution_count": null,
   "id": "f67f514e",
   "metadata": {
    "execution": {
     "iopub.execute_input": "2022-08-05T17:45:59.084140Z",
     "iopub.status.busy": "2022-08-05T17:45:59.083057Z",
     "iopub.status.idle": "2022-08-05T17:45:59.178193Z",
     "shell.execute_reply": "2022-08-05T17:45:59.177645Z"
    }
   },
   "outputs": [],
   "source": [
    "from networkx.drawing.nx_pydot import write_dot\n",
    "pos = nx.nx_agraph.graphviz_layout(G)\n",
    "nx.draw(G, pos=pos)\n",
    "write_dot(G, 'graph.dot')"
   ]
  },
  {
   "cell_type": "markdown",
   "id": "a49173f2",
   "metadata": {},
   "source": [
    "See Drawing for additional details."
   ]
  }
 ],
 "metadata": {
  "kernelspec": {
   "display_name": "Python 3",
   "language": "python",
   "name": "python3"
  },
  "language_info": {
   "codemirror_mode": {
    "name": "ipython",
    "version": 3
   },
   "file_extension": ".py",
   "mimetype": "text/x-python",
   "name": "python",
   "nbconvert_exporter": "python",
   "pygments_lexer": "ipython3",
   "version": "3.8.8"
  }
 },
 "nbformat": 4,
 "nbformat_minor": 5
}
