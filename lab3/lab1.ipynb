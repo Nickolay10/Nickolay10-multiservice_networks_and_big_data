{
 "cells": [
  {
   "cell_type": "markdown",
   "id": "6fd3157e",
   "metadata": {},
   "source": [
    "## Структурированные списки Numpy"
   ]
  },
  {
   "cell_type": "markdown",
   "id": "42f3dac1",
   "metadata": {},
   "source": [
    "Импортируем numpy"
   ]
  },
  {
   "cell_type": "code",
   "execution_count": 3,
   "id": "afe286a5",
   "metadata": {},
   "outputs": [],
   "source": [
    "import numpy as np"
   ]
  },
  {
   "cell_type": "markdown",
   "id": "dfc30b92",
   "metadata": {},
   "source": [
    "Создаём структурированный список"
   ]
  },
  {
   "cell_type": "code",
   "execution_count": 4,
   "id": "f7aaa38e",
   "metadata": {},
   "outputs": [],
   "source": [
    "sync_frame = np.dtype([('Info', np.uint32),\n",
    "                        ('Second', np.uint32),\n",
    "                        ('Index', np.uint32),\n",
    "                        ('Type', np.uint32),\n",
    "                        ('Direct', np.uint32),\n",
    "                        ('way', np.float64)])"
   ]
  },
  {
   "cell_type": "code",
   "execution_count": 5,
   "id": "ee2b019e",
   "metadata": {},
   "outputs": [
    {
     "data": {
      "text/plain": [
       "dtype([('Info', '<u4'), ('Second', '<u4'), ('Index', '<u4'), ('Type', '<u4'), ('Direct', '<u4'), ('way', '<f8')])"
      ]
     },
     "execution_count": 5,
     "metadata": {},
     "output_type": "execute_result"
    }
   ],
   "source": [
    "sync_frame"
   ]
  },
  {
   "cell_type": "code",
   "execution_count": 6,
   "id": "3db98f3f",
   "metadata": {},
   "outputs": [],
   "source": [
    "sync_data = np.array([(10000, 2145255, 2, 1, 0, 264.365),\n",
    "                      (20000, 2645256, 5, 0, 1, 546.345),\n",
    "                      (100, 58161363, 3, 2, 1, 5634.689),\n",
    "                      (524, 63576357, 11, 4, 0, 678.544),\n",
    "                      (634, 52362724, 7, 3, 1, 8425.465)], dtype=sync_frame)"
   ]
  },
  {
   "cell_type": "markdown",
   "id": "4918a937",
   "metadata": {},
   "source": [
    "Выведем массив"
   ]
  },
  {
   "cell_type": "code",
   "execution_count": 7,
   "id": "86dedc47",
   "metadata": {},
   "outputs": [
    {
     "data": {
      "text/plain": [
       "array([(10000,  2145255,  2, 1, 0,  264.365),\n",
       "       (20000,  2645256,  5, 0, 1,  546.345),\n",
       "       (  100, 58161363,  3, 2, 1, 5634.689),\n",
       "       (  524, 63576357, 11, 4, 0,  678.544),\n",
       "       (  634, 52362724,  7, 3, 1, 8425.465)],\n",
       "      dtype=[('Info', '<u4'), ('Second', '<u4'), ('Index', '<u4'), ('Type', '<u4'), ('Direct', '<u4'), ('way', '<f8')])"
      ]
     },
     "execution_count": 7,
     "metadata": {},
     "output_type": "execute_result"
    }
   ],
   "source": [
    "sync_data"
   ]
  },
  {
   "cell_type": "code",
   "execution_count": 9,
   "id": "736fadb9",
   "metadata": {},
   "outputs": [
    {
     "name": "stdout",
     "output_type": "stream",
     "text": [
      "[(10000,  2145255,  2, 1, 0,  264.365)\n",
      " (20000,  2645256,  5, 0, 1,  546.345)\n",
      " (  100, 58161363,  3, 2, 1, 5634.689)\n",
      " (  524, 63576357, 11, 4, 0,  678.544)\n",
      " (  634, 52362724,  7, 3, 1, 8425.465)]\n"
     ]
    }
   ],
   "source": [
    "print(sync_data)"
   ]
  },
  {
   "cell_type": "markdown",
   "id": "9ab12673",
   "metadata": {},
   "source": [
    "Выведем элемент с индексом 1"
   ]
  },
  {
   "cell_type": "code",
   "execution_count": 10,
   "id": "cb98e786",
   "metadata": {},
   "outputs": [
    {
     "data": {
      "text/plain": [
       "(20000, 2645256, 5, 0, 1, 546.345)"
      ]
     },
     "execution_count": 10,
     "metadata": {},
     "output_type": "execute_result"
    }
   ],
   "source": [
    "sync_data[1]"
   ]
  },
  {
   "cell_type": "markdown",
   "id": "41b3e52c",
   "metadata": {},
   "source": [
    "Возьмём срез двух элементов с конца"
   ]
  },
  {
   "cell_type": "code",
   "execution_count": 11,
   "id": "df1927ce",
   "metadata": {},
   "outputs": [
    {
     "data": {
      "text/plain": [
       "array([(524, 63576357, 11, 4, 0,  678.544),\n",
       "       (634, 52362724,  7, 3, 1, 8425.465)],\n",
       "      dtype=[('Info', '<u4'), ('Second', '<u4'), ('Index', '<u4'), ('Type', '<u4'), ('Direct', '<u4'), ('way', '<f8')])"
      ]
     },
     "execution_count": 11,
     "metadata": {},
     "output_type": "execute_result"
    }
   ],
   "source": [
    "sync_data[-2:]"
   ]
  },
  {
   "cell_type": "markdown",
   "id": "db7f90eb",
   "metadata": {},
   "source": [
    "Элементы поля по его названию"
   ]
  },
  {
   "cell_type": "code",
   "execution_count": 12,
   "id": "2cc2b1f4",
   "metadata": {},
   "outputs": [
    {
     "data": {
      "text/plain": [
       "array([ 264.365,  546.345, 5634.689,  678.544, 8425.465])"
      ]
     },
     "execution_count": 12,
     "metadata": {},
     "output_type": "execute_result"
    }
   ],
   "source": [
    "sync_data['way']"
   ]
  },
  {
   "cell_type": "code",
   "execution_count": 13,
   "id": "6fdd6407",
   "metadata": {},
   "outputs": [
    {
     "data": {
      "text/plain": [
       "array([( 264.365, 10000), ( 546.345, 20000), (5634.689,   100),\n",
       "       ( 678.544,   524), (8425.465,   634)],\n",
       "      dtype={'names':['way','Info'], 'formats':['<f8','<u4'], 'offsets':[20,0], 'itemsize':28})"
      ]
     },
     "execution_count": 13,
     "metadata": {},
     "output_type": "execute_result"
    }
   ],
   "source": [
    "sync_data[['way', 'Info']]"
   ]
  },
  {
   "cell_type": "code",
   "execution_count": 14,
   "id": "b57c071f",
   "metadata": {},
   "outputs": [
    {
     "data": {
      "text/plain": [
       "(546.345, 20000)"
      ]
     },
     "execution_count": 14,
     "metadata": {},
     "output_type": "execute_result"
    }
   ],
   "source": [
    "sync_data[['way', 'Info']][1]"
   ]
  },
  {
   "cell_type": "code",
   "execution_count": 15,
   "id": "6f08626f",
   "metadata": {},
   "outputs": [
    {
     "data": {
      "text/plain": [
       "(5634.689, 100)"
      ]
     },
     "execution_count": 15,
     "metadata": {},
     "output_type": "execute_result"
    }
   ],
   "source": [
    "sync_data[['way', 'Info']][2]"
   ]
  },
  {
   "cell_type": "markdown",
   "id": "d0231d1d",
   "metadata": {},
   "source": [
    "Изменение элементов"
   ]
  },
  {
   "cell_type": "code",
   "execution_count": 17,
   "id": "c12229fe",
   "metadata": {},
   "outputs": [],
   "source": [
    "sync_data[2] = (500, 987389672, 11, 42, 0, 643.275)"
   ]
  },
  {
   "cell_type": "code",
   "execution_count": 18,
   "id": "f3a89534",
   "metadata": {},
   "outputs": [
    {
     "data": {
      "text/plain": [
       "array([(10000,   2145255,  2,  1, 0,  264.365),\n",
       "       (20000,   2645256,  5,  0, 1,  546.345),\n",
       "       (  500, 987389672, 11, 42, 0,  643.275),\n",
       "       (  524,  63576357, 11,  4, 0,  678.544),\n",
       "       (  634,  52362724,  7,  3, 1, 8425.465)],\n",
       "      dtype=[('Info', '<u4'), ('Second', '<u4'), ('Index', '<u4'), ('Type', '<u4'), ('Direct', '<u4'), ('way', '<f8')])"
      ]
     },
     "execution_count": 18,
     "metadata": {},
     "output_type": "execute_result"
    }
   ],
   "source": [
    "sync_data"
   ]
  },
  {
   "cell_type": "code",
   "execution_count": 19,
   "id": "0d8bc312",
   "metadata": {},
   "outputs": [],
   "source": [
    "sync_data['Index'][2] = 3"
   ]
  },
  {
   "cell_type": "code",
   "execution_count": 20,
   "id": "1f1fafc2",
   "metadata": {},
   "outputs": [
    {
     "data": {
      "text/plain": [
       "array([(10000,   2145255,  2,  1, 0,  264.365),\n",
       "       (20000,   2645256,  5,  0, 1,  546.345),\n",
       "       (  500, 987389672,  3, 42, 0,  643.275),\n",
       "       (  524,  63576357, 11,  4, 0,  678.544),\n",
       "       (  634,  52362724,  7,  3, 1, 8425.465)],\n",
       "      dtype=[('Info', '<u4'), ('Second', '<u4'), ('Index', '<u4'), ('Type', '<u4'), ('Direct', '<u4'), ('way', '<f8')])"
      ]
     },
     "execution_count": 20,
     "metadata": {},
     "output_type": "execute_result"
    }
   ],
   "source": [
    "sync_data"
   ]
  },
  {
   "cell_type": "markdown",
   "id": "246e7745",
   "metadata": {},
   "source": [
    "## Чтение/запись списков"
   ]
  },
  {
   "cell_type": "markdown",
   "id": "12c5c667",
   "metadata": {},
   "source": [
    "Запишем его в файл формата `.npy`: сначала укажем название файла, а затем – сам массив, который сохраняем."
   ]
  },
  {
   "cell_type": "code",
   "execution_count": 21,
   "id": "06ec61d0",
   "metadata": {},
   "outputs": [],
   "source": [
    "np.save(\"sync_data.npy\", sync_data)"
   ]
  },
  {
   "cell_type": "markdown",
   "id": "5f280459",
   "metadata": {},
   "source": [
    "Теперь этот файл можно увидеть во вкладке *Home* в Jupyter Notebook, в рабочей папке. Попробуем выполнить обратную операцию: считаем массив из numpy-файла:"
   ]
  },
  {
   "cell_type": "code",
   "execution_count": 22,
   "id": "efdea128",
   "metadata": {},
   "outputs": [
    {
     "data": {
      "text/plain": [
       "array([(10000,   2145255,  2,  1, 0,  264.365),\n",
       "       (20000,   2645256,  5,  0, 1,  546.345),\n",
       "       (  500, 987389672,  3, 42, 0,  643.275),\n",
       "       (  524,  63576357, 11,  4, 0,  678.544),\n",
       "       (  634,  52362724,  7,  3, 1, 8425.465)],\n",
       "      dtype=[('Info', '<u4'), ('Second', '<u4'), ('Index', '<u4'), ('Type', '<u4'), ('Direct', '<u4'), ('way', '<f8')])"
      ]
     },
     "execution_count": 22,
     "metadata": {},
     "output_type": "execute_result"
    }
   ],
   "source": [
    "np.load('sync_data.npy')"
   ]
  },
  {
   "cell_type": "markdown",
   "id": "9cc2b557",
   "metadata": {},
   "source": [
    "Сохранение в `.txt`"
   ]
  },
  {
   "cell_type": "code",
   "execution_count": 23,
   "id": "e5719fe6",
   "metadata": {},
   "outputs": [],
   "source": [
    "np.savetxt(\"sync_data.txt\", sync_data)"
   ]
  },
  {
   "cell_type": "code",
   "execution_count": 24,
   "id": "47c2fc78",
   "metadata": {},
   "outputs": [
    {
     "data": {
      "text/plain": [
       "array([[1.00000000e+04, 2.14525500e+06, 2.00000000e+00, 1.00000000e+00,\n",
       "        0.00000000e+00, 2.64365000e+02],\n",
       "       [2.00000000e+04, 2.64525600e+06, 5.00000000e+00, 0.00000000e+00,\n",
       "        1.00000000e+00, 5.46345000e+02],\n",
       "       [5.00000000e+02, 9.87389672e+08, 3.00000000e+00, 4.20000000e+01,\n",
       "        0.00000000e+00, 6.43275000e+02],\n",
       "       [5.24000000e+02, 6.35763570e+07, 1.10000000e+01, 4.00000000e+00,\n",
       "        0.00000000e+00, 6.78544000e+02],\n",
       "       [6.34000000e+02, 5.23627240e+07, 7.00000000e+00, 3.00000000e+00,\n",
       "        1.00000000e+00, 8.42546500e+03]])"
      ]
     },
     "execution_count": 24,
     "metadata": {},
     "output_type": "execute_result"
    }
   ],
   "source": [
    "np.loadtxt('sync_data.txt')"
   ]
  },
  {
   "cell_type": "code",
   "execution_count": 26,
   "id": "c50cbd9f",
   "metadata": {},
   "outputs": [
    {
     "data": {
      "text/plain": [
       "[(10000, 2145255, 2, 1, 0, 264.365),\n",
       " (20000, 2645256, 5, 0, 1, 546.345),\n",
       " (500, 987389672, 3, 42, 0, 643.275),\n",
       " (524, 63576357, 11, 4, 0, 678.544),\n",
       " (634, 52362724, 7, 3, 1, 8425.465)]"
      ]
     },
     "execution_count": 26,
     "metadata": {},
     "output_type": "execute_result"
    }
   ],
   "source": [
    "sync_data.tolist()"
   ]
  },
  {
   "cell_type": "code",
   "execution_count": 27,
   "id": "877e2ed6",
   "metadata": {},
   "outputs": [
    {
     "data": {
      "text/plain": [
       "'[(10000,   2145255,  2,  1, 0,  264.365)\\n (20000,   2645256,  5,  0, 1,  546.345)\\n (  500, 987389672,  3, 42, 0,  643.275)\\n (  524,  63576357, 11,  4, 0,  678.544)\\n (  634,  52362724,  7,  3, 1, 8425.465)]'"
      ]
     },
     "execution_count": 27,
     "metadata": {},
     "output_type": "execute_result"
    }
   ],
   "source": [
    "np.array2string(sync_data)"
   ]
  },
  {
   "cell_type": "markdown",
   "id": "3df24ef9",
   "metadata": {},
   "source": [
    "## Основные структуры Pandas"
   ]
  },
  {
   "cell_type": "markdown",
   "id": "f7f14f50",
   "metadata": {},
   "source": [
    "Импортируем pandas"
   ]
  },
  {
   "cell_type": "code",
   "execution_count": null,
   "id": "60d71451",
   "metadata": {},
   "outputs": [],
   "source": [
    "import pandas as pd"
   ]
  },
  {
   "cell_type": "markdown",
   "id": "08d37928",
   "metadata": {},
   "source": [
    "Создаём датафрейм"
   ]
  },
  {
   "cell_type": "code",
   "execution_count": 32,
   "id": "02d99447",
   "metadata": {},
   "outputs": [],
   "source": [
    "df = pd.DataFrame([(10000, 2145255, 2, 1, 0, 264.365),\n",
    "                  (20000, 2645256, 5, 0, 1, 546.345),\n",
    "                  (100, 58161363, 3, 2, 1, 5634.689),\n",
    "                  (524, 63576357, 11, 4, 0, 678.544),\n",
    "                  (634, 52362724, 7, 3, 1, 8425.465)])"
   ]
  },
  {
   "cell_type": "code",
   "execution_count": 33,
   "id": "255712e8",
   "metadata": {},
   "outputs": [
    {
     "data": {
      "text/html": [
       "<div>\n",
       "<style scoped>\n",
       "    .dataframe tbody tr th:only-of-type {\n",
       "        vertical-align: middle;\n",
       "    }\n",
       "\n",
       "    .dataframe tbody tr th {\n",
       "        vertical-align: top;\n",
       "    }\n",
       "\n",
       "    .dataframe thead th {\n",
       "        text-align: right;\n",
       "    }\n",
       "</style>\n",
       "<table border=\"1\" class=\"dataframe\">\n",
       "  <thead>\n",
       "    <tr style=\"text-align: right;\">\n",
       "      <th></th>\n",
       "      <th>0</th>\n",
       "      <th>1</th>\n",
       "      <th>2</th>\n",
       "      <th>3</th>\n",
       "      <th>4</th>\n",
       "      <th>5</th>\n",
       "    </tr>\n",
       "  </thead>\n",
       "  <tbody>\n",
       "    <tr>\n",
       "      <th>0</th>\n",
       "      <td>10000</td>\n",
       "      <td>2145255</td>\n",
       "      <td>2</td>\n",
       "      <td>1</td>\n",
       "      <td>0</td>\n",
       "      <td>264.365</td>\n",
       "    </tr>\n",
       "    <tr>\n",
       "      <th>1</th>\n",
       "      <td>20000</td>\n",
       "      <td>2645256</td>\n",
       "      <td>5</td>\n",
       "      <td>0</td>\n",
       "      <td>1</td>\n",
       "      <td>546.345</td>\n",
       "    </tr>\n",
       "    <tr>\n",
       "      <th>2</th>\n",
       "      <td>100</td>\n",
       "      <td>58161363</td>\n",
       "      <td>3</td>\n",
       "      <td>2</td>\n",
       "      <td>1</td>\n",
       "      <td>5634.689</td>\n",
       "    </tr>\n",
       "    <tr>\n",
       "      <th>3</th>\n",
       "      <td>524</td>\n",
       "      <td>63576357</td>\n",
       "      <td>11</td>\n",
       "      <td>4</td>\n",
       "      <td>0</td>\n",
       "      <td>678.544</td>\n",
       "    </tr>\n",
       "    <tr>\n",
       "      <th>4</th>\n",
       "      <td>634</td>\n",
       "      <td>52362724</td>\n",
       "      <td>7</td>\n",
       "      <td>3</td>\n",
       "      <td>1</td>\n",
       "      <td>8425.465</td>\n",
       "    </tr>\n",
       "  </tbody>\n",
       "</table>\n",
       "</div>"
      ],
      "text/plain": [
       "       0         1   2  3  4         5\n",
       "0  10000   2145255   2  1  0   264.365\n",
       "1  20000   2645256   5  0  1   546.345\n",
       "2    100  58161363   3  2  1  5634.689\n",
       "3    524  63576357  11  4  0   678.544\n",
       "4    634  52362724   7  3  1  8425.465"
      ]
     },
     "execution_count": 33,
     "metadata": {},
     "output_type": "execute_result"
    }
   ],
   "source": [
    "df"
   ]
  },
  {
   "cell_type": "code",
   "execution_count": 34,
   "id": "ebd1e3b1",
   "metadata": {},
   "outputs": [
    {
     "data": {
      "text/plain": [
       "pandas.core.frame.DataFrame"
      ]
     },
     "execution_count": 34,
     "metadata": {},
     "output_type": "execute_result"
    }
   ],
   "source": [
    "type(df)"
   ]
  },
  {
   "cell_type": "markdown",
   "id": "eb185068",
   "metadata": {},
   "source": [
    "Выведем второй столбец"
   ]
  },
  {
   "cell_type": "code",
   "execution_count": 35,
   "id": "63e08b1d",
   "metadata": {},
   "outputs": [
    {
     "data": {
      "text/plain": [
       "0     2145255\n",
       "1     2645256\n",
       "2    58161363\n",
       "3    63576357\n",
       "4    52362724\n",
       "Name: 1, dtype: int64"
      ]
     },
     "execution_count": 35,
     "metadata": {},
     "output_type": "execute_result"
    }
   ],
   "source": [
    "df[1]"
   ]
  },
  {
   "cell_type": "markdown",
   "id": "72a2f1ce",
   "metadata": {},
   "source": [
    "## Индексы и метод `.iloc`"
   ]
  },
  {
   "cell_type": "markdown",
   "id": "203d9633",
   "metadata": {},
   "source": [
    "Добавим названия столбцов в нашу таблицу"
   ]
  },
  {
   "cell_type": "code",
   "execution_count": 37,
   "id": "63961dcb",
   "metadata": {},
   "outputs": [],
   "source": [
    "df.columns = ['Info', 'Second', 'Index', 'Type', 'Direct', 'way']"
   ]
  },
  {
   "cell_type": "code",
   "execution_count": 38,
   "id": "50e78cc5",
   "metadata": {},
   "outputs": [
    {
     "data": {
      "text/html": [
       "<div>\n",
       "<style scoped>\n",
       "    .dataframe tbody tr th:only-of-type {\n",
       "        vertical-align: middle;\n",
       "    }\n",
       "\n",
       "    .dataframe tbody tr th {\n",
       "        vertical-align: top;\n",
       "    }\n",
       "\n",
       "    .dataframe thead th {\n",
       "        text-align: right;\n",
       "    }\n",
       "</style>\n",
       "<table border=\"1\" class=\"dataframe\">\n",
       "  <thead>\n",
       "    <tr style=\"text-align: right;\">\n",
       "      <th></th>\n",
       "      <th>Info</th>\n",
       "      <th>Second</th>\n",
       "      <th>Index</th>\n",
       "      <th>Type</th>\n",
       "      <th>Direct</th>\n",
       "      <th>way</th>\n",
       "    </tr>\n",
       "  </thead>\n",
       "  <tbody>\n",
       "    <tr>\n",
       "      <th>0</th>\n",
       "      <td>10000</td>\n",
       "      <td>2145255</td>\n",
       "      <td>2</td>\n",
       "      <td>1</td>\n",
       "      <td>0</td>\n",
       "      <td>264.365</td>\n",
       "    </tr>\n",
       "    <tr>\n",
       "      <th>1</th>\n",
       "      <td>20000</td>\n",
       "      <td>2645256</td>\n",
       "      <td>5</td>\n",
       "      <td>0</td>\n",
       "      <td>1</td>\n",
       "      <td>546.345</td>\n",
       "    </tr>\n",
       "    <tr>\n",
       "      <th>2</th>\n",
       "      <td>100</td>\n",
       "      <td>58161363</td>\n",
       "      <td>3</td>\n",
       "      <td>2</td>\n",
       "      <td>1</td>\n",
       "      <td>5634.689</td>\n",
       "    </tr>\n",
       "    <tr>\n",
       "      <th>3</th>\n",
       "      <td>524</td>\n",
       "      <td>63576357</td>\n",
       "      <td>11</td>\n",
       "      <td>4</td>\n",
       "      <td>0</td>\n",
       "      <td>678.544</td>\n",
       "    </tr>\n",
       "    <tr>\n",
       "      <th>4</th>\n",
       "      <td>634</td>\n",
       "      <td>52362724</td>\n",
       "      <td>7</td>\n",
       "      <td>3</td>\n",
       "      <td>1</td>\n",
       "      <td>8425.465</td>\n",
       "    </tr>\n",
       "  </tbody>\n",
       "</table>\n",
       "</div>"
      ],
      "text/plain": [
       "    Info    Second  Index  Type  Direct       way\n",
       "0  10000   2145255      2     1       0   264.365\n",
       "1  20000   2645256      5     0       1   546.345\n",
       "2    100  58161363      3     2       1  5634.689\n",
       "3    524  63576357     11     4       0   678.544\n",
       "4    634  52362724      7     3       1  8425.465"
      ]
     },
     "execution_count": 38,
     "metadata": {},
     "output_type": "execute_result"
    }
   ],
   "source": [
    "df"
   ]
  },
  {
   "cell_type": "markdown",
   "id": "3913d147",
   "metadata": {},
   "source": [
    "Выберем некоторые элементы из датафрейма"
   ]
  },
  {
   "cell_type": "code",
   "execution_count": 40,
   "id": "b648d479",
   "metadata": {},
   "outputs": [
    {
     "data": {
      "text/plain": [
       "5634.689"
      ]
     },
     "execution_count": 40,
     "metadata": {},
     "output_type": "execute_result"
    }
   ],
   "source": [
    "df.iloc[2, -1]"
   ]
  },
  {
   "cell_type": "code",
   "execution_count": 41,
   "id": "40a4d7fd",
   "metadata": {},
   "outputs": [
    {
     "data": {
      "text/plain": [
       "0    1\n",
       "1    0\n",
       "Name: Type, dtype: int64"
      ]
     },
     "execution_count": 41,
     "metadata": {},
     "output_type": "execute_result"
    }
   ],
   "source": [
    "df.iloc[:2, 3]"
   ]
  },
  {
   "cell_type": "code",
   "execution_count": 42,
   "id": "2fb70ac7",
   "metadata": {},
   "outputs": [
    {
     "data": {
      "text/plain": [
       "0    0\n",
       "1    1\n",
       "2    1\n",
       "3    0\n",
       "4    1\n",
       "Name: Direct, dtype: int64"
      ]
     },
     "execution_count": 42,
     "metadata": {},
     "output_type": "execute_result"
    }
   ],
   "source": [
    "df.iloc[:, 4]"
   ]
  },
  {
   "cell_type": "code",
   "execution_count": 43,
   "id": "dce7acdd",
   "metadata": {},
   "outputs": [
    {
     "data": {
      "text/html": [
       "<div>\n",
       "<style scoped>\n",
       "    .dataframe tbody tr th:only-of-type {\n",
       "        vertical-align: middle;\n",
       "    }\n",
       "\n",
       "    .dataframe tbody tr th {\n",
       "        vertical-align: top;\n",
       "    }\n",
       "\n",
       "    .dataframe thead th {\n",
       "        text-align: right;\n",
       "    }\n",
       "</style>\n",
       "<table border=\"1\" class=\"dataframe\">\n",
       "  <thead>\n",
       "    <tr style=\"text-align: right;\">\n",
       "      <th></th>\n",
       "      <th>Info</th>\n",
       "      <th>Second</th>\n",
       "      <th>Index</th>\n",
       "      <th>Type</th>\n",
       "      <th>Direct</th>\n",
       "      <th>way</th>\n",
       "    </tr>\n",
       "  </thead>\n",
       "  <tbody>\n",
       "    <tr>\n",
       "      <th>3</th>\n",
       "      <td>524</td>\n",
       "      <td>63576357</td>\n",
       "      <td>11</td>\n",
       "      <td>4</td>\n",
       "      <td>0</td>\n",
       "      <td>678.544</td>\n",
       "    </tr>\n",
       "    <tr>\n",
       "      <th>4</th>\n",
       "      <td>634</td>\n",
       "      <td>52362724</td>\n",
       "      <td>7</td>\n",
       "      <td>3</td>\n",
       "      <td>1</td>\n",
       "      <td>8425.465</td>\n",
       "    </tr>\n",
       "  </tbody>\n",
       "</table>\n",
       "</div>"
      ],
      "text/plain": [
       "   Info    Second  Index  Type  Direct       way\n",
       "3   524  63576357     11     4       0   678.544\n",
       "4   634  52362724      7     3       1  8425.465"
      ]
     },
     "execution_count": 43,
     "metadata": {},
     "output_type": "execute_result"
    }
   ],
   "source": [
    "df.iloc[-2:, :]"
   ]
  },
  {
   "cell_type": "markdown",
   "id": "a82788d3",
   "metadata": {},
   "source": [
    "Можно попробовать ввести индекс без `.loc` и посмотреть, что получится: "
   ]
  },
  {
   "cell_type": "code",
   "execution_count": 44,
   "id": "2bdfbb15",
   "metadata": {},
   "outputs": [
    {
     "ename": "KeyError",
     "evalue": "0",
     "output_type": "error",
     "traceback": [
      "\u001b[1;31m---------------------------------------------------------------------------\u001b[0m",
      "\u001b[1;31mKeyError\u001b[0m                                  Traceback (most recent call last)",
      "\u001b[1;32mC:\\ProgramData\\Anaconda3\\lib\\site-packages\\pandas\\core\\indexes\\base.py\u001b[0m in \u001b[0;36mget_loc\u001b[1;34m(self, key, method, tolerance)\u001b[0m\n\u001b[0;32m   3079\u001b[0m             \u001b[1;32mtry\u001b[0m\u001b[1;33m:\u001b[0m\u001b[1;33m\u001b[0m\u001b[1;33m\u001b[0m\u001b[0m\n\u001b[1;32m-> 3080\u001b[1;33m                 \u001b[1;32mreturn\u001b[0m \u001b[0mself\u001b[0m\u001b[1;33m.\u001b[0m\u001b[0m_engine\u001b[0m\u001b[1;33m.\u001b[0m\u001b[0mget_loc\u001b[0m\u001b[1;33m(\u001b[0m\u001b[0mcasted_key\u001b[0m\u001b[1;33m)\u001b[0m\u001b[1;33m\u001b[0m\u001b[1;33m\u001b[0m\u001b[0m\n\u001b[0m\u001b[0;32m   3081\u001b[0m             \u001b[1;32mexcept\u001b[0m \u001b[0mKeyError\u001b[0m \u001b[1;32mas\u001b[0m \u001b[0merr\u001b[0m\u001b[1;33m:\u001b[0m\u001b[1;33m\u001b[0m\u001b[1;33m\u001b[0m\u001b[0m\n",
      "\u001b[1;32mpandas\\_libs\\index.pyx\u001b[0m in \u001b[0;36mpandas._libs.index.IndexEngine.get_loc\u001b[1;34m()\u001b[0m\n",
      "\u001b[1;32mpandas\\_libs\\index.pyx\u001b[0m in \u001b[0;36mpandas._libs.index.IndexEngine.get_loc\u001b[1;34m()\u001b[0m\n",
      "\u001b[1;32mpandas\\_libs\\hashtable_class_helper.pxi\u001b[0m in \u001b[0;36mpandas._libs.hashtable.PyObjectHashTable.get_item\u001b[1;34m()\u001b[0m\n",
      "\u001b[1;32mpandas\\_libs\\hashtable_class_helper.pxi\u001b[0m in \u001b[0;36mpandas._libs.hashtable.PyObjectHashTable.get_item\u001b[1;34m()\u001b[0m\n",
      "\u001b[1;31mKeyError\u001b[0m: 0",
      "\nThe above exception was the direct cause of the following exception:\n",
      "\u001b[1;31mKeyError\u001b[0m                                  Traceback (most recent call last)",
      "\u001b[1;32m<ipython-input-44-ad11118bc8f3>\u001b[0m in \u001b[0;36m<module>\u001b[1;34m\u001b[0m\n\u001b[1;32m----> 1\u001b[1;33m \u001b[0mdf\u001b[0m\u001b[1;33m[\u001b[0m\u001b[1;36m0\u001b[0m\u001b[1;33m]\u001b[0m\u001b[1;33m\u001b[0m\u001b[1;33m\u001b[0m\u001b[0m\n\u001b[0m",
      "\u001b[1;32mC:\\ProgramData\\Anaconda3\\lib\\site-packages\\pandas\\core\\frame.py\u001b[0m in \u001b[0;36m__getitem__\u001b[1;34m(self, key)\u001b[0m\n\u001b[0;32m   3022\u001b[0m             \u001b[1;32mif\u001b[0m \u001b[0mself\u001b[0m\u001b[1;33m.\u001b[0m\u001b[0mcolumns\u001b[0m\u001b[1;33m.\u001b[0m\u001b[0mnlevels\u001b[0m \u001b[1;33m>\u001b[0m \u001b[1;36m1\u001b[0m\u001b[1;33m:\u001b[0m\u001b[1;33m\u001b[0m\u001b[1;33m\u001b[0m\u001b[0m\n\u001b[0;32m   3023\u001b[0m                 \u001b[1;32mreturn\u001b[0m \u001b[0mself\u001b[0m\u001b[1;33m.\u001b[0m\u001b[0m_getitem_multilevel\u001b[0m\u001b[1;33m(\u001b[0m\u001b[0mkey\u001b[0m\u001b[1;33m)\u001b[0m\u001b[1;33m\u001b[0m\u001b[1;33m\u001b[0m\u001b[0m\n\u001b[1;32m-> 3024\u001b[1;33m             \u001b[0mindexer\u001b[0m \u001b[1;33m=\u001b[0m \u001b[0mself\u001b[0m\u001b[1;33m.\u001b[0m\u001b[0mcolumns\u001b[0m\u001b[1;33m.\u001b[0m\u001b[0mget_loc\u001b[0m\u001b[1;33m(\u001b[0m\u001b[0mkey\u001b[0m\u001b[1;33m)\u001b[0m\u001b[1;33m\u001b[0m\u001b[1;33m\u001b[0m\u001b[0m\n\u001b[0m\u001b[0;32m   3025\u001b[0m             \u001b[1;32mif\u001b[0m \u001b[0mis_integer\u001b[0m\u001b[1;33m(\u001b[0m\u001b[0mindexer\u001b[0m\u001b[1;33m)\u001b[0m\u001b[1;33m:\u001b[0m\u001b[1;33m\u001b[0m\u001b[1;33m\u001b[0m\u001b[0m\n\u001b[0;32m   3026\u001b[0m                 \u001b[0mindexer\u001b[0m \u001b[1;33m=\u001b[0m \u001b[1;33m[\u001b[0m\u001b[0mindexer\u001b[0m\u001b[1;33m]\u001b[0m\u001b[1;33m\u001b[0m\u001b[1;33m\u001b[0m\u001b[0m\n",
      "\u001b[1;32mC:\\ProgramData\\Anaconda3\\lib\\site-packages\\pandas\\core\\indexes\\base.py\u001b[0m in \u001b[0;36mget_loc\u001b[1;34m(self, key, method, tolerance)\u001b[0m\n\u001b[0;32m   3080\u001b[0m                 \u001b[1;32mreturn\u001b[0m \u001b[0mself\u001b[0m\u001b[1;33m.\u001b[0m\u001b[0m_engine\u001b[0m\u001b[1;33m.\u001b[0m\u001b[0mget_loc\u001b[0m\u001b[1;33m(\u001b[0m\u001b[0mcasted_key\u001b[0m\u001b[1;33m)\u001b[0m\u001b[1;33m\u001b[0m\u001b[1;33m\u001b[0m\u001b[0m\n\u001b[0;32m   3081\u001b[0m             \u001b[1;32mexcept\u001b[0m \u001b[0mKeyError\u001b[0m \u001b[1;32mas\u001b[0m \u001b[0merr\u001b[0m\u001b[1;33m:\u001b[0m\u001b[1;33m\u001b[0m\u001b[1;33m\u001b[0m\u001b[0m\n\u001b[1;32m-> 3082\u001b[1;33m                 \u001b[1;32mraise\u001b[0m \u001b[0mKeyError\u001b[0m\u001b[1;33m(\u001b[0m\u001b[0mkey\u001b[0m\u001b[1;33m)\u001b[0m \u001b[1;32mfrom\u001b[0m \u001b[0merr\u001b[0m\u001b[1;33m\u001b[0m\u001b[1;33m\u001b[0m\u001b[0m\n\u001b[0m\u001b[0;32m   3083\u001b[0m \u001b[1;33m\u001b[0m\u001b[0m\n\u001b[0;32m   3084\u001b[0m         \u001b[1;32mif\u001b[0m \u001b[0mtolerance\u001b[0m \u001b[1;32mis\u001b[0m \u001b[1;32mnot\u001b[0m \u001b[1;32mNone\u001b[0m\u001b[1;33m:\u001b[0m\u001b[1;33m\u001b[0m\u001b[1;33m\u001b[0m\u001b[0m\n",
      "\u001b[1;31mKeyError\u001b[0m: 0"
     ]
    }
   ],
   "source": [
    "df[0]"
   ]
  },
  {
   "cell_type": "code",
   "execution_count": 45,
   "id": "720e2ad9",
   "metadata": {},
   "outputs": [
    {
     "data": {
      "text/html": [
       "<div>\n",
       "<style scoped>\n",
       "    .dataframe tbody tr th:only-of-type {\n",
       "        vertical-align: middle;\n",
       "    }\n",
       "\n",
       "    .dataframe tbody tr th {\n",
       "        vertical-align: top;\n",
       "    }\n",
       "\n",
       "    .dataframe thead th {\n",
       "        text-align: right;\n",
       "    }\n",
       "</style>\n",
       "<table border=\"1\" class=\"dataframe\">\n",
       "  <thead>\n",
       "    <tr style=\"text-align: right;\">\n",
       "      <th></th>\n",
       "      <th>Info</th>\n",
       "      <th>Second</th>\n",
       "      <th>Index</th>\n",
       "      <th>Type</th>\n",
       "      <th>Direct</th>\n",
       "      <th>way</th>\n",
       "    </tr>\n",
       "  </thead>\n",
       "  <tbody>\n",
       "    <tr>\n",
       "      <th>1</th>\n",
       "      <td>20000</td>\n",
       "      <td>2645256</td>\n",
       "      <td>5</td>\n",
       "      <td>0</td>\n",
       "      <td>1</td>\n",
       "      <td>546.345</td>\n",
       "    </tr>\n",
       "    <tr>\n",
       "      <th>2</th>\n",
       "      <td>100</td>\n",
       "      <td>58161363</td>\n",
       "      <td>3</td>\n",
       "      <td>2</td>\n",
       "      <td>1</td>\n",
       "      <td>5634.689</td>\n",
       "    </tr>\n",
       "  </tbody>\n",
       "</table>\n",
       "</div>"
      ],
      "text/plain": [
       "    Info    Second  Index  Type  Direct       way\n",
       "1  20000   2645256      5     0       1   546.345\n",
       "2    100  58161363      3     2       1  5634.689"
      ]
     },
     "execution_count": 45,
     "metadata": {},
     "output_type": "execute_result"
    }
   ],
   "source": [
    "df[1:3]"
   ]
  },
  {
   "cell_type": "markdown",
   "id": "9255b4a7",
   "metadata": {},
   "source": [
    "## Индексы и метод `.loc`"
   ]
  },
  {
   "cell_type": "markdown",
   "id": "f0ad3418",
   "metadata": {},
   "source": [
    "В pandas, как и структурированных списках numpy, можно обращаться к столбцам по назваию"
   ]
  },
  {
   "cell_type": "code",
   "execution_count": 47,
   "id": "bce67ea4",
   "metadata": {},
   "outputs": [
    {
     "data": {
      "text/plain": [
       "0     2145255\n",
       "1     2645256\n",
       "2    58161363\n",
       "3    63576357\n",
       "4    52362724\n",
       "Name: Second, dtype: int64"
      ]
     },
     "execution_count": 47,
     "metadata": {},
     "output_type": "execute_result"
    }
   ],
   "source": [
    "df['Second']"
   ]
  },
  {
   "cell_type": "code",
   "execution_count": 48,
   "id": "779a5c01",
   "metadata": {},
   "outputs": [
    {
     "data": {
      "text/html": [
       "<div>\n",
       "<style scoped>\n",
       "    .dataframe tbody tr th:only-of-type {\n",
       "        vertical-align: middle;\n",
       "    }\n",
       "\n",
       "    .dataframe tbody tr th {\n",
       "        vertical-align: top;\n",
       "    }\n",
       "\n",
       "    .dataframe thead th {\n",
       "        text-align: right;\n",
       "    }\n",
       "</style>\n",
       "<table border=\"1\" class=\"dataframe\">\n",
       "  <thead>\n",
       "    <tr style=\"text-align: right;\">\n",
       "      <th></th>\n",
       "      <th>Second</th>\n",
       "      <th>Direct</th>\n",
       "    </tr>\n",
       "  </thead>\n",
       "  <tbody>\n",
       "    <tr>\n",
       "      <th>0</th>\n",
       "      <td>2145255</td>\n",
       "      <td>0</td>\n",
       "    </tr>\n",
       "    <tr>\n",
       "      <th>1</th>\n",
       "      <td>2645256</td>\n",
       "      <td>1</td>\n",
       "    </tr>\n",
       "    <tr>\n",
       "      <th>2</th>\n",
       "      <td>58161363</td>\n",
       "      <td>1</td>\n",
       "    </tr>\n",
       "    <tr>\n",
       "      <th>3</th>\n",
       "      <td>63576357</td>\n",
       "      <td>0</td>\n",
       "    </tr>\n",
       "    <tr>\n",
       "      <th>4</th>\n",
       "      <td>52362724</td>\n",
       "      <td>1</td>\n",
       "    </tr>\n",
       "  </tbody>\n",
       "</table>\n",
       "</div>"
      ],
      "text/plain": [
       "     Second  Direct\n",
       "0   2145255       0\n",
       "1   2645256       1\n",
       "2  58161363       1\n",
       "3  63576357       0\n",
       "4  52362724       1"
      ]
     },
     "execution_count": 48,
     "metadata": {},
     "output_type": "execute_result"
    }
   ],
   "source": [
    "df[['Second', 'Direct']]"
   ]
  },
  {
   "cell_type": "markdown",
   "id": "caaeeef5",
   "metadata": {},
   "source": [
    "С использоваием метода `.loc` можно выполнять стрезы по названиям строк и столбцов"
   ]
  },
  {
   "cell_type": "code",
   "execution_count": 50,
   "id": "9863f060",
   "metadata": {},
   "outputs": [
    {
     "data": {
      "text/html": [
       "<div>\n",
       "<style scoped>\n",
       "    .dataframe tbody tr th:only-of-type {\n",
       "        vertical-align: middle;\n",
       "    }\n",
       "\n",
       "    .dataframe tbody tr th {\n",
       "        vertical-align: top;\n",
       "    }\n",
       "\n",
       "    .dataframe thead th {\n",
       "        text-align: right;\n",
       "    }\n",
       "</style>\n",
       "<table border=\"1\" class=\"dataframe\">\n",
       "  <thead>\n",
       "    <tr style=\"text-align: right;\">\n",
       "      <th></th>\n",
       "      <th>Type</th>\n",
       "      <th>Direct</th>\n",
       "      <th>way</th>\n",
       "    </tr>\n",
       "  </thead>\n",
       "  <tbody>\n",
       "    <tr>\n",
       "      <th>0</th>\n",
       "      <td>1</td>\n",
       "      <td>0</td>\n",
       "      <td>264.365</td>\n",
       "    </tr>\n",
       "    <tr>\n",
       "      <th>1</th>\n",
       "      <td>0</td>\n",
       "      <td>1</td>\n",
       "      <td>546.345</td>\n",
       "    </tr>\n",
       "    <tr>\n",
       "      <th>2</th>\n",
       "      <td>2</td>\n",
       "      <td>1</td>\n",
       "      <td>5634.689</td>\n",
       "    </tr>\n",
       "    <tr>\n",
       "      <th>3</th>\n",
       "      <td>4</td>\n",
       "      <td>0</td>\n",
       "      <td>678.544</td>\n",
       "    </tr>\n",
       "    <tr>\n",
       "      <th>4</th>\n",
       "      <td>3</td>\n",
       "      <td>1</td>\n",
       "      <td>8425.465</td>\n",
       "    </tr>\n",
       "  </tbody>\n",
       "</table>\n",
       "</div>"
      ],
      "text/plain": [
       "   Type  Direct       way\n",
       "0     1       0   264.365\n",
       "1     0       1   546.345\n",
       "2     2       1  5634.689\n",
       "3     4       0   678.544\n",
       "4     3       1  8425.465"
      ]
     },
     "execution_count": 50,
     "metadata": {},
     "output_type": "execute_result"
    }
   ],
   "source": [
    "df.loc[:, 'Type':'way']"
   ]
  },
  {
   "cell_type": "markdown",
   "id": "60a6704f",
   "metadata": {},
   "source": [
    "При помощи метода index можно задавать имена строк"
   ]
  },
  {
   "cell_type": "code",
   "execution_count": 62,
   "id": "4f597205",
   "metadata": {},
   "outputs": [],
   "source": [
    "df.index = ['Строка %s' % i for i in range(len(df.index))]"
   ]
  },
  {
   "cell_type": "code",
   "execution_count": 63,
   "id": "7a796c11",
   "metadata": {},
   "outputs": [
    {
     "data": {
      "text/html": [
       "<div>\n",
       "<style scoped>\n",
       "    .dataframe tbody tr th:only-of-type {\n",
       "        vertical-align: middle;\n",
       "    }\n",
       "\n",
       "    .dataframe tbody tr th {\n",
       "        vertical-align: top;\n",
       "    }\n",
       "\n",
       "    .dataframe thead th {\n",
       "        text-align: right;\n",
       "    }\n",
       "</style>\n",
       "<table border=\"1\" class=\"dataframe\">\n",
       "  <thead>\n",
       "    <tr style=\"text-align: right;\">\n",
       "      <th></th>\n",
       "      <th>Info</th>\n",
       "      <th>Second</th>\n",
       "      <th>Index</th>\n",
       "      <th>Type</th>\n",
       "      <th>Direct</th>\n",
       "      <th>way</th>\n",
       "    </tr>\n",
       "  </thead>\n",
       "  <tbody>\n",
       "    <tr>\n",
       "      <th>Строка 0</th>\n",
       "      <td>10000</td>\n",
       "      <td>2145255</td>\n",
       "      <td>2</td>\n",
       "      <td>1</td>\n",
       "      <td>0</td>\n",
       "      <td>264.365</td>\n",
       "    </tr>\n",
       "    <tr>\n",
       "      <th>Строка 1</th>\n",
       "      <td>20000</td>\n",
       "      <td>2645256</td>\n",
       "      <td>5</td>\n",
       "      <td>0</td>\n",
       "      <td>1</td>\n",
       "      <td>546.345</td>\n",
       "    </tr>\n",
       "    <tr>\n",
       "      <th>Строка 2</th>\n",
       "      <td>100</td>\n",
       "      <td>58161363</td>\n",
       "      <td>3</td>\n",
       "      <td>2</td>\n",
       "      <td>1</td>\n",
       "      <td>5634.689</td>\n",
       "    </tr>\n",
       "    <tr>\n",
       "      <th>Строка 3</th>\n",
       "      <td>524</td>\n",
       "      <td>63576357</td>\n",
       "      <td>11</td>\n",
       "      <td>4</td>\n",
       "      <td>0</td>\n",
       "      <td>678.544</td>\n",
       "    </tr>\n",
       "    <tr>\n",
       "      <th>Строка 4</th>\n",
       "      <td>634</td>\n",
       "      <td>52362724</td>\n",
       "      <td>7</td>\n",
       "      <td>3</td>\n",
       "      <td>1</td>\n",
       "      <td>8425.465</td>\n",
       "    </tr>\n",
       "  </tbody>\n",
       "</table>\n",
       "</div>"
      ],
      "text/plain": [
       "           Info    Second  Index  Type  Direct       way\n",
       "Строка 0  10000   2145255      2     1       0   264.365\n",
       "Строка 1  20000   2645256      5     0       1   546.345\n",
       "Строка 2    100  58161363      3     2       1  5634.689\n",
       "Строка 3    524  63576357     11     4       0   678.544\n",
       "Строка 4    634  52362724      7     3       1  8425.465"
      ]
     },
     "execution_count": 63,
     "metadata": {},
     "output_type": "execute_result"
    }
   ],
   "source": [
    "df"
   ]
  },
  {
   "cell_type": "code",
   "execution_count": 64,
   "id": "c87e9f48",
   "metadata": {},
   "outputs": [
    {
     "data": {
      "text/plain": [
       "5"
      ]
     },
     "execution_count": 64,
     "metadata": {},
     "output_type": "execute_result"
    }
   ],
   "source": [
    "df.loc['Строка 1', 'Index']"
   ]
  },
  {
   "cell_type": "code",
   "execution_count": 66,
   "id": "7883ac09",
   "metadata": {},
   "outputs": [
    {
     "data": {
      "text/html": [
       "<div>\n",
       "<style scoped>\n",
       "    .dataframe tbody tr th:only-of-type {\n",
       "        vertical-align: middle;\n",
       "    }\n",
       "\n",
       "    .dataframe tbody tr th {\n",
       "        vertical-align: top;\n",
       "    }\n",
       "\n",
       "    .dataframe thead th {\n",
       "        text-align: right;\n",
       "    }\n",
       "</style>\n",
       "<table border=\"1\" class=\"dataframe\">\n",
       "  <thead>\n",
       "    <tr style=\"text-align: right;\">\n",
       "      <th></th>\n",
       "      <th>Second</th>\n",
       "      <th>Index</th>\n",
       "      <th>Type</th>\n",
       "      <th>Direct</th>\n",
       "    </tr>\n",
       "  </thead>\n",
       "  <tbody>\n",
       "    <tr>\n",
       "      <th>Строка 1</th>\n",
       "      <td>2645256</td>\n",
       "      <td>5</td>\n",
       "      <td>0</td>\n",
       "      <td>1</td>\n",
       "    </tr>\n",
       "    <tr>\n",
       "      <th>Строка 2</th>\n",
       "      <td>58161363</td>\n",
       "      <td>3</td>\n",
       "      <td>2</td>\n",
       "      <td>1</td>\n",
       "    </tr>\n",
       "    <tr>\n",
       "      <th>Строка 3</th>\n",
       "      <td>63576357</td>\n",
       "      <td>11</td>\n",
       "      <td>4</td>\n",
       "      <td>0</td>\n",
       "    </tr>\n",
       "  </tbody>\n",
       "</table>\n",
       "</div>"
      ],
      "text/plain": [
       "            Second  Index  Type  Direct\n",
       "Строка 1   2645256      5     0       1\n",
       "Строка 2  58161363      3     2       1\n",
       "Строка 3  63576357     11     4       0"
      ]
     },
     "execution_count": 66,
     "metadata": {},
     "output_type": "execute_result"
    }
   ],
   "source": [
    "df.loc['Строка 1': 'Строка 3', 'Second': 'Direct']"
   ]
  },
  {
   "cell_type": "code",
   "execution_count": 67,
   "id": "ed96363a",
   "metadata": {},
   "outputs": [
    {
     "data": {
      "text/html": [
       "<div>\n",
       "<style scoped>\n",
       "    .dataframe tbody tr th:only-of-type {\n",
       "        vertical-align: middle;\n",
       "    }\n",
       "\n",
       "    .dataframe tbody tr th {\n",
       "        vertical-align: top;\n",
       "    }\n",
       "\n",
       "    .dataframe thead th {\n",
       "        text-align: right;\n",
       "    }\n",
       "</style>\n",
       "<table border=\"1\" class=\"dataframe\">\n",
       "  <thead>\n",
       "    <tr style=\"text-align: right;\">\n",
       "      <th></th>\n",
       "      <th>Info</th>\n",
       "      <th>way</th>\n",
       "    </tr>\n",
       "  </thead>\n",
       "  <tbody>\n",
       "    <tr>\n",
       "      <th>Строка 1</th>\n",
       "      <td>20000</td>\n",
       "      <td>546.345</td>\n",
       "    </tr>\n",
       "    <tr>\n",
       "      <th>Строка 2</th>\n",
       "      <td>100</td>\n",
       "      <td>5634.689</td>\n",
       "    </tr>\n",
       "    <tr>\n",
       "      <th>Строка 3</th>\n",
       "      <td>524</td>\n",
       "      <td>678.544</td>\n",
       "    </tr>\n",
       "  </tbody>\n",
       "</table>\n",
       "</div>"
      ],
      "text/plain": [
       "           Info       way\n",
       "Строка 1  20000   546.345\n",
       "Строка 2    100  5634.689\n",
       "Строка 3    524   678.544"
      ]
     },
     "execution_count": 67,
     "metadata": {},
     "output_type": "execute_result"
    }
   ],
   "source": [
    "df.loc['Строка 1': 'Строка 3', ['Info', 'way']]"
   ]
  },
  {
   "cell_type": "markdown",
   "id": "62696a7a",
   "metadata": {},
   "source": [
    "## Характеристики датафрейма `pandas`"
   ]
  },
  {
   "cell_type": "markdown",
   "id": "455dd23e",
   "metadata": {},
   "source": [
    "Сводная информация"
   ]
  },
  {
   "cell_type": "code",
   "execution_count": 69,
   "id": "d41464fc",
   "metadata": {},
   "outputs": [
    {
     "name": "stdout",
     "output_type": "stream",
     "text": [
      "<class 'pandas.core.frame.DataFrame'>\n",
      "Index: 5 entries, Строка 0 to Строка 4\n",
      "Data columns (total 6 columns):\n",
      " #   Column  Non-Null Count  Dtype  \n",
      "---  ------  --------------  -----  \n",
      " 0   Info    5 non-null      int64  \n",
      " 1   Second  5 non-null      int64  \n",
      " 2   Index   5 non-null      int64  \n",
      " 3   Type    5 non-null      int64  \n",
      " 4   Direct  5 non-null      int64  \n",
      " 5   way     5 non-null      float64\n",
      "dtypes: float64(1), int64(5)\n",
      "memory usage: 452.0+ bytes\n"
     ]
    }
   ],
   "source": [
    "df.info()"
   ]
  },
  {
   "cell_type": "markdown",
   "id": "2f9d32a8",
   "metadata": {},
   "source": [
    "Число строк и столбцов"
   ]
  },
  {
   "cell_type": "code",
   "execution_count": 70,
   "id": "ddd695cf",
   "metadata": {},
   "outputs": [
    {
     "data": {
      "text/plain": [
       "(5, 6)"
      ]
     },
     "execution_count": 70,
     "metadata": {},
     "output_type": "execute_result"
    }
   ],
   "source": [
    "df.shape"
   ]
  },
  {
   "cell_type": "code",
   "execution_count": 71,
   "id": "0787a611",
   "metadata": {},
   "outputs": [
    {
     "data": {
      "text/plain": [
       "5"
      ]
     },
     "execution_count": 71,
     "metadata": {},
     "output_type": "execute_result"
    }
   ],
   "source": [
    "df.shape[0]"
   ]
  },
  {
   "cell_type": "code",
   "execution_count": 72,
   "id": "7818b178",
   "metadata": {},
   "outputs": [
    {
     "data": {
      "text/plain": [
       "6"
      ]
     },
     "execution_count": 72,
     "metadata": {},
     "output_type": "execute_result"
    }
   ],
   "source": [
    "df.shape[1]"
   ]
  },
  {
   "cell_type": "markdown",
   "id": "ed8ab677",
   "metadata": {},
   "source": [
    "Описательные статистики по столбцам данного датафрейма:"
   ]
  },
  {
   "cell_type": "code",
   "execution_count": 73,
   "id": "f645c69d",
   "metadata": {},
   "outputs": [
    {
     "data": {
      "text/html": [
       "<div>\n",
       "<style scoped>\n",
       "    .dataframe tbody tr th:only-of-type {\n",
       "        vertical-align: middle;\n",
       "    }\n",
       "\n",
       "    .dataframe tbody tr th {\n",
       "        vertical-align: top;\n",
       "    }\n",
       "\n",
       "    .dataframe thead th {\n",
       "        text-align: right;\n",
       "    }\n",
       "</style>\n",
       "<table border=\"1\" class=\"dataframe\">\n",
       "  <thead>\n",
       "    <tr style=\"text-align: right;\">\n",
       "      <th></th>\n",
       "      <th>Info</th>\n",
       "      <th>Second</th>\n",
       "      <th>Index</th>\n",
       "      <th>Type</th>\n",
       "      <th>Direct</th>\n",
       "      <th>way</th>\n",
       "    </tr>\n",
       "  </thead>\n",
       "  <tbody>\n",
       "    <tr>\n",
       "      <th>count</th>\n",
       "      <td>5.000000</td>\n",
       "      <td>5.000000e+00</td>\n",
       "      <td>5.000000</td>\n",
       "      <td>5.000000</td>\n",
       "      <td>5.000000</td>\n",
       "      <td>5.000000</td>\n",
       "    </tr>\n",
       "    <tr>\n",
       "      <th>mean</th>\n",
       "      <td>6251.600000</td>\n",
       "      <td>3.577819e+07</td>\n",
       "      <td>5.600000</td>\n",
       "      <td>2.000000</td>\n",
       "      <td>0.600000</td>\n",
       "      <td>3109.881600</td>\n",
       "    </tr>\n",
       "    <tr>\n",
       "      <th>std</th>\n",
       "      <td>8736.046291</td>\n",
       "      <td>3.073173e+07</td>\n",
       "      <td>3.577709</td>\n",
       "      <td>1.581139</td>\n",
       "      <td>0.547723</td>\n",
       "      <td>3715.177197</td>\n",
       "    </tr>\n",
       "    <tr>\n",
       "      <th>min</th>\n",
       "      <td>100.000000</td>\n",
       "      <td>2.145255e+06</td>\n",
       "      <td>2.000000</td>\n",
       "      <td>0.000000</td>\n",
       "      <td>0.000000</td>\n",
       "      <td>264.365000</td>\n",
       "    </tr>\n",
       "    <tr>\n",
       "      <th>25%</th>\n",
       "      <td>524.000000</td>\n",
       "      <td>2.645256e+06</td>\n",
       "      <td>3.000000</td>\n",
       "      <td>1.000000</td>\n",
       "      <td>0.000000</td>\n",
       "      <td>546.345000</td>\n",
       "    </tr>\n",
       "    <tr>\n",
       "      <th>50%</th>\n",
       "      <td>634.000000</td>\n",
       "      <td>5.236272e+07</td>\n",
       "      <td>5.000000</td>\n",
       "      <td>2.000000</td>\n",
       "      <td>1.000000</td>\n",
       "      <td>678.544000</td>\n",
       "    </tr>\n",
       "    <tr>\n",
       "      <th>75%</th>\n",
       "      <td>10000.000000</td>\n",
       "      <td>5.816136e+07</td>\n",
       "      <td>7.000000</td>\n",
       "      <td>3.000000</td>\n",
       "      <td>1.000000</td>\n",
       "      <td>5634.689000</td>\n",
       "    </tr>\n",
       "    <tr>\n",
       "      <th>max</th>\n",
       "      <td>20000.000000</td>\n",
       "      <td>6.357636e+07</td>\n",
       "      <td>11.000000</td>\n",
       "      <td>4.000000</td>\n",
       "      <td>1.000000</td>\n",
       "      <td>8425.465000</td>\n",
       "    </tr>\n",
       "  </tbody>\n",
       "</table>\n",
       "</div>"
      ],
      "text/plain": [
       "               Info        Second      Index      Type    Direct          way\n",
       "count      5.000000  5.000000e+00   5.000000  5.000000  5.000000     5.000000\n",
       "mean    6251.600000  3.577819e+07   5.600000  2.000000  0.600000  3109.881600\n",
       "std     8736.046291  3.073173e+07   3.577709  1.581139  0.547723  3715.177197\n",
       "min      100.000000  2.145255e+06   2.000000  0.000000  0.000000   264.365000\n",
       "25%      524.000000  2.645256e+06   3.000000  1.000000  0.000000   546.345000\n",
       "50%      634.000000  5.236272e+07   5.000000  2.000000  1.000000   678.544000\n",
       "75%    10000.000000  5.816136e+07   7.000000  3.000000  1.000000  5634.689000\n",
       "max    20000.000000  6.357636e+07  11.000000  4.000000  1.000000  8425.465000"
      ]
     },
     "execution_count": 73,
     "metadata": {},
     "output_type": "execute_result"
    }
   ],
   "source": [
    "df.describe()"
   ]
  },
  {
   "cell_type": "code",
   "execution_count": 74,
   "id": "c503b3bc",
   "metadata": {},
   "outputs": [
    {
     "data": {
      "text/plain": [
       "Index(['Info', 'Second', 'Index', 'Type', 'Direct', 'way'], dtype='object')"
      ]
     },
     "execution_count": 74,
     "metadata": {},
     "output_type": "execute_result"
    }
   ],
   "source": [
    "df.columns"
   ]
  },
  {
   "cell_type": "code",
   "execution_count": 75,
   "id": "e0460b3f",
   "metadata": {},
   "outputs": [
    {
     "data": {
      "text/plain": [
       "pandas.core.indexes.base.Index"
      ]
     },
     "execution_count": 75,
     "metadata": {},
     "output_type": "execute_result"
    }
   ],
   "source": [
    "type(df.columns)"
   ]
  },
  {
   "cell_type": "code",
   "execution_count": 76,
   "id": "460d0f65",
   "metadata": {},
   "outputs": [
    {
     "data": {
      "text/plain": [
       "'Second'"
      ]
     },
     "execution_count": 76,
     "metadata": {},
     "output_type": "execute_result"
    }
   ],
   "source": [
    "df.columns[1]"
   ]
  },
  {
   "cell_type": "markdown",
   "id": "1362a99f",
   "metadata": {},
   "source": [
    "Изменять название столбцов через индексацию нельзя"
   ]
  },
  {
   "cell_type": "code",
   "execution_count": 77,
   "id": "c41339cb",
   "metadata": {},
   "outputs": [
    {
     "ename": "TypeError",
     "evalue": "Index does not support mutable operations",
     "output_type": "error",
     "traceback": [
      "\u001b[1;31m---------------------------------------------------------------------------\u001b[0m",
      "\u001b[1;31mTypeError\u001b[0m                                 Traceback (most recent call last)",
      "\u001b[1;32m<ipython-input-77-9bf7aa893480>\u001b[0m in \u001b[0;36m<module>\u001b[1;34m\u001b[0m\n\u001b[1;32m----> 1\u001b[1;33m \u001b[0mdf\u001b[0m\u001b[1;33m.\u001b[0m\u001b[0mcolumns\u001b[0m\u001b[1;33m[\u001b[0m\u001b[1;36m1\u001b[0m\u001b[1;33m]\u001b[0m \u001b[1;33m=\u001b[0m \u001b[1;34m'name'\u001b[0m\u001b[1;33m\u001b[0m\u001b[1;33m\u001b[0m\u001b[0m\n\u001b[0m",
      "\u001b[1;32mC:\\ProgramData\\Anaconda3\\lib\\site-packages\\pandas\\core\\indexes\\base.py\u001b[0m in \u001b[0;36m__setitem__\u001b[1;34m(self, key, value)\u001b[0m\n\u001b[0;32m   4275\u001b[0m     \u001b[1;33m@\u001b[0m\u001b[0mfinal\u001b[0m\u001b[1;33m\u001b[0m\u001b[1;33m\u001b[0m\u001b[0m\n\u001b[0;32m   4276\u001b[0m     \u001b[1;32mdef\u001b[0m \u001b[0m__setitem__\u001b[0m\u001b[1;33m(\u001b[0m\u001b[0mself\u001b[0m\u001b[1;33m,\u001b[0m \u001b[0mkey\u001b[0m\u001b[1;33m,\u001b[0m \u001b[0mvalue\u001b[0m\u001b[1;33m)\u001b[0m\u001b[1;33m:\u001b[0m\u001b[1;33m\u001b[0m\u001b[1;33m\u001b[0m\u001b[0m\n\u001b[1;32m-> 4277\u001b[1;33m         \u001b[1;32mraise\u001b[0m \u001b[0mTypeError\u001b[0m\u001b[1;33m(\u001b[0m\u001b[1;34m\"Index does not support mutable operations\"\u001b[0m\u001b[1;33m)\u001b[0m\u001b[1;33m\u001b[0m\u001b[1;33m\u001b[0m\u001b[0m\n\u001b[0m\u001b[0;32m   4278\u001b[0m \u001b[1;33m\u001b[0m\u001b[0m\n\u001b[0;32m   4279\u001b[0m     \u001b[1;32mdef\u001b[0m \u001b[0m__getitem__\u001b[0m\u001b[1;33m(\u001b[0m\u001b[0mself\u001b[0m\u001b[1;33m,\u001b[0m \u001b[0mkey\u001b[0m\u001b[1;33m)\u001b[0m\u001b[1;33m:\u001b[0m\u001b[1;33m\u001b[0m\u001b[1;33m\u001b[0m\u001b[0m\n",
      "\u001b[1;31mTypeError\u001b[0m: Index does not support mutable operations"
     ]
    }
   ],
   "source": [
    "df.columns[1] = 'name'"
   ]
  },
  {
   "cell_type": "code",
   "execution_count": 78,
   "id": "6d6ffe5d",
   "metadata": {},
   "outputs": [
    {
     "data": {
      "text/plain": [
       "['Info', 'Second', 'Index', 'Type', 'Direct', 'way']"
      ]
     },
     "execution_count": 78,
     "metadata": {},
     "output_type": "execute_result"
    }
   ],
   "source": [
    "list(df.columns)"
   ]
  },
  {
   "cell_type": "code",
   "execution_count": 79,
   "id": "dfb1d87e",
   "metadata": {},
   "outputs": [
    {
     "data": {
      "text/plain": [
       "Index(['Строка 0', 'Строка 1', 'Строка 2', 'Строка 3', 'Строка 4'], dtype='object')"
      ]
     },
     "execution_count": 79,
     "metadata": {},
     "output_type": "execute_result"
    }
   ],
   "source": [
    "df.index"
   ]
  },
  {
   "cell_type": "markdown",
   "id": "85468033",
   "metadata": {},
   "source": [
    "## Операции над датафреймами"
   ]
  },
  {
   "cell_type": "markdown",
   "id": "898b3347",
   "metadata": {},
   "source": [
    "Первые несколько строк:"
   ]
  },
  {
   "cell_type": "code",
   "execution_count": 80,
   "id": "d202fb8d",
   "metadata": {},
   "outputs": [
    {
     "data": {
      "text/html": [
       "<div>\n",
       "<style scoped>\n",
       "    .dataframe tbody tr th:only-of-type {\n",
       "        vertical-align: middle;\n",
       "    }\n",
       "\n",
       "    .dataframe tbody tr th {\n",
       "        vertical-align: top;\n",
       "    }\n",
       "\n",
       "    .dataframe thead th {\n",
       "        text-align: right;\n",
       "    }\n",
       "</style>\n",
       "<table border=\"1\" class=\"dataframe\">\n",
       "  <thead>\n",
       "    <tr style=\"text-align: right;\">\n",
       "      <th></th>\n",
       "      <th>Info</th>\n",
       "      <th>Second</th>\n",
       "      <th>Index</th>\n",
       "      <th>Type</th>\n",
       "      <th>Direct</th>\n",
       "      <th>way</th>\n",
       "    </tr>\n",
       "  </thead>\n",
       "  <tbody>\n",
       "    <tr>\n",
       "      <th>Строка 0</th>\n",
       "      <td>10000</td>\n",
       "      <td>2145255</td>\n",
       "      <td>2</td>\n",
       "      <td>1</td>\n",
       "      <td>0</td>\n",
       "      <td>264.365</td>\n",
       "    </tr>\n",
       "    <tr>\n",
       "      <th>Строка 1</th>\n",
       "      <td>20000</td>\n",
       "      <td>2645256</td>\n",
       "      <td>5</td>\n",
       "      <td>0</td>\n",
       "      <td>1</td>\n",
       "      <td>546.345</td>\n",
       "    </tr>\n",
       "    <tr>\n",
       "      <th>Строка 2</th>\n",
       "      <td>100</td>\n",
       "      <td>58161363</td>\n",
       "      <td>3</td>\n",
       "      <td>2</td>\n",
       "      <td>1</td>\n",
       "      <td>5634.689</td>\n",
       "    </tr>\n",
       "    <tr>\n",
       "      <th>Строка 3</th>\n",
       "      <td>524</td>\n",
       "      <td>63576357</td>\n",
       "      <td>11</td>\n",
       "      <td>4</td>\n",
       "      <td>0</td>\n",
       "      <td>678.544</td>\n",
       "    </tr>\n",
       "    <tr>\n",
       "      <th>Строка 4</th>\n",
       "      <td>634</td>\n",
       "      <td>52362724</td>\n",
       "      <td>7</td>\n",
       "      <td>3</td>\n",
       "      <td>1</td>\n",
       "      <td>8425.465</td>\n",
       "    </tr>\n",
       "  </tbody>\n",
       "</table>\n",
       "</div>"
      ],
      "text/plain": [
       "           Info    Second  Index  Type  Direct       way\n",
       "Строка 0  10000   2145255      2     1       0   264.365\n",
       "Строка 1  20000   2645256      5     0       1   546.345\n",
       "Строка 2    100  58161363      3     2       1  5634.689\n",
       "Строка 3    524  63576357     11     4       0   678.544\n",
       "Строка 4    634  52362724      7     3       1  8425.465"
      ]
     },
     "execution_count": 80,
     "metadata": {},
     "output_type": "execute_result"
    }
   ],
   "source": [
    "df.head()"
   ]
  },
  {
   "cell_type": "code",
   "execution_count": 81,
   "id": "10103dbf",
   "metadata": {},
   "outputs": [
    {
     "data": {
      "text/html": [
       "<div>\n",
       "<style scoped>\n",
       "    .dataframe tbody tr th:only-of-type {\n",
       "        vertical-align: middle;\n",
       "    }\n",
       "\n",
       "    .dataframe tbody tr th {\n",
       "        vertical-align: top;\n",
       "    }\n",
       "\n",
       "    .dataframe thead th {\n",
       "        text-align: right;\n",
       "    }\n",
       "</style>\n",
       "<table border=\"1\" class=\"dataframe\">\n",
       "  <thead>\n",
       "    <tr style=\"text-align: right;\">\n",
       "      <th></th>\n",
       "      <th>Info</th>\n",
       "      <th>Second</th>\n",
       "      <th>Index</th>\n",
       "      <th>Type</th>\n",
       "      <th>Direct</th>\n",
       "      <th>way</th>\n",
       "    </tr>\n",
       "  </thead>\n",
       "  <tbody>\n",
       "    <tr>\n",
       "      <th>Строка 0</th>\n",
       "      <td>10000</td>\n",
       "      <td>2145255</td>\n",
       "      <td>2</td>\n",
       "      <td>1</td>\n",
       "      <td>0</td>\n",
       "      <td>264.365</td>\n",
       "    </tr>\n",
       "    <tr>\n",
       "      <th>Строка 1</th>\n",
       "      <td>20000</td>\n",
       "      <td>2645256</td>\n",
       "      <td>5</td>\n",
       "      <td>0</td>\n",
       "      <td>1</td>\n",
       "      <td>546.345</td>\n",
       "    </tr>\n",
       "    <tr>\n",
       "      <th>Строка 2</th>\n",
       "      <td>100</td>\n",
       "      <td>58161363</td>\n",
       "      <td>3</td>\n",
       "      <td>2</td>\n",
       "      <td>1</td>\n",
       "      <td>5634.689</td>\n",
       "    </tr>\n",
       "  </tbody>\n",
       "</table>\n",
       "</div>"
      ],
      "text/plain": [
       "           Info    Second  Index  Type  Direct       way\n",
       "Строка 0  10000   2145255      2     1       0   264.365\n",
       "Строка 1  20000   2645256      5     0       1   546.345\n",
       "Строка 2    100  58161363      3     2       1  5634.689"
      ]
     },
     "execution_count": 81,
     "metadata": {},
     "output_type": "execute_result"
    }
   ],
   "source": [
    "df.head(3)"
   ]
  },
  {
   "cell_type": "code",
   "execution_count": 82,
   "id": "29546a22",
   "metadata": {},
   "outputs": [
    {
     "data": {
      "text/html": [
       "<div>\n",
       "<style scoped>\n",
       "    .dataframe tbody tr th:only-of-type {\n",
       "        vertical-align: middle;\n",
       "    }\n",
       "\n",
       "    .dataframe tbody tr th {\n",
       "        vertical-align: top;\n",
       "    }\n",
       "\n",
       "    .dataframe thead th {\n",
       "        text-align: right;\n",
       "    }\n",
       "</style>\n",
       "<table border=\"1\" class=\"dataframe\">\n",
       "  <thead>\n",
       "    <tr style=\"text-align: right;\">\n",
       "      <th></th>\n",
       "      <th>Info</th>\n",
       "      <th>Second</th>\n",
       "      <th>Index</th>\n",
       "      <th>Type</th>\n",
       "      <th>Direct</th>\n",
       "      <th>way</th>\n",
       "    </tr>\n",
       "  </thead>\n",
       "  <tbody>\n",
       "    <tr>\n",
       "      <th>Строка 0</th>\n",
       "      <td>10000</td>\n",
       "      <td>2145255</td>\n",
       "      <td>2</td>\n",
       "      <td>1</td>\n",
       "      <td>0</td>\n",
       "      <td>264.365</td>\n",
       "    </tr>\n",
       "    <tr>\n",
       "      <th>Строка 1</th>\n",
       "      <td>20000</td>\n",
       "      <td>2645256</td>\n",
       "      <td>5</td>\n",
       "      <td>0</td>\n",
       "      <td>1</td>\n",
       "      <td>546.345</td>\n",
       "    </tr>\n",
       "    <tr>\n",
       "      <th>Строка 2</th>\n",
       "      <td>100</td>\n",
       "      <td>58161363</td>\n",
       "      <td>3</td>\n",
       "      <td>2</td>\n",
       "      <td>1</td>\n",
       "      <td>5634.689</td>\n",
       "    </tr>\n",
       "    <tr>\n",
       "      <th>Строка 3</th>\n",
       "      <td>524</td>\n",
       "      <td>63576357</td>\n",
       "      <td>11</td>\n",
       "      <td>4</td>\n",
       "      <td>0</td>\n",
       "      <td>678.544</td>\n",
       "    </tr>\n",
       "    <tr>\n",
       "      <th>Строка 4</th>\n",
       "      <td>634</td>\n",
       "      <td>52362724</td>\n",
       "      <td>7</td>\n",
       "      <td>3</td>\n",
       "      <td>1</td>\n",
       "      <td>8425.465</td>\n",
       "    </tr>\n",
       "  </tbody>\n",
       "</table>\n",
       "</div>"
      ],
      "text/plain": [
       "           Info    Second  Index  Type  Direct       way\n",
       "Строка 0  10000   2145255      2     1       0   264.365\n",
       "Строка 1  20000   2645256      5     0       1   546.345\n",
       "Строка 2    100  58161363      3     2       1  5634.689\n",
       "Строка 3    524  63576357     11     4       0   678.544\n",
       "Строка 4    634  52362724      7     3       1  8425.465"
      ]
     },
     "execution_count": 82,
     "metadata": {},
     "output_type": "execute_result"
    }
   ],
   "source": [
    "df.tail()"
   ]
  },
  {
   "cell_type": "code",
   "execution_count": 83,
   "id": "65488453",
   "metadata": {},
   "outputs": [
    {
     "data": {
      "text/html": [
       "<div>\n",
       "<style scoped>\n",
       "    .dataframe tbody tr th:only-of-type {\n",
       "        vertical-align: middle;\n",
       "    }\n",
       "\n",
       "    .dataframe tbody tr th {\n",
       "        vertical-align: top;\n",
       "    }\n",
       "\n",
       "    .dataframe thead th {\n",
       "        text-align: right;\n",
       "    }\n",
       "</style>\n",
       "<table border=\"1\" class=\"dataframe\">\n",
       "  <thead>\n",
       "    <tr style=\"text-align: right;\">\n",
       "      <th></th>\n",
       "      <th>Info</th>\n",
       "      <th>Second</th>\n",
       "      <th>Index</th>\n",
       "      <th>Type</th>\n",
       "      <th>Direct</th>\n",
       "      <th>way</th>\n",
       "    </tr>\n",
       "  </thead>\n",
       "  <tbody>\n",
       "    <tr>\n",
       "      <th>Строка 3</th>\n",
       "      <td>524</td>\n",
       "      <td>63576357</td>\n",
       "      <td>11</td>\n",
       "      <td>4</td>\n",
       "      <td>0</td>\n",
       "      <td>678.544</td>\n",
       "    </tr>\n",
       "    <tr>\n",
       "      <th>Строка 4</th>\n",
       "      <td>634</td>\n",
       "      <td>52362724</td>\n",
       "      <td>7</td>\n",
       "      <td>3</td>\n",
       "      <td>1</td>\n",
       "      <td>8425.465</td>\n",
       "    </tr>\n",
       "  </tbody>\n",
       "</table>\n",
       "</div>"
      ],
      "text/plain": [
       "          Info    Second  Index  Type  Direct       way\n",
       "Строка 3   524  63576357     11     4       0   678.544\n",
       "Строка 4   634  52362724      7     3       1  8425.465"
      ]
     },
     "execution_count": 83,
     "metadata": {},
     "output_type": "execute_result"
    }
   ],
   "source": [
    "df.tail(2)"
   ]
  },
  {
   "cell_type": "markdown",
   "id": "9fd72b50",
   "metadata": {},
   "source": [
    "Если в датафрейме присутствуют строки с пропущенными значениями (`NaN`, *Not a number*), то их можно удалить:"
   ]
  },
  {
   "cell_type": "code",
   "execution_count": 84,
   "id": "b4f39b17",
   "metadata": {},
   "outputs": [],
   "source": [
    "df = df.dropna()"
   ]
  },
  {
   "cell_type": "code",
   "execution_count": 85,
   "id": "e261cec9",
   "metadata": {},
   "outputs": [
    {
     "data": {
      "text/html": [
       "<div>\n",
       "<style scoped>\n",
       "    .dataframe tbody tr th:only-of-type {\n",
       "        vertical-align: middle;\n",
       "    }\n",
       "\n",
       "    .dataframe tbody tr th {\n",
       "        vertical-align: top;\n",
       "    }\n",
       "\n",
       "    .dataframe thead th {\n",
       "        text-align: right;\n",
       "    }\n",
       "</style>\n",
       "<table border=\"1\" class=\"dataframe\">\n",
       "  <thead>\n",
       "    <tr style=\"text-align: right;\">\n",
       "      <th></th>\n",
       "      <th>Info</th>\n",
       "      <th>Second</th>\n",
       "      <th>Index</th>\n",
       "      <th>Type</th>\n",
       "      <th>Direct</th>\n",
       "      <th>way</th>\n",
       "    </tr>\n",
       "  </thead>\n",
       "  <tbody>\n",
       "    <tr>\n",
       "      <th>Строка 0</th>\n",
       "      <td>10000</td>\n",
       "      <td>2145255</td>\n",
       "      <td>2</td>\n",
       "      <td>1</td>\n",
       "      <td>0</td>\n",
       "      <td>264.365</td>\n",
       "    </tr>\n",
       "    <tr>\n",
       "      <th>Строка 1</th>\n",
       "      <td>20000</td>\n",
       "      <td>2645256</td>\n",
       "      <td>5</td>\n",
       "      <td>0</td>\n",
       "      <td>1</td>\n",
       "      <td>546.345</td>\n",
       "    </tr>\n",
       "    <tr>\n",
       "      <th>Строка 2</th>\n",
       "      <td>100</td>\n",
       "      <td>58161363</td>\n",
       "      <td>3</td>\n",
       "      <td>2</td>\n",
       "      <td>1</td>\n",
       "      <td>5634.689</td>\n",
       "    </tr>\n",
       "    <tr>\n",
       "      <th>Строка 3</th>\n",
       "      <td>524</td>\n",
       "      <td>63576357</td>\n",
       "      <td>11</td>\n",
       "      <td>4</td>\n",
       "      <td>0</td>\n",
       "      <td>678.544</td>\n",
       "    </tr>\n",
       "    <tr>\n",
       "      <th>Строка 4</th>\n",
       "      <td>634</td>\n",
       "      <td>52362724</td>\n",
       "      <td>7</td>\n",
       "      <td>3</td>\n",
       "      <td>1</td>\n",
       "      <td>8425.465</td>\n",
       "    </tr>\n",
       "  </tbody>\n",
       "</table>\n",
       "</div>"
      ],
      "text/plain": [
       "           Info    Second  Index  Type  Direct       way\n",
       "Строка 0  10000   2145255      2     1       0   264.365\n",
       "Строка 1  20000   2645256      5     0       1   546.345\n",
       "Строка 2    100  58161363      3     2       1  5634.689\n",
       "Строка 3    524  63576357     11     4       0   678.544\n",
       "Строка 4    634  52362724      7     3       1  8425.465"
      ]
     },
     "execution_count": 85,
     "metadata": {},
     "output_type": "execute_result"
    }
   ],
   "source": [
    "df"
   ]
  },
  {
   "cell_type": "markdown",
   "id": "c7ca73a1",
   "metadata": {},
   "source": [
    "#### Выбор строк по условиям"
   ]
  },
  {
   "cell_type": "code",
   "execution_count": 86,
   "id": "056df992",
   "metadata": {},
   "outputs": [
    {
     "data": {
      "text/html": [
       "<div>\n",
       "<style scoped>\n",
       "    .dataframe tbody tr th:only-of-type {\n",
       "        vertical-align: middle;\n",
       "    }\n",
       "\n",
       "    .dataframe tbody tr th {\n",
       "        vertical-align: top;\n",
       "    }\n",
       "\n",
       "    .dataframe thead th {\n",
       "        text-align: right;\n",
       "    }\n",
       "</style>\n",
       "<table border=\"1\" class=\"dataframe\">\n",
       "  <thead>\n",
       "    <tr style=\"text-align: right;\">\n",
       "      <th></th>\n",
       "      <th>Info</th>\n",
       "      <th>Second</th>\n",
       "      <th>Index</th>\n",
       "      <th>Type</th>\n",
       "      <th>Direct</th>\n",
       "      <th>way</th>\n",
       "    </tr>\n",
       "  </thead>\n",
       "  <tbody>\n",
       "    <tr>\n",
       "      <th>Строка 0</th>\n",
       "      <td>10000</td>\n",
       "      <td>2145255</td>\n",
       "      <td>2</td>\n",
       "      <td>1</td>\n",
       "      <td>0</td>\n",
       "      <td>264.365</td>\n",
       "    </tr>\n",
       "    <tr>\n",
       "      <th>Строка 1</th>\n",
       "      <td>20000</td>\n",
       "      <td>2645256</td>\n",
       "      <td>5</td>\n",
       "      <td>0</td>\n",
       "      <td>1</td>\n",
       "      <td>546.345</td>\n",
       "    </tr>\n",
       "  </tbody>\n",
       "</table>\n",
       "</div>"
      ],
      "text/plain": [
       "           Info   Second  Index  Type  Direct      way\n",
       "Строка 0  10000  2145255      2     1       0  264.365\n",
       "Строка 1  20000  2645256      5     0       1  546.345"
      ]
     },
     "execution_count": 86,
     "metadata": {},
     "output_type": "execute_result"
    }
   ],
   "source": [
    "df[df['Info'] > 1000]"
   ]
  },
  {
   "cell_type": "code",
   "execution_count": 92,
   "id": "2412f7d6",
   "metadata": {},
   "outputs": [
    {
     "data": {
      "text/html": [
       "<div>\n",
       "<style scoped>\n",
       "    .dataframe tbody tr th:only-of-type {\n",
       "        vertical-align: middle;\n",
       "    }\n",
       "\n",
       "    .dataframe tbody tr th {\n",
       "        vertical-align: top;\n",
       "    }\n",
       "\n",
       "    .dataframe thead th {\n",
       "        text-align: right;\n",
       "    }\n",
       "</style>\n",
       "<table border=\"1\" class=\"dataframe\">\n",
       "  <thead>\n",
       "    <tr style=\"text-align: right;\">\n",
       "      <th></th>\n",
       "      <th>Info</th>\n",
       "      <th>Second</th>\n",
       "      <th>Index</th>\n",
       "      <th>Type</th>\n",
       "      <th>Direct</th>\n",
       "      <th>way</th>\n",
       "    </tr>\n",
       "  </thead>\n",
       "  <tbody>\n",
       "    <tr>\n",
       "      <th>Строка 1</th>\n",
       "      <td>20000</td>\n",
       "      <td>2645256</td>\n",
       "      <td>5</td>\n",
       "      <td>0</td>\n",
       "      <td>1</td>\n",
       "      <td>546.345</td>\n",
       "    </tr>\n",
       "    <tr>\n",
       "      <th>Строка 2</th>\n",
       "      <td>100</td>\n",
       "      <td>58161363</td>\n",
       "      <td>3</td>\n",
       "      <td>2</td>\n",
       "      <td>1</td>\n",
       "      <td>5634.689</td>\n",
       "    </tr>\n",
       "    <tr>\n",
       "      <th>Строка 4</th>\n",
       "      <td>634</td>\n",
       "      <td>52362724</td>\n",
       "      <td>7</td>\n",
       "      <td>3</td>\n",
       "      <td>1</td>\n",
       "      <td>8425.465</td>\n",
       "    </tr>\n",
       "  </tbody>\n",
       "</table>\n",
       "</div>"
      ],
      "text/plain": [
       "           Info    Second  Index  Type  Direct       way\n",
       "Строка 1  20000   2645256      5     0       1   546.345\n",
       "Строка 2    100  58161363      3     2       1  5634.689\n",
       "Строка 4    634  52362724      7     3       1  8425.465"
      ]
     },
     "execution_count": 92,
     "metadata": {},
     "output_type": "execute_result"
    }
   ],
   "source": [
    "df[(df['Direct'] == 1) & (df['Index'] < 10)]"
   ]
  },
  {
   "cell_type": "code",
   "execution_count": 93,
   "id": "a842344a",
   "metadata": {},
   "outputs": [
    {
     "data": {
      "text/html": [
       "<div>\n",
       "<style scoped>\n",
       "    .dataframe tbody tr th:only-of-type {\n",
       "        vertical-align: middle;\n",
       "    }\n",
       "\n",
       "    .dataframe tbody tr th {\n",
       "        vertical-align: top;\n",
       "    }\n",
       "\n",
       "    .dataframe thead th {\n",
       "        text-align: right;\n",
       "    }\n",
       "</style>\n",
       "<table border=\"1\" class=\"dataframe\">\n",
       "  <thead>\n",
       "    <tr style=\"text-align: right;\">\n",
       "      <th></th>\n",
       "      <th>Info</th>\n",
       "      <th>Second</th>\n",
       "      <th>Index</th>\n",
       "      <th>Type</th>\n",
       "      <th>Direct</th>\n",
       "      <th>way</th>\n",
       "    </tr>\n",
       "  </thead>\n",
       "  <tbody>\n",
       "    <tr>\n",
       "      <th>Строка 0</th>\n",
       "      <td>10000</td>\n",
       "      <td>2145255</td>\n",
       "      <td>2</td>\n",
       "      <td>1</td>\n",
       "      <td>0</td>\n",
       "      <td>264.365</td>\n",
       "    </tr>\n",
       "    <tr>\n",
       "      <th>Строка 1</th>\n",
       "      <td>20000</td>\n",
       "      <td>2645256</td>\n",
       "      <td>5</td>\n",
       "      <td>0</td>\n",
       "      <td>1</td>\n",
       "      <td>546.345</td>\n",
       "    </tr>\n",
       "    <tr>\n",
       "      <th>Строка 3</th>\n",
       "      <td>524</td>\n",
       "      <td>63576357</td>\n",
       "      <td>11</td>\n",
       "      <td>4</td>\n",
       "      <td>0</td>\n",
       "      <td>678.544</td>\n",
       "    </tr>\n",
       "  </tbody>\n",
       "</table>\n",
       "</div>"
      ],
      "text/plain": [
       "           Info    Second  Index  Type  Direct      way\n",
       "Строка 0  10000   2145255      2     1       0  264.365\n",
       "Строка 1  20000   2645256      5     0       1  546.345\n",
       "Строка 3    524  63576357     11     4       0  678.544"
      ]
     },
     "execution_count": 93,
     "metadata": {},
     "output_type": "execute_result"
    }
   ],
   "source": [
    "df[(df['Direct'] == 0) | (df['way'] < 1000)]"
   ]
  },
  {
   "cell_type": "markdown",
   "id": "ce9520fc",
   "metadata": {},
   "source": [
    "#### Создание новых столбцов"
   ]
  },
  {
   "cell_type": "code",
   "execution_count": 94,
   "id": "9c81b2b4",
   "metadata": {},
   "outputs": [
    {
     "data": {
      "text/html": [
       "<div>\n",
       "<style scoped>\n",
       "    .dataframe tbody tr th:only-of-type {\n",
       "        vertical-align: middle;\n",
       "    }\n",
       "\n",
       "    .dataframe tbody tr th {\n",
       "        vertical-align: top;\n",
       "    }\n",
       "\n",
       "    .dataframe thead th {\n",
       "        text-align: right;\n",
       "    }\n",
       "</style>\n",
       "<table border=\"1\" class=\"dataframe\">\n",
       "  <thead>\n",
       "    <tr style=\"text-align: right;\">\n",
       "      <th></th>\n",
       "      <th>Info</th>\n",
       "      <th>Second</th>\n",
       "      <th>Index</th>\n",
       "      <th>Type</th>\n",
       "      <th>Direct</th>\n",
       "      <th>way</th>\n",
       "      <th>avg_way</th>\n",
       "    </tr>\n",
       "  </thead>\n",
       "  <tbody>\n",
       "    <tr>\n",
       "      <th>Строка 0</th>\n",
       "      <td>10000</td>\n",
       "      <td>2145255</td>\n",
       "      <td>2</td>\n",
       "      <td>1</td>\n",
       "      <td>0</td>\n",
       "      <td>264.365</td>\n",
       "      <td>7774.704</td>\n",
       "    </tr>\n",
       "    <tr>\n",
       "      <th>Строка 1</th>\n",
       "      <td>20000</td>\n",
       "      <td>2645256</td>\n",
       "      <td>5</td>\n",
       "      <td>0</td>\n",
       "      <td>1</td>\n",
       "      <td>546.345</td>\n",
       "      <td>7774.704</td>\n",
       "    </tr>\n",
       "    <tr>\n",
       "      <th>Строка 2</th>\n",
       "      <td>100</td>\n",
       "      <td>58161363</td>\n",
       "      <td>3</td>\n",
       "      <td>2</td>\n",
       "      <td>1</td>\n",
       "      <td>5634.689</td>\n",
       "      <td>7774.704</td>\n",
       "    </tr>\n",
       "    <tr>\n",
       "      <th>Строка 3</th>\n",
       "      <td>524</td>\n",
       "      <td>63576357</td>\n",
       "      <td>11</td>\n",
       "      <td>4</td>\n",
       "      <td>0</td>\n",
       "      <td>678.544</td>\n",
       "      <td>7774.704</td>\n",
       "    </tr>\n",
       "    <tr>\n",
       "      <th>Строка 4</th>\n",
       "      <td>634</td>\n",
       "      <td>52362724</td>\n",
       "      <td>7</td>\n",
       "      <td>3</td>\n",
       "      <td>1</td>\n",
       "      <td>8425.465</td>\n",
       "      <td>7774.704</td>\n",
       "    </tr>\n",
       "  </tbody>\n",
       "</table>\n",
       "</div>"
      ],
      "text/plain": [
       "           Info    Second  Index  Type  Direct       way   avg_way\n",
       "Строка 0  10000   2145255      2     1       0   264.365  7774.704\n",
       "Строка 1  20000   2645256      5     0       1   546.345  7774.704\n",
       "Строка 2    100  58161363      3     2       1  5634.689  7774.704\n",
       "Строка 3    524  63576357     11     4       0   678.544  7774.704\n",
       "Строка 4    634  52362724      7     3       1  8425.465  7774.704"
      ]
     },
     "execution_count": 94,
     "metadata": {},
     "output_type": "execute_result"
    }
   ],
   "source": [
    "df['avg_way'] = sum(df['way']) / 2\n",
    "df"
   ]
  },
  {
   "cell_type": "code",
   "execution_count": 95,
   "id": "994967f1",
   "metadata": {},
   "outputs": [
    {
     "data": {
      "text/html": [
       "<div>\n",
       "<style scoped>\n",
       "    .dataframe tbody tr th:only-of-type {\n",
       "        vertical-align: middle;\n",
       "    }\n",
       "\n",
       "    .dataframe tbody tr th {\n",
       "        vertical-align: top;\n",
       "    }\n",
       "\n",
       "    .dataframe thead th {\n",
       "        text-align: right;\n",
       "    }\n",
       "</style>\n",
       "<table border=\"1\" class=\"dataframe\">\n",
       "  <thead>\n",
       "    <tr style=\"text-align: right;\">\n",
       "      <th></th>\n",
       "      <th>Info</th>\n",
       "      <th>Second</th>\n",
       "      <th>Index</th>\n",
       "      <th>Type</th>\n",
       "      <th>Direct</th>\n",
       "      <th>way</th>\n",
       "      <th>avg_way</th>\n",
       "      <th>info_sec</th>\n",
       "    </tr>\n",
       "  </thead>\n",
       "  <tbody>\n",
       "    <tr>\n",
       "      <th>Строка 0</th>\n",
       "      <td>10000</td>\n",
       "      <td>2145255</td>\n",
       "      <td>2</td>\n",
       "      <td>1</td>\n",
       "      <td>0</td>\n",
       "      <td>264.365</td>\n",
       "      <td>7774.704</td>\n",
       "      <td>2155255</td>\n",
       "    </tr>\n",
       "    <tr>\n",
       "      <th>Строка 1</th>\n",
       "      <td>20000</td>\n",
       "      <td>2645256</td>\n",
       "      <td>5</td>\n",
       "      <td>0</td>\n",
       "      <td>1</td>\n",
       "      <td>546.345</td>\n",
       "      <td>7774.704</td>\n",
       "      <td>2665256</td>\n",
       "    </tr>\n",
       "    <tr>\n",
       "      <th>Строка 2</th>\n",
       "      <td>100</td>\n",
       "      <td>58161363</td>\n",
       "      <td>3</td>\n",
       "      <td>2</td>\n",
       "      <td>1</td>\n",
       "      <td>5634.689</td>\n",
       "      <td>7774.704</td>\n",
       "      <td>58161463</td>\n",
       "    </tr>\n",
       "    <tr>\n",
       "      <th>Строка 3</th>\n",
       "      <td>524</td>\n",
       "      <td>63576357</td>\n",
       "      <td>11</td>\n",
       "      <td>4</td>\n",
       "      <td>0</td>\n",
       "      <td>678.544</td>\n",
       "      <td>7774.704</td>\n",
       "      <td>63576881</td>\n",
       "    </tr>\n",
       "    <tr>\n",
       "      <th>Строка 4</th>\n",
       "      <td>634</td>\n",
       "      <td>52362724</td>\n",
       "      <td>7</td>\n",
       "      <td>3</td>\n",
       "      <td>1</td>\n",
       "      <td>8425.465</td>\n",
       "      <td>7774.704</td>\n",
       "      <td>52363358</td>\n",
       "    </tr>\n",
       "  </tbody>\n",
       "</table>\n",
       "</div>"
      ],
      "text/plain": [
       "           Info    Second  Index  Type  Direct       way   avg_way  info_sec\n",
       "Строка 0  10000   2145255      2     1       0   264.365  7774.704   2155255\n",
       "Строка 1  20000   2645256      5     0       1   546.345  7774.704   2665256\n",
       "Строка 2    100  58161363      3     2       1  5634.689  7774.704  58161463\n",
       "Строка 3    524  63576357     11     4       0   678.544  7774.704  63576881\n",
       "Строка 4    634  52362724      7     3       1  8425.465  7774.704  52363358"
      ]
     },
     "execution_count": 95,
     "metadata": {},
     "output_type": "execute_result"
    }
   ],
   "source": [
    "df['info_sec'] = df['Second'] + df['Info']\n",
    "df"
   ]
  },
  {
   "cell_type": "code",
   "execution_count": 96,
   "id": "57db7ac5",
   "metadata": {},
   "outputs": [
    {
     "data": {
      "text/html": [
       "<div>\n",
       "<style scoped>\n",
       "    .dataframe tbody tr th:only-of-type {\n",
       "        vertical-align: middle;\n",
       "    }\n",
       "\n",
       "    .dataframe tbody tr th {\n",
       "        vertical-align: top;\n",
       "    }\n",
       "\n",
       "    .dataframe thead th {\n",
       "        text-align: right;\n",
       "    }\n",
       "</style>\n",
       "<table border=\"1\" class=\"dataframe\">\n",
       "  <thead>\n",
       "    <tr style=\"text-align: right;\">\n",
       "      <th></th>\n",
       "      <th>Info</th>\n",
       "      <th>Second</th>\n",
       "      <th>Index</th>\n",
       "      <th>Type</th>\n",
       "      <th>Direct</th>\n",
       "      <th>way</th>\n",
       "      <th>avg_way</th>\n",
       "      <th>info_sec</th>\n",
       "      <th>status</th>\n",
       "    </tr>\n",
       "  </thead>\n",
       "  <tbody>\n",
       "    <tr>\n",
       "      <th>Строка 0</th>\n",
       "      <td>10000</td>\n",
       "      <td>2145255</td>\n",
       "      <td>2</td>\n",
       "      <td>1</td>\n",
       "      <td>0</td>\n",
       "      <td>264.365</td>\n",
       "      <td>7774.704</td>\n",
       "      <td>2155255</td>\n",
       "      <td>RVNC</td>\n",
       "    </tr>\n",
       "    <tr>\n",
       "      <th>Строка 1</th>\n",
       "      <td>20000</td>\n",
       "      <td>2645256</td>\n",
       "      <td>5</td>\n",
       "      <td>0</td>\n",
       "      <td>1</td>\n",
       "      <td>546.345</td>\n",
       "      <td>7774.704</td>\n",
       "      <td>2665256</td>\n",
       "      <td>RVNC</td>\n",
       "    </tr>\n",
       "    <tr>\n",
       "      <th>Строка 2</th>\n",
       "      <td>100</td>\n",
       "      <td>58161363</td>\n",
       "      <td>3</td>\n",
       "      <td>2</td>\n",
       "      <td>1</td>\n",
       "      <td>5634.689</td>\n",
       "      <td>7774.704</td>\n",
       "      <td>58161463</td>\n",
       "      <td>RVNC</td>\n",
       "    </tr>\n",
       "    <tr>\n",
       "      <th>Строка 3</th>\n",
       "      <td>524</td>\n",
       "      <td>63576357</td>\n",
       "      <td>11</td>\n",
       "      <td>4</td>\n",
       "      <td>0</td>\n",
       "      <td>678.544</td>\n",
       "      <td>7774.704</td>\n",
       "      <td>63576881</td>\n",
       "      <td>RVNC</td>\n",
       "    </tr>\n",
       "    <tr>\n",
       "      <th>Строка 4</th>\n",
       "      <td>634</td>\n",
       "      <td>52362724</td>\n",
       "      <td>7</td>\n",
       "      <td>3</td>\n",
       "      <td>1</td>\n",
       "      <td>8425.465</td>\n",
       "      <td>7774.704</td>\n",
       "      <td>52363358</td>\n",
       "      <td>RVNC</td>\n",
       "    </tr>\n",
       "  </tbody>\n",
       "</table>\n",
       "</div>"
      ],
      "text/plain": [
       "           Info    Second  Index  Type  Direct       way   avg_way  info_sec  \\\n",
       "Строка 0  10000   2145255      2     1       0   264.365  7774.704   2155255   \n",
       "Строка 1  20000   2645256      5     0       1   546.345  7774.704   2665256   \n",
       "Строка 2    100  58161363      3     2       1  5634.689  7774.704  58161463   \n",
       "Строка 3    524  63576357     11     4       0   678.544  7774.704  63576881   \n",
       "Строка 4    634  52362724      7     3       1  8425.465  7774.704  52363358   \n",
       "\n",
       "         status  \n",
       "Строка 0   RVNC  \n",
       "Строка 1   RVNC  \n",
       "Строка 2   RVNC  \n",
       "Строка 3   RVNC  \n",
       "Строка 4   RVNC  "
      ]
     },
     "execution_count": 96,
     "metadata": {},
     "output_type": "execute_result"
    }
   ],
   "source": [
    "df['status'] = 'RVNC'\n",
    "df"
   ]
  },
  {
   "cell_type": "code",
   "execution_count": 97,
   "id": "7c3cd4e4",
   "metadata": {},
   "outputs": [
    {
     "data": {
      "text/html": [
       "<div>\n",
       "<style scoped>\n",
       "    .dataframe tbody tr th:only-of-type {\n",
       "        vertical-align: middle;\n",
       "    }\n",
       "\n",
       "    .dataframe tbody tr th {\n",
       "        vertical-align: top;\n",
       "    }\n",
       "\n",
       "    .dataframe thead th {\n",
       "        text-align: right;\n",
       "    }\n",
       "</style>\n",
       "<table border=\"1\" class=\"dataframe\">\n",
       "  <thead>\n",
       "    <tr style=\"text-align: right;\">\n",
       "      <th></th>\n",
       "      <th>Info</th>\n",
       "      <th>Second</th>\n",
       "      <th>Index</th>\n",
       "      <th>Type</th>\n",
       "      <th>Direct</th>\n",
       "      <th>way</th>\n",
       "      <th>avg_way</th>\n",
       "      <th>info_sec</th>\n",
       "      <th>status</th>\n",
       "      <th>processed</th>\n",
       "    </tr>\n",
       "  </thead>\n",
       "  <tbody>\n",
       "    <tr>\n",
       "      <th>Строка 0</th>\n",
       "      <td>10000</td>\n",
       "      <td>2145255</td>\n",
       "      <td>2</td>\n",
       "      <td>1</td>\n",
       "      <td>0</td>\n",
       "      <td>264.365</td>\n",
       "      <td>7774.704</td>\n",
       "      <td>2155255</td>\n",
       "      <td>RVNC</td>\n",
       "      <td>1</td>\n",
       "    </tr>\n",
       "    <tr>\n",
       "      <th>Строка 1</th>\n",
       "      <td>20000</td>\n",
       "      <td>2645256</td>\n",
       "      <td>5</td>\n",
       "      <td>0</td>\n",
       "      <td>1</td>\n",
       "      <td>546.345</td>\n",
       "      <td>7774.704</td>\n",
       "      <td>2665256</td>\n",
       "      <td>RVNC</td>\n",
       "      <td>0</td>\n",
       "    </tr>\n",
       "    <tr>\n",
       "      <th>Строка 2</th>\n",
       "      <td>100</td>\n",
       "      <td>58161363</td>\n",
       "      <td>3</td>\n",
       "      <td>2</td>\n",
       "      <td>1</td>\n",
       "      <td>5634.689</td>\n",
       "      <td>7774.704</td>\n",
       "      <td>58161463</td>\n",
       "      <td>RVNC</td>\n",
       "      <td>1</td>\n",
       "    </tr>\n",
       "    <tr>\n",
       "      <th>Строка 3</th>\n",
       "      <td>524</td>\n",
       "      <td>63576357</td>\n",
       "      <td>11</td>\n",
       "      <td>4</td>\n",
       "      <td>0</td>\n",
       "      <td>678.544</td>\n",
       "      <td>7774.704</td>\n",
       "      <td>63576881</td>\n",
       "      <td>RVNC</td>\n",
       "      <td>1</td>\n",
       "    </tr>\n",
       "    <tr>\n",
       "      <th>Строка 4</th>\n",
       "      <td>634</td>\n",
       "      <td>52362724</td>\n",
       "      <td>7</td>\n",
       "      <td>3</td>\n",
       "      <td>1</td>\n",
       "      <td>8425.465</td>\n",
       "      <td>7774.704</td>\n",
       "      <td>52363358</td>\n",
       "      <td>RVNC</td>\n",
       "      <td>0</td>\n",
       "    </tr>\n",
       "  </tbody>\n",
       "</table>\n",
       "</div>"
      ],
      "text/plain": [
       "           Info    Second  Index  Type  Direct       way   avg_way  info_sec  \\\n",
       "Строка 0  10000   2145255      2     1       0   264.365  7774.704   2155255   \n",
       "Строка 1  20000   2645256      5     0       1   546.345  7774.704   2665256   \n",
       "Строка 2    100  58161363      3     2       1  5634.689  7774.704  58161463   \n",
       "Строка 3    524  63576357     11     4       0   678.544  7774.704  63576881   \n",
       "Строка 4    634  52362724      7     3       1  8425.465  7774.704  52363358   \n",
       "\n",
       "         status  processed  \n",
       "Строка 0   RVNC          1  \n",
       "Строка 1   RVNC          0  \n",
       "Строка 2   RVNC          1  \n",
       "Строка 3   RVNC          1  \n",
       "Строка 4   RVNC          0  "
      ]
     },
     "execution_count": 97,
     "metadata": {},
     "output_type": "execute_result"
    }
   ],
   "source": [
    "df['processed'] = [1, 0, 1, 1, 0]\n",
    "df"
   ]
  }
 ],
 "metadata": {
  "kernelspec": {
   "display_name": "Python 3",
   "language": "python",
   "name": "python3"
  },
  "language_info": {
   "codemirror_mode": {
    "name": "ipython",
    "version": 3
   },
   "file_extension": ".py",
   "mimetype": "text/x-python",
   "name": "python",
   "nbconvert_exporter": "python",
   "pygments_lexer": "ipython3",
   "version": "3.8.8"
  }
 },
 "nbformat": 4,
 "nbformat_minor": 5
}
