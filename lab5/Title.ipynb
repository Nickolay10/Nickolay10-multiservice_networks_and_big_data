{
 "cells": [
  {
   "cell_type": "markdown",
   "id": "63abed74",
   "metadata": {},
   "source": [
    "<div style=\"display: flex; width: 985px; margin: 0 auto\">\n",
    "    <div style=\"margin-right: 0; width: 300px; height: 170px\">\n",
    "        <img src='Emblem.jpg' alt=\"123\">\n",
    "    </div>\n",
    "    <div style=\"margin-left: 160px; font-size: 14.6px; font-family: TimesNewRoman, serif\">\n",
    "        <p style=\"text-align: center; margin-top: 0.75em\">МИНИСТЕРСТВО ОБРАЗОВАНИЯ И НАУКИ РФ</p>\n",
    "        <p style=\"text-align: center; margin-top: 0.75em\">ФЕДЕРАЛЬНОЕ ГОСУДАРСТВЕННОЕ БЮДЖЕТНОЕ</p>\n",
    "        <p style=\"text-align: center; margin-top: 0.75em\">ОБРАЗОВАТЕЛЬНОЕ УЧРЕЖДЕНИЕ</p>\n",
    "        <p style=\"text-align: center; margin-top: 0.75em\">ВЫСШЕГО ОБРАЗОВАНИЯ</p>\n",
    "        <p style=\"text-align: center; margin-top: 0.75em\">«САМАРСКИЙ ГОСУДАРСТВЕННЫЙ ТЕХНИЧЕСКИЙ</p>\n",
    "        <p style=\"text-align: center; margin-top: 0.75em\">УНИВЕРСИТЕТ»</p>\n",
    "    </div>\n",
    "</div>\n",
    "\n",
    "<div style=\"margin:5px 0; min-height: 2px; width:100%; border-bottom: 1px solid black\"></div>\n",
    "\n",
    "<br/>\n",
    "<br/>\n",
    "<br/>\n",
    "<p style=\"text-align: center; margin-top: 0.5em; font-size: 18.6px; font-family: TimesNewRoman, serif\">\n",
    "    <span style=\"letter-spacing: 2px\">Кафедра</span>\n",
    "    <span>«Вычислительная техника»</span>\n",
    "</p>\n",
    "<br/>\n",
    "<br/>\n",
    "<br/>\n",
    "<br/>\n",
    "<p style=\"text-align: center; margin-top: 0.5em; font-size: 18.6px; font-family: TimesNewRoman, serif\">Лабораторная работа №5</p>\n",
    "<br/>\n",
    "<p style=\"text-align: center; margin-top: 0.25em; font-size: 18.6px; font-family: TimesNewRoman, serif\">по дисциплине «Технологии мультисервисных сетей»</p>\n",
    "<br/>\n",
    "<p style=\"text-align: center; margin-top: 0.25em; font-size: 18.6px; font-family: TimesNewRoman, serif\">на тему «Использование алгоритма обхода в ширину для поиска кратчайшего пути в невзвешенных графах»</p>\n",
    "<br/>\n",
    "<br/>\n",
    "<br/>\n",
    "<br/>\n",
    "<br/>\n",
    "<br/>\n",
    "<br/>\n",
    "<br/>\n",
    "<br/>\n",
    "<br/>\n",
    "<p style=\"text-align: right; margin-top: 0.75em; font-size: 18.6px; font-family: TimesNewRoman, serif\">Выполнил:</p>\n",
    "<p style=\"text-align: right; margin-top: 0.75em; font-size: 18.6px; font-family: TimesNewRoman, serif\">студент 2-ИАИТ-103м</p>\n",
    "<p style=\"text-align: right; margin-top: 0.75em; font-size: 18.6px; font-family: TimesNewRoman, serif; font-style: italic\">Ефимушкин Н.А.</p>\n",
    "<br/>\n",
    "<br/>\n",
    "<br/>\n",
    "<p style=\"text-align: right; margin-top: 0.75em; font-size: 18.6px; font-family: TimesNewRoman, serif\">Проверил:</p>\n",
    "<p style=\"text-align: right; margin-top: 0.75em; font-size: 18.6px; font-family: TimesNewRoman, serif; font-style: italic\">профессор Гавлиевский С.Л.</p>\n",
    "<br/>\n",
    "<br/>\n",
    "<br/>\n",
    "<p style=\"text-align: center; margin-top: 0.5em; font-size: 18.6px; font-family: TimesNewRoman, serif\">Самара 2022 г.</p>"
   ]
  }
 ],
 "metadata": {
  "kernelspec": {
   "display_name": "Python 3",
   "language": "python",
   "name": "python3"
  },
  "language_info": {
   "codemirror_mode": {
    "name": "ipython",
    "version": 3
   },
   "file_extension": ".py",
   "mimetype": "text/x-python",
   "name": "python",
   "nbconvert_exporter": "python",
   "pygments_lexer": "ipython3",
   "version": "3.8.8"
  }
 },
 "nbformat": 4,
 "nbformat_minor": 5
}
