{
 "cells": [
  {
   "cell_type": "markdown",
   "id": "de8791ca",
   "metadata": {},
   "source": [
    "# Добавление алгоритма обхода графа в ширину для поиска кратчайшего пути в невзвешенных графах"
   ]
  },
  {
   "cell_type": "code",
   "execution_count": 11,
   "id": "9308f6ce",
   "metadata": {},
   "outputs": [],
   "source": [
    "# импортируем необходимые для работы библиотеки - networkX и matplotlib\n",
    "import networkx as nx\n",
    "import matplotlib.pyplot as plt"
   ]
  },
  {
   "cell_type": "markdown",
   "id": "562f619e",
   "metadata": {},
   "source": [
    "## Создание пустого графа"
   ]
  },
  {
   "cell_type": "code",
   "execution_count": 12,
   "id": "c3b59f94",
   "metadata": {},
   "outputs": [
    {
     "name": "stdout",
     "output_type": "stream",
     "text": [
      "Создаём ориентированный граф? (y/n): n\n",
      "G = Graph with 0 nodes and 0 edges\n"
     ]
    }
   ],
   "source": [
    "is_oriented = input('Создаём ориентированный граф? (y/n): ')\n",
    "if is_oriented == 'y':\n",
    "    G = nx.DiGraph()\n",
    "else:\n",
    "    G = nx.Graph()\n",
    "print('G =', G)"
   ]
  },
  {
   "cell_type": "markdown",
   "id": "e6379c75",
   "metadata": {},
   "source": [
    "## Создание полного графа"
   ]
  },
  {
   "cell_type": "code",
   "execution_count": 2,
   "id": "fa15f104",
   "metadata": {},
   "outputs": [
    {
     "name": "stdout",
     "output_type": "stream",
     "text": [
      "Введите число вершин для полного графа: 6\n"
     ]
    }
   ],
   "source": [
    "nodes = int(input('Введите число вершин для полного графа: '))\n",
    "G = nx.complete_graph(nodes)"
   ]
  },
  {
   "cell_type": "markdown",
   "id": "09b29444",
   "metadata": {},
   "source": [
    "## Добавление узлов"
   ]
  },
  {
   "cell_type": "code",
   "execution_count": 13,
   "id": "0b03b2d7",
   "metadata": {},
   "outputs": [
    {
     "name": "stdout",
     "output_type": "stream",
     "text": [
      "Добавить один узел? (y/n): 1 2 3 4 5 6 7\n",
      "Введите названия узлов через пробел: 1 2 3 4 5 6 7\n"
     ]
    }
   ],
   "source": [
    "only_one = input('Добавить один узел? (y/n): ')\n",
    "if only_one == 'y':\n",
    "    node = input('Введите название узла: ')\n",
    "    G.add_node(node)\n",
    "else:\n",
    "    nodes = input('Введите названия узлов через пробел: ')\n",
    "    nodes = nodes.split()\n",
    "    G.add_nodes_from(nodes)"
   ]
  },
  {
   "cell_type": "markdown",
   "id": "3ca36e24",
   "metadata": {},
   "source": [
    "## Добавление рёбер"
   ]
  },
  {
   "cell_type": "code",
   "execution_count": 15,
   "id": "e728f046",
   "metadata": {},
   "outputs": [
    {
     "name": "stdout",
     "output_type": "stream",
     "text": [
      "Добавить одно ребро? (y/n): n\n",
      "Добавить взвешенные ребра? (y/n): n\n",
      "Введите через пробел вершины для образования рёбер, для очередной пары будет образовано ребро: 1 2 3 4 5 6 1 4 2 3 6 7\n"
     ]
    }
   ],
   "source": [
    "only_one = input('Добавить одно ребро? (y/n): ')\n",
    "if only_one == 'y':\n",
    "    weighted = input('Добавить взвешенное ребро? (y/n): ')\n",
    "    if weighted == 'y':\n",
    "        while True:\n",
    "            edge = input('Введите через пробел пару вершин для образорвания ребра и вес ребра. Например, \"2 5 0.6\": ')\n",
    "            edge = edge.split()\n",
    "            if len(edge) != 3:\n",
    "                print('Неправильно задано ребро!')\n",
    "            else:\n",
    "                try:\n",
    "                    float(edge[-1])\n",
    "                except ValueError:\n",
    "                    print('Вес ребра должен быть числом!')\n",
    "                    continue\n",
    "                else:\n",
    "                    G.add_edge(*edge[:2], weight=float(edge[2]))\n",
    "                    break\n",
    "    else:\n",
    "        while True:\n",
    "            edge = input('Введите через пробел пару вершин для образорвания ребра: ')\n",
    "            edge = edge.split()\n",
    "            if len(edge) != 2:\n",
    "                print('Неправильно задано ребро!')\n",
    "            else:\n",
    "                G.add_edge(*edge)\n",
    "                break\n",
    "else:\n",
    "    weighted = input('Добавить взвешенные ребра? (y/n): ')\n",
    "    if weighted == 'y':\n",
    "        while True:\n",
    "            edges = input('Введите через пробел пару вершин для образорвания ребра и вес ребра. ' +\n",
    "                          'Разделйте пары запятой. Например, \"2 5 0.6, 3 4 8, 5 6 5.2\": ')\n",
    "            edges = edges.split(',')\n",
    "            edges = [edge.strip().split() for edge in edges]\n",
    "            mask = [len(edge) != 3 for edge in edges]\n",
    "            if any(mask):\n",
    "                print(f'Неверный формат ребра под номером {mask.index(True) + 1}!')\n",
    "            else:\n",
    "                for edge in edges:\n",
    "                    try:\n",
    "                        float(edge[-1])\n",
    "                    except ValueError:\n",
    "                        print(f'Вес ребра номер {edges.index(edge) + 1} должен быть числом!')\n",
    "                        break\n",
    "                    else:\n",
    "                        G.add_edge(*edge[:2], weight=float(edge[2]))\n",
    "                else:\n",
    "                    break\n",
    "    else:\n",
    "        while True:\n",
    "            edges = input('Введите через пробел вершины для образования рёбер, для очередной пары будет образовано ребро: ')\n",
    "            edges = edges.split()\n",
    "            if len(edges) % 2 != 0:\n",
    "                print('Рёбра должны быть образованы чётным числом вершин!')\n",
    "            else:\n",
    "                edges_list = [edges[i:i+2] for i in range(0, len(edges) - 1, 2)]\n",
    "                G.add_edges_from(edges_list)\n",
    "                break"
   ]
  },
  {
   "cell_type": "markdown",
   "id": "b14a769c",
   "metadata": {},
   "source": [
    "## Удаление узлов"
   ]
  },
  {
   "cell_type": "code",
   "execution_count": 8,
   "id": "67a9890c",
   "metadata": {},
   "outputs": [
    {
     "name": "stdout",
     "output_type": "stream",
     "text": [
      "Удалить один узел? (y/n): n\n",
      "Введите названия узлов через пробел: 1234\n",
      "Узла 1234 нет в графе! В графе имеются узлы ['1', '2', '3']\n"
     ]
    }
   ],
   "source": [
    "only_one = input('Удалить один узел? (y/n): ')\n",
    "if only_one == 'y':\n",
    "    node = input('Введите название узла: ')\n",
    "    if node not in G.nodes():\n",
    "        print(f'Узла {node} нет в графе! В графе имеются узлы {G.nodes()}')\n",
    "    else:\n",
    "        G.remove_node(node)\n",
    "else:\n",
    "    nodes = input('Введите названия узлов через пробел: ')\n",
    "    nodes = nodes.split()\n",
    "    for node in nodes:\n",
    "        if node not in G.nodes():\n",
    "            print(f'Узла {node} нет в графе! В графе имеются узлы {G.nodes()}')\n",
    "            break\n",
    "    else:\n",
    "        G.remove_nodes_from(nodes)"
   ]
  },
  {
   "cell_type": "markdown",
   "id": "ac63fb1f",
   "metadata": {},
   "source": [
    "## Удаление рёбер"
   ]
  },
  {
   "cell_type": "code",
   "execution_count": 19,
   "id": "93cc3501",
   "metadata": {},
   "outputs": [
    {
     "name": "stdout",
     "output_type": "stream",
     "text": [
      "Удалить одно ребро? (y/n): n\n",
      "Введите через пробел вершины для удаления рёбер, для очередной пары будет удалено ребро: 1 3 7 5\n"
     ]
    }
   ],
   "source": [
    "only_one = input('Удалить одно ребро? (y/n): ')\n",
    "if only_one == 'y':\n",
    "    while True:\n",
    "        edge = input('Введите через пробел пару верши для удаления ребра: ')\n",
    "        edge = tuple(edge.split())\n",
    "        if len(edge) != 2:\n",
    "            print('Неправильно задано ребро! Ребро задаётся двумя вершинами!')\n",
    "        elif edge not in G.edges():\n",
    "            print(f'Между вершинами {edge[0]} и {edge[1]} нет ребра')\n",
    "        else:\n",
    "            G.remove_edge(*edge)\n",
    "            break\n",
    "else:\n",
    "    while True:\n",
    "        edges = input('Введите через пробел вершины для удаления рёбер, для очередной пары будет удалено ребро: ')\n",
    "        edges = edges.split()\n",
    "        if len(edges) % 2 != 0:\n",
    "            print('Рёбра должны быть образованы чётным числом вершин!')\n",
    "            continue\n",
    "        edges_list = tuple(edges[i:i+2] for i in range(0, len(edges) - 1, 2))\n",
    "        for edge in edges_list:\n",
    "            if edge not in G.edges:\n",
    "                print(f'Ребра {edge} нет в графе G! Есть рёбра: {G.edges()}')\n",
    "                break\n",
    "        else:\n",
    "            edges_list = [edges[i:i+2] for i in range(0, len(edges) - 1, 2)]\n",
    "            G.remove_edges_from(edges_list)\n",
    "            break"
   ]
  },
  {
   "cell_type": "markdown",
   "id": "e53e7415",
   "metadata": {},
   "source": [
    "## Вывод информации о числе узлов и ребер графа"
   ]
  },
  {
   "cell_type": "code",
   "execution_count": 26,
   "id": "a50f93f6",
   "metadata": {},
   "outputs": [
    {
     "name": "stdout",
     "output_type": "stream",
     "text": [
      "Узлы графа: ['1', '2', '3', '4', '5', '6', '7']\n",
      "Рёбра графа: [('1', '2'), ('1', '4'), ('2', '3'), ('3', '4'), ('5', '6'), ('6', '7')]\n",
      "Узел и его смежности:\n",
      "Для узла 1 смежными являются ['2', '4']\n",
      "Для узла 2 смежными являются ['1', '3']\n",
      "Для узла 3 смежными являются ['4', '2']\n",
      "Для узла 4 смежными являются ['3', '1']\n",
      "Для узла 5 смежными являются ['6']\n",
      "Для узла 6 смежными являются ['5', '7']\n",
      "Для узла 7 смежными являются ['6']\n"
     ]
    }
   ],
   "source": [
    "print('Узлы графа:', G.nodes())\n",
    "print('Рёбра графа:', G.edges())\n",
    "print('Узел и его смежности:')\n",
    "for node, neighbour in G.adj.items():\n",
    "    neighbours = []\n",
    "    for nbr, nbr_props in neighbour.items():\n",
    "        neighbours.append(nbr)\n",
    "    print(f'Для узла {node} смежными являются {neighbours}')"
   ]
  },
  {
   "cell_type": "markdown",
   "id": "b070aa65",
   "metadata": {},
   "source": [
    "## Вывод топологии графа в графическом виде"
   ]
  },
  {
   "cell_type": "code",
   "execution_count": 16,
   "id": "9daa3f8e",
   "metadata": {},
   "outputs": [
    {
     "data": {
      "image/png": "[encoded data removed]",
      "text/plain": [
       "<Figure size 432x288 with 1 Axes>"
      ]
     },
     "metadata": {},
     "output_type": "display_data"
    }
   ],
   "source": [
    "plt.title(\"Визуализируем граф G:\")\n",
    "weights = nx.get_edge_attributes(G, 'weight')\n",
    "pos = nx.circular_layout(G)\n",
    "nx.draw_networkx_edge_labels(G, pos, edge_labels=weights)\n",
    "nx.draw_circular(G,\n",
    "         node_color='green',\n",
    "         node_size=700,\n",
    "         with_labels=True)\n",
    "plt.show()"
   ]
  },
  {
   "cell_type": "markdown",
   "id": "337580e6",
   "metadata": {},
   "source": [
    "## Сохранение топологии графа в графическом виде"
   ]
  },
  {
   "cell_type": "code",
   "execution_count": 27,
   "id": "5da0edb4",
   "metadata": {},
   "outputs": [
    {
     "data": {
      "image/png": "[encoded data removed]",
      "text/plain": [
       "<Figure size 432x288 with 1 Axes>"
      ]
     },
     "metadata": {},
     "output_type": "display_data"
    }
   ],
   "source": [
    "plt.title(\"Граф G:\")\n",
    "nx.draw_circular(G,\n",
    "         node_color='green',\n",
    "         node_size=700,\n",
    "         with_labels=True)\n",
    "plt.savefig(\"graph.png\")"
   ]
  },
  {
   "cell_type": "markdown",
   "id": "cd3d4431",
   "metadata": {},
   "source": [
    "## Сохранение топологии в формате gml"
   ]
  },
  {
   "cell_type": "code",
   "execution_count": 28,
   "id": "95a4defd",
   "metadata": {},
   "outputs": [],
   "source": [
    "nx.write_gml(G, 'graph.gml')"
   ]
  },
  {
   "cell_type": "markdown",
   "id": "017856a5",
   "metadata": {},
   "source": [
    "## Чтение графа из файла gml"
   ]
  },
  {
   "cell_type": "code",
   "execution_count": 29,
   "id": "b6ddf685",
   "metadata": {},
   "outputs": [
    {
     "data": {
      "image/png": "[encoded data removed]",
      "text/plain": [
       "<Figure size 432x288 with 1 Axes>"
      ]
     },
     "metadata": {},
     "output_type": "display_data"
    }
   ],
   "source": [
    "readed_G = nx.read_gml('graph.gml')\n",
    "plt.title(\"Граф G считанный из gml:\")\n",
    "nx.draw_circular(G,\n",
    "         node_color='green',\n",
    "         node_size=700,\n",
    "         with_labels=True)"
   ]
  },
  {
   "cell_type": "markdown",
   "id": "59882436",
   "metadata": {},
   "source": [
    "## Поиск кратчайшего расстояния между двумя вершинами по алгоритму Дейкстры"
   ]
  },
  {
   "cell_type": "code",
   "execution_count": 13,
   "id": "856431ef",
   "metadata": {},
   "outputs": [
    {
     "name": "stdout",
     "output_type": "stream",
     "text": [
      "Введите первую вершину: 3\n",
      "Введите вторую вершину: 6\n"
     ]
    },
    {
     "data": {
      "image/png": "[encoded data removed]",
      "text/plain": [
       "<Figure size 432x288 with 1 Axes>"
      ]
     },
     "metadata": {},
     "output_type": "display_data"
    }
   ],
   "source": [
    "while True:\n",
    "    node1 = input('Введите первую вершину: ')\n",
    "    if node1 in G.nodes():\n",
    "        break\n",
    "    else:\n",
    "        print(f'Вершины {node1} нет в графе')\n",
    "while True:\n",
    "    node2 = input('Введите вторую вершину: ')\n",
    "    if node2 in G.nodes():\n",
    "        break\n",
    "    else:\n",
    "        print(f'Вершины {node2} нет в графе')\n",
    "predecessors, _ = nx.floyd_warshall_predecessor_and_distance(G)\n",
    "shortest_path_s_v = nx.reconstruct_path(node1,  node2, predecessors)\n",
    "plt.title(f\"Кратчайший путь между {node1} и {node2}: {' -> '.join(shortest_path_s_v)}\")\n",
    "edges = [(a,b) for a,b in zip(shortest_path_s_v, shortest_path_s_v[1:])]\n",
    "weights = nx.get_edge_attributes(G, 'weight')\n",
    "pos = nx.circular_layout(G)\n",
    "nx.draw_networkx_edge_labels(G, pos, edge_labels=weights)\n",
    "nx.draw_networkx_edges(G, pos=pos, edgelist=edges, edge_color=\"r\", width=3)\n",
    "nx.draw_circular(G,\n",
    "         node_color='green',\n",
    "         node_size=700,\n",
    "         with_labels=True)         "
   ]
  },
  {
   "cell_type": "markdown",
   "id": "96a94913",
   "metadata": {},
   "source": [
    "## Функция обхода графа в ширину для поиска кратчайшего пути между двумя вершинами невзвешенного графа"
   ]
  },
  {
   "cell_type": "code",
   "execution_count": 9,
   "id": "5f7703bb",
   "metadata": {},
   "outputs": [
    {
     "name": "stdout",
     "output_type": "stream",
     "text": [
      "Shortest path =  E A C G\n"
     ]
    }
   ],
   "source": [
    "def BFS_SP(graph, start, goal):\n",
    "    explored = []\n",
    "     \n",
    "    # очередь для прохода по графу\n",
    "    queue = [[start]]\n",
    "     \n",
    "    if start == goal:\n",
    "        # искомый узео достигнут\n",
    "        print(\"Same Node\")\n",
    "        return\n",
    "     \n",
    "    # проходим по узлам графа через очередь\n",
    "    while queue:\n",
    "        path = queue.pop(0)\n",
    "        node = path[-1]\n",
    "         \n",
    "        # проверяем, что текущий узел не был посещён\n",
    "        if node not in explored:\n",
    "            neighbours = graph[node]\n",
    "             \n",
    "            # проходим по соседям текущего узла\n",
    "            for neighbour in neighbours:\n",
    "                new_path = list(path)\n",
    "                new_path.append(neighbour)\n",
    "                queue.append(new_path)\n",
    "                 \n",
    "                # проверяем, является ли соседний узел искомым\n",
    "                if neighbour == goal:\n",
    "                    print(\"Shortest path = \", *new_path)\n",
    "                    return\n",
    "            explored.append(node)\n",
    " \n",
    "    # исходный и искомый узлы не связаны\n",
    "    print(\"So sorry, but a connecting\"\\\n",
    "                \"path doesn't exist :(\")\n",
    "    return"
   ]
  },
  {
   "cell_type": "markdown",
   "id": "cc423d23",
   "metadata": {},
   "source": [
    "## Применение функции обхода в ширину для поиска кратчашего пути между двумя вершинами графа для произвольного графа"
   ]
  },
  {
   "cell_type": "code",
   "execution_count": 21,
   "id": "92e8c843",
   "metadata": {},
   "outputs": [],
   "source": [
    "# формируем нужную структуру связей вершин для функции поиска\n",
    "graph = {node: list(neighbours) for node, neighbours in G.adj.items()}"
   ]
  },
  {
   "cell_type": "code",
   "execution_count": 22,
   "id": "0da1ede9",
   "metadata": {},
   "outputs": [
    {
     "data": {
      "text/plain": [
       "{'1': ['2', '4'],\n",
       " '2': ['1', '3'],\n",
       " '3': ['4', '2'],\n",
       " '4': ['3', '1'],\n",
       " '5': ['6'],\n",
       " '6': ['5', '7'],\n",
       " '7': ['6']}"
      ]
     },
     "execution_count": 22,
     "metadata": {},
     "output_type": "execute_result"
    }
   ],
   "source": [
    "graph"
   ]
  },
  {
   "cell_type": "code",
   "execution_count": 25,
   "id": "faba350e",
   "metadata": {},
   "outputs": [
    {
     "name": "stdout",
     "output_type": "stream",
     "text": [
      "Введите первую вершину: 2\n",
      "Введите вторую вершину: 4\n",
      "Shortest path =  2 1 4\n"
     ]
    }
   ],
   "source": [
    "# задаём вершины для поиска кратчайшего пути\n",
    "node1 = input('Введите первую вершину: ')\n",
    "node2 = input('Введите вторую вершину: ')\n",
    "BFS_SP(graph, node1, node2)"
   ]
  }
 ],
 "metadata": {
  "kernelspec": {
   "display_name": "Python 3",
   "language": "python",
   "name": "python3"
  },
  "language_info": {
   "codemirror_mode": {
    "name": "ipython",
    "version": 3
   },
   "file_extension": ".py",
   "mimetype": "text/x-python",
   "name": "python",
   "nbconvert_exporter": "python",
   "pygments_lexer": "ipython3",
   "version": "3.8.8"
  }
 },
 "nbformat": 4,
 "nbformat_minor": 5
}
